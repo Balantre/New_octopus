{
 "cells": [
  {
   "cell_type": "markdown",
   "id": "c353de9a",
   "metadata": {},
   "source": [
    "# Проект: классификация"
   ]
  },
  {
   "cell_type": "code",
   "execution_count": 1,
   "id": "4a6e54dc",
   "metadata": {},
   "outputs": [],
   "source": [
    "import pandas as pd\n",
    "import numpy as np\n",
    "import matplotlib.pyplot as plt\n",
    "import seaborn as sns\n",
    "from  sklearn.ensemble import IsolationForest\n",
    "import warnings\n",
    "warnings.filterwarnings('ignore')\n",
    "from sklearn.preprocessing  import LabelEncoder\n",
    "from sklearn import linear_model \n",
    "from sklearn import tree \n",
    "from sklearn import ensemble \n",
    "from sklearn import metrics \n",
    "from sklearn import preprocessing \n",
    "from sklearn.model_selection import train_test_split \n",
    "from sklearn.feature_selection import SelectKBest, f_classif\n",
    "import plotly\n",
    "import plotly.express as px\n"
   ]
  },
  {
   "cell_type": "code",
   "execution_count": 110,
   "id": "c0136cdd",
   "metadata": {},
   "outputs": [],
   "source": [
    "# зафиксируем версию пакетов, чтобы эксперименты были воспроизводимы:\n",
    "!pip freeze > local_venv_requirements.txt"
   ]
  },
  {
   "cell_type": "markdown",
   "id": "71559b60",
   "metadata": {},
   "source": [
    "## Часть 1. Знакомство с данными, обработка пропусков и выбросов"
   ]
  },
  {
   "cell_type": "markdown",
   "id": "7c5e31b2",
   "metadata": {},
   "source": [
    "### Задание 1"
   ]
  },
  {
   "cell_type": "markdown",
   "id": "cc3fbee9",
   "metadata": {},
   "source": [
    "**Данные о клиентах банка**:\n",
    "\n",
    "* **age** (возраст);\n",
    "* **job** (сфера занятости);\n",
    "* **marital** (семейное положение);\n",
    "* **education** (уровень образования);\n",
    "* **default** (имеется ли просроченный кредит);\n",
    "* **housing** (имеется ли кредит на жильё);\n",
    "* **loan** (имеется ли кредит на личные нужды);\n",
    "* **balance** (баланс)."
   ]
  },
  {
   "cell_type": "markdown",
   "id": "5d448ef4",
   "metadata": {},
   "source": [
    "**Данные, связанные с последним контактом в контексте текущей маркетинговой кампании**:\n",
    "\n",
    "* **contact** (тип контакта с клиентом);\n",
    "* **month** (месяц, в котором был последний контакт);\n",
    "* **day** (день, в который был последний контакт);\n",
    "* **duration** (продолжительность контакта в секундах).\n",
    "\n"
   ]
  },
  {
   "cell_type": "markdown",
   "id": "e82cde13",
   "metadata": {},
   "source": [
    "**Прочие признаки**:\n",
    "\n",
    "* **campaign** (количество контактов с этим клиентом в течение текущей кампании);\n",
    "* **pdays** (количество пропущенных дней с момента последней маркетинговой кампании до контакта в текущей кампании);\n",
    "* **previous** (количество контактов до текущей кампании)\n",
    "* **poutcome** (результат прошлой маркетинговой кампании)\n",
    "\n",
    "**Целевая переменная**: \n",
    "\n",
    "* **deposit** которая определяет, согласится ли клиент открыть депозит в банке."
   ]
  },
  {
   "cell_type": "code",
   "execution_count": 2,
   "id": "a9bf52c5",
   "metadata": {},
   "outputs": [
    {
     "name": "stdout",
     "output_type": "stream",
     "text": [
      "(11162, 17)\n"
     ]
    },
    {
     "data": {
      "text/html": [
       "<div>\n",
       "<style scoped>\n",
       "    .dataframe tbody tr th:only-of-type {\n",
       "        vertical-align: middle;\n",
       "    }\n",
       "\n",
       "    .dataframe tbody tr th {\n",
       "        vertical-align: top;\n",
       "    }\n",
       "\n",
       "    .dataframe thead th {\n",
       "        text-align: right;\n",
       "    }\n",
       "</style>\n",
       "<table border=\"1\" class=\"dataframe\">\n",
       "  <thead>\n",
       "    <tr style=\"text-align: right;\">\n",
       "      <th></th>\n",
       "      <th>age</th>\n",
       "      <th>job</th>\n",
       "      <th>marital</th>\n",
       "      <th>education</th>\n",
       "      <th>default</th>\n",
       "      <th>balance</th>\n",
       "      <th>housing</th>\n",
       "      <th>loan</th>\n",
       "      <th>contact</th>\n",
       "      <th>day</th>\n",
       "      <th>month</th>\n",
       "      <th>duration</th>\n",
       "      <th>campaign</th>\n",
       "      <th>pdays</th>\n",
       "      <th>previous</th>\n",
       "      <th>poutcome</th>\n",
       "      <th>deposit</th>\n",
       "    </tr>\n",
       "  </thead>\n",
       "  <tbody>\n",
       "    <tr>\n",
       "      <th>0</th>\n",
       "      <td>59</td>\n",
       "      <td>admin.</td>\n",
       "      <td>married</td>\n",
       "      <td>secondary</td>\n",
       "      <td>no</td>\n",
       "      <td>2 343,00 $</td>\n",
       "      <td>yes</td>\n",
       "      <td>no</td>\n",
       "      <td>unknown</td>\n",
       "      <td>5</td>\n",
       "      <td>may</td>\n",
       "      <td>1042</td>\n",
       "      <td>1</td>\n",
       "      <td>-1</td>\n",
       "      <td>0</td>\n",
       "      <td>unknown</td>\n",
       "      <td>yes</td>\n",
       "    </tr>\n",
       "    <tr>\n",
       "      <th>1</th>\n",
       "      <td>56</td>\n",
       "      <td>admin.</td>\n",
       "      <td>married</td>\n",
       "      <td>secondary</td>\n",
       "      <td>no</td>\n",
       "      <td>45,00 $</td>\n",
       "      <td>no</td>\n",
       "      <td>no</td>\n",
       "      <td>unknown</td>\n",
       "      <td>5</td>\n",
       "      <td>may</td>\n",
       "      <td>1467</td>\n",
       "      <td>1</td>\n",
       "      <td>-1</td>\n",
       "      <td>0</td>\n",
       "      <td>unknown</td>\n",
       "      <td>yes</td>\n",
       "    </tr>\n",
       "    <tr>\n",
       "      <th>2</th>\n",
       "      <td>41</td>\n",
       "      <td>technician</td>\n",
       "      <td>married</td>\n",
       "      <td>secondary</td>\n",
       "      <td>no</td>\n",
       "      <td>1 270,00 $</td>\n",
       "      <td>yes</td>\n",
       "      <td>no</td>\n",
       "      <td>unknown</td>\n",
       "      <td>5</td>\n",
       "      <td>may</td>\n",
       "      <td>1389</td>\n",
       "      <td>1</td>\n",
       "      <td>-1</td>\n",
       "      <td>0</td>\n",
       "      <td>unknown</td>\n",
       "      <td>yes</td>\n",
       "    </tr>\n",
       "    <tr>\n",
       "      <th>3</th>\n",
       "      <td>55</td>\n",
       "      <td>services</td>\n",
       "      <td>married</td>\n",
       "      <td>secondary</td>\n",
       "      <td>no</td>\n",
       "      <td>2 476,00 $</td>\n",
       "      <td>yes</td>\n",
       "      <td>no</td>\n",
       "      <td>unknown</td>\n",
       "      <td>5</td>\n",
       "      <td>may</td>\n",
       "      <td>579</td>\n",
       "      <td>1</td>\n",
       "      <td>-1</td>\n",
       "      <td>0</td>\n",
       "      <td>unknown</td>\n",
       "      <td>yes</td>\n",
       "    </tr>\n",
       "    <tr>\n",
       "      <th>4</th>\n",
       "      <td>54</td>\n",
       "      <td>admin.</td>\n",
       "      <td>married</td>\n",
       "      <td>tertiary</td>\n",
       "      <td>no</td>\n",
       "      <td>184,00 $</td>\n",
       "      <td>no</td>\n",
       "      <td>no</td>\n",
       "      <td>unknown</td>\n",
       "      <td>5</td>\n",
       "      <td>may</td>\n",
       "      <td>673</td>\n",
       "      <td>2</td>\n",
       "      <td>-1</td>\n",
       "      <td>0</td>\n",
       "      <td>unknown</td>\n",
       "      <td>yes</td>\n",
       "    </tr>\n",
       "  </tbody>\n",
       "</table>\n",
       "</div>"
      ],
      "text/plain": [
       "   age         job  marital  education default       balance housing loan  \\\n",
       "0   59      admin.  married  secondary      no   2 343,00 $      yes   no   \n",
       "1   56      admin.  married  secondary      no      45,00 $       no   no   \n",
       "2   41  technician  married  secondary      no   1 270,00 $      yes   no   \n",
       "3   55    services  married  secondary      no   2 476,00 $      yes   no   \n",
       "4   54      admin.  married   tertiary      no     184,00 $       no   no   \n",
       "\n",
       "   contact  day month  duration  campaign  pdays  previous poutcome deposit  \n",
       "0  unknown    5   may      1042         1     -1         0  unknown     yes  \n",
       "1  unknown    5   may      1467         1     -1         0  unknown     yes  \n",
       "2  unknown    5   may      1389         1     -1         0  unknown     yes  \n",
       "3  unknown    5   may       579         1     -1         0  unknown     yes  \n",
       "4  unknown    5   may       673         2     -1         0  unknown     yes  "
      ]
     },
     "execution_count": 2,
     "metadata": {},
     "output_type": "execute_result"
    }
   ],
   "source": [
    "df = pd.read_csv('bank_fin.csv', sep = ';')\n",
    "print(df.shape)\n",
    "df.head()"
   ]
  },
  {
   "cell_type": "code",
   "execution_count": 3,
   "id": "75cd3c15",
   "metadata": {},
   "outputs": [
    {
     "name": "stdout",
     "output_type": "stream",
     "text": [
      "<class 'pandas.core.frame.DataFrame'>\n",
      "RangeIndex: 11162 entries, 0 to 11161\n",
      "Data columns (total 17 columns):\n",
      " #   Column     Non-Null Count  Dtype \n",
      "---  ------     --------------  ----- \n",
      " 0   age        11162 non-null  int64 \n",
      " 1   job        11162 non-null  object\n",
      " 2   marital    11162 non-null  object\n",
      " 3   education  11162 non-null  object\n",
      " 4   default    11162 non-null  object\n",
      " 5   balance    11137 non-null  object\n",
      " 6   housing    11162 non-null  object\n",
      " 7   loan       11162 non-null  object\n",
      " 8   contact    11162 non-null  object\n",
      " 9   day        11162 non-null  int64 \n",
      " 10  month      11162 non-null  object\n",
      " 11  duration   11162 non-null  int64 \n",
      " 12  campaign   11162 non-null  int64 \n",
      " 13  pdays      11162 non-null  int64 \n",
      " 14  previous   11162 non-null  int64 \n",
      " 15  poutcome   11162 non-null  object\n",
      " 16  deposit    11162 non-null  object\n",
      "dtypes: int64(6), object(11)\n",
      "memory usage: 1.4+ MB\n"
     ]
    }
   ],
   "source": [
    "df.info()"
   ]
  },
  {
   "cell_type": "markdown",
   "id": "57ee134e",
   "metadata": {},
   "source": [
    "Мы видим, что dtypes: int64(6), object(11)\n"
   ]
  },
  {
   "cell_type": "code",
   "execution_count": 4,
   "id": "ba11dc67",
   "metadata": {},
   "outputs": [
    {
     "data": {
      "text/plain": [
       "age           0\n",
       "job           0\n",
       "marital       0\n",
       "education     0\n",
       "default       0\n",
       "balance      25\n",
       "housing       0\n",
       "loan          0\n",
       "contact       0\n",
       "day           0\n",
       "month         0\n",
       "duration      0\n",
       "campaign      0\n",
       "pdays         0\n",
       "previous      0\n",
       "poutcome      0\n",
       "deposit       0\n",
       "dtype: int64"
      ]
     },
     "execution_count": 4,
     "metadata": {},
     "output_type": "execute_result"
    }
   ],
   "source": [
    "df.isnull().sum()"
   ]
  },
  {
   "cell_type": "markdown",
   "id": "2b75775a",
   "metadata": {},
   "source": [
    "Есть явные пропуски, не большое колличество balance (25)"
   ]
  },
  {
   "cell_type": "markdown",
   "id": "6366f059",
   "metadata": {},
   "source": [
    "### Задание 2"
   ]
  },
  {
   "cell_type": "code",
   "execution_count": 5,
   "id": "b7876966",
   "metadata": {},
   "outputs": [
    {
     "data": {
      "text/plain": [
       "management       2566\n",
       "blue-collar      1944\n",
       "technician       1823\n",
       "admin.           1334\n",
       "services          923\n",
       "retired           778\n",
       "self-employed     405\n",
       "student           360\n",
       "unemployed        357\n",
       "entrepreneur      328\n",
       "housemaid         274\n",
       "unknown            70\n",
       "Name: job, dtype: int64"
      ]
     },
     "execution_count": 5,
     "metadata": {},
     "output_type": "execute_result"
    }
   ],
   "source": [
    "df['job'].value_counts()"
   ]
  },
  {
   "cell_type": "markdown",
   "id": "a81acdd2",
   "metadata": {},
   "source": [
    "В не явном выражение пропуски заполнены словом \"unknown\""
   ]
  },
  {
   "cell_type": "markdown",
   "id": "8fcf4fcd",
   "metadata": {},
   "source": [
    "### Задание 3"
   ]
  },
  {
   "cell_type": "code",
   "execution_count": 6,
   "id": "3a01be5e",
   "metadata": {},
   "outputs": [],
   "source": [
    "# преобразуйте признак balance таким образом, чтобы он корректно считывался, как вещественное число (float)\n",
    "df['balance'] = df['balance'].apply(lambda x: x if [x]==[np.nan] else float((x.replace(' ', '')).replace(',', '.').split('$')[0]))"
   ]
  },
  {
   "cell_type": "code",
   "execution_count": 7,
   "id": "9fa1c3cc",
   "metadata": {},
   "outputs": [
    {
     "data": {
      "text/plain": [
       "1529.129"
      ]
     },
     "execution_count": 7,
     "metadata": {},
     "output_type": "execute_result"
    }
   ],
   "source": [
    "round(df['balance'].mean(), 3)"
   ]
  },
  {
   "cell_type": "markdown",
   "id": "6de63fd7",
   "metadata": {},
   "source": [
    "### Задание 4"
   ]
  },
  {
   "cell_type": "code",
   "execution_count": 8,
   "id": "68105ba0",
   "metadata": {},
   "outputs": [],
   "source": [
    "# обработайте пропуски в признаки balance , заменив их на медианные значения по данному признаку\n",
    "df['balance'] = df['balance'].fillna(df['balance'].median())"
   ]
  },
  {
   "cell_type": "code",
   "execution_count": 9,
   "id": "8f3288fe",
   "metadata": {},
   "outputs": [
    {
     "data": {
      "text/plain": [
       "1526.936"
      ]
     },
     "execution_count": 9,
     "metadata": {},
     "output_type": "execute_result"
    }
   ],
   "source": [
    "round(df['balance'].mean(), 3)"
   ]
  },
  {
   "cell_type": "markdown",
   "id": "1097ec42",
   "metadata": {},
   "source": [
    "### Задание 5"
   ]
  },
  {
   "cell_type": "code",
   "execution_count": 10,
   "id": "0fa070a6",
   "metadata": {},
   "outputs": [],
   "source": [
    "# обработайте пропуски в категориальных признаках: job и education, заменив их на модальные значения\n",
    "df['job'] = df['job'].apply(lambda x: df['job'].mode()[0] if x=='unknown' else x)\n",
    "df['education'] = df['education'].apply(lambda x: df['education'].mode()[0] if x=='unknown' else x)"
   ]
  },
  {
   "cell_type": "code",
   "execution_count": 11,
   "id": "b71ee7f1",
   "metadata": {},
   "outputs": [
    {
     "name": "stdout",
     "output_type": "stream",
     "text": [
      "1598.883\n"
     ]
    }
   ],
   "source": [
    "df_copy =df[(df.job == 'management')& (df.education == 'secondary')]\n",
    "print(round(df_copy['balance'].mean(),3))"
   ]
  },
  {
   "cell_type": "markdown",
   "id": "02af77c6",
   "metadata": {},
   "source": [
    "### Задание 6"
   ]
  },
  {
   "cell_type": "code",
   "execution_count": 12,
   "id": "0476d9cc",
   "metadata": {},
   "outputs": [
    {
     "data": {
      "image/png": "[encoded data removed]",
      "text/plain": [
       "<Figure size 1500x400 with 2 Axes>"
      ]
     },
     "metadata": {},
     "output_type": "display_data"
    }
   ],
   "source": [
    "fig, axes = plt.subplots(nrows=1, ncols=2, figsize=(15, 4))\n",
    "histplot = sns.histplot(data=df, x='balance', ax=axes[0]);\n",
    "histplot.set_title('balance Distribution');\n",
    "boxplot = sns.boxplot(data=df, x='balance', ax=axes[1]);\n",
    "boxplot.set_title('balance Boxplot');"
   ]
  },
  {
   "cell_type": "code",
   "execution_count": 13,
   "id": "96eeb021",
   "metadata": {},
   "outputs": [],
   "source": [
    "# удалите все выбросы для признака balance методом межквартильного размаха (Тьюки)\n",
    "def outliers_iqr_mod_log(data, feature, log_scale=False, left=1.5, right=1.5, add_one=False): \n",
    "    if log_scale and add_one:\n",
    "        x = np.log(df[feature]+1)\n",
    "    elif log_scale and not add_one:\n",
    "        x = np.log(df[feature])\n",
    "    else:\n",
    "        x = df[feature]\n",
    "        \n",
    "    quartile_1, quartile_3 = x.quantile(0.25), x.quantile(0.75),\n",
    "    iqr = quartile_3 - quartile_1\n",
    "    lower_bound = quartile_1 - (iqr * left)\n",
    "    upper_bound = quartile_3 + (iqr * right)\n",
    "    outliers = data[(x<lower_bound) | (x> upper_bound)]\n",
    "    cleaned = data[(x>=lower_bound) & (x <= upper_bound)].reset_index().drop('index', axis=1)\n",
    "    \n",
    "    return outliers, cleaned, lower_bound, upper_bound\n",
    "\n",
    "\n"
   ]
  },
  {
   "cell_type": "code",
   "execution_count": 14,
   "id": "788c64c3",
   "metadata": {},
   "outputs": [
    {
     "name": "stdout",
     "output_type": "stream",
     "text": [
      "Число выбросов по методу Тьюки: 1057\n",
      "Результирующее число записей: 10105\n",
      "-2241 4063\n"
     ]
    }
   ],
   "source": [
    "outliers, cleaned, lower_bound, upper_bound = outliers_iqr_mod_log(df, 'balance')\n",
    "print(f'Число выбросов по методу Тьюки: {outliers.shape[0]}')\n",
    "print(f'Результирующее число записей: {cleaned.shape[0]}')\n",
    "print(round(lower_bound), round(upper_bound))"
   ]
  },
  {
   "cell_type": "code",
   "execution_count": 15,
   "id": "5a3991a7",
   "metadata": {},
   "outputs": [
    {
     "data": {
      "text/plain": [
       "10105"
      ]
     },
     "execution_count": 15,
     "metadata": {},
     "output_type": "execute_result"
    }
   ],
   "source": [
    "df = cleaned\n",
    "df.shape[0]"
   ]
  },
  {
   "cell_type": "markdown",
   "id": "5d22b8cd",
   "metadata": {},
   "source": [
    "## Часть 2:  Разведывательный анализ"
   ]
  },
  {
   "cell_type": "markdown",
   "id": "21e1f083",
   "metadata": {},
   "source": [
    "### Задание 1"
   ]
  },
  {
   "cell_type": "code",
   "execution_count": 16,
   "id": "6d0cd3a8",
   "metadata": {},
   "outputs": [
    {
     "data": {
      "text/plain": [
       "<AxesSubplot: xlabel='deposit', ylabel='count'>"
      ]
     },
     "execution_count": 16,
     "metadata": {},
     "output_type": "execute_result"
    },
    {
     "data": {
      "image/png": "[encoded data removed]",
      "text/plain": [
       "<Figure size 640x480 with 1 Axes>"
      ]
     },
     "metadata": {},
     "output_type": "display_data"
    }
   ],
   "source": [
    "# изучите соотношение классов в ваших данных на предмет несбалансированности, проиллюстрируйте результат\n",
    "sns.countplot(data=df, x='deposit')"
   ]
  },
  {
   "cell_type": "markdown",
   "id": "24172f2b",
   "metadata": {},
   "source": [
    "Классы относительно сбалансированы."
   ]
  },
  {
   "cell_type": "code",
   "execution_count": 17,
   "id": "698bcb0d",
   "metadata": {},
   "outputs": [
    {
     "data": {
      "text/plain": [
       "no     5424\n",
       "yes    4681\n",
       "Name: deposit, dtype: int64"
      ]
     },
     "execution_count": 17,
     "metadata": {},
     "output_type": "execute_result"
    }
   ],
   "source": [
    "df['deposit'].value_counts()"
   ]
  },
  {
   "cell_type": "markdown",
   "id": "426b1d40",
   "metadata": {},
   "source": [
    "### Задания 2 и 3"
   ]
  },
  {
   "cell_type": "code",
   "execution_count": 18,
   "id": "603cdb3c",
   "metadata": {},
   "outputs": [
    {
     "data": {
      "text/html": [
       "<div>\n",
       "<style scoped>\n",
       "    .dataframe tbody tr th:only-of-type {\n",
       "        vertical-align: middle;\n",
       "    }\n",
       "\n",
       "    .dataframe tbody tr th {\n",
       "        vertical-align: top;\n",
       "    }\n",
       "\n",
       "    .dataframe thead th {\n",
       "        text-align: right;\n",
       "    }\n",
       "</style>\n",
       "<table border=\"1\" class=\"dataframe\">\n",
       "  <thead>\n",
       "    <tr style=\"text-align: right;\">\n",
       "      <th></th>\n",
       "      <th>age</th>\n",
       "      <th>balance</th>\n",
       "      <th>day</th>\n",
       "      <th>duration</th>\n",
       "      <th>campaign</th>\n",
       "      <th>pdays</th>\n",
       "      <th>previous</th>\n",
       "    </tr>\n",
       "  </thead>\n",
       "  <tbody>\n",
       "    <tr>\n",
       "      <th>count</th>\n",
       "      <td>10105.000000</td>\n",
       "      <td>10105.000000</td>\n",
       "      <td>10105.000000</td>\n",
       "      <td>10105.000000</td>\n",
       "      <td>10105.000000</td>\n",
       "      <td>10105.000000</td>\n",
       "      <td>10105.000000</td>\n",
       "    </tr>\n",
       "    <tr>\n",
       "      <th>mean</th>\n",
       "      <td>40.895497</td>\n",
       "      <td>807.653538</td>\n",
       "      <td>15.590302</td>\n",
       "      <td>368.742603</td>\n",
       "      <td>2.517170</td>\n",
       "      <td>51.319644</td>\n",
       "      <td>0.816230</td>\n",
       "    </tr>\n",
       "    <tr>\n",
       "      <th>std</th>\n",
       "      <td>11.734931</td>\n",
       "      <td>994.151966</td>\n",
       "      <td>8.441510</td>\n",
       "      <td>346.651524</td>\n",
       "      <td>2.707159</td>\n",
       "      <td>109.644179</td>\n",
       "      <td>2.243795</td>\n",
       "    </tr>\n",
       "    <tr>\n",
       "      <th>min</th>\n",
       "      <td>18.000000</td>\n",
       "      <td>-2049.000000</td>\n",
       "      <td>1.000000</td>\n",
       "      <td>2.000000</td>\n",
       "      <td>1.000000</td>\n",
       "      <td>-1.000000</td>\n",
       "      <td>0.000000</td>\n",
       "    </tr>\n",
       "    <tr>\n",
       "      <th>25%</th>\n",
       "      <td>32.000000</td>\n",
       "      <td>95.000000</td>\n",
       "      <td>8.000000</td>\n",
       "      <td>137.000000</td>\n",
       "      <td>1.000000</td>\n",
       "      <td>-1.000000</td>\n",
       "      <td>0.000000</td>\n",
       "    </tr>\n",
       "    <tr>\n",
       "      <th>50%</th>\n",
       "      <td>38.000000</td>\n",
       "      <td>445.000000</td>\n",
       "      <td>15.000000</td>\n",
       "      <td>252.000000</td>\n",
       "      <td>2.000000</td>\n",
       "      <td>-1.000000</td>\n",
       "      <td>0.000000</td>\n",
       "    </tr>\n",
       "    <tr>\n",
       "      <th>75%</th>\n",
       "      <td>48.000000</td>\n",
       "      <td>1227.000000</td>\n",
       "      <td>22.000000</td>\n",
       "      <td>490.000000</td>\n",
       "      <td>3.000000</td>\n",
       "      <td>2.000000</td>\n",
       "      <td>1.000000</td>\n",
       "    </tr>\n",
       "    <tr>\n",
       "      <th>max</th>\n",
       "      <td>95.000000</td>\n",
       "      <td>4063.000000</td>\n",
       "      <td>31.000000</td>\n",
       "      <td>3881.000000</td>\n",
       "      <td>43.000000</td>\n",
       "      <td>854.000000</td>\n",
       "      <td>58.000000</td>\n",
       "    </tr>\n",
       "  </tbody>\n",
       "</table>\n",
       "</div>"
      ],
      "text/plain": [
       "                age       balance           day      duration      campaign  \\\n",
       "count  10105.000000  10105.000000  10105.000000  10105.000000  10105.000000   \n",
       "mean      40.895497    807.653538     15.590302    368.742603      2.517170   \n",
       "std       11.734931    994.151966      8.441510    346.651524      2.707159   \n",
       "min       18.000000  -2049.000000      1.000000      2.000000      1.000000   \n",
       "25%       32.000000     95.000000      8.000000    137.000000      1.000000   \n",
       "50%       38.000000    445.000000     15.000000    252.000000      2.000000   \n",
       "75%       48.000000   1227.000000     22.000000    490.000000      3.000000   \n",
       "max       95.000000   4063.000000     31.000000   3881.000000     43.000000   \n",
       "\n",
       "              pdays      previous  \n",
       "count  10105.000000  10105.000000  \n",
       "mean      51.319644      0.816230  \n",
       "std      109.644179      2.243795  \n",
       "min       -1.000000      0.000000  \n",
       "25%       -1.000000      0.000000  \n",
       "50%       -1.000000      0.000000  \n",
       "75%        2.000000      1.000000  \n",
       "max      854.000000     58.000000  "
      ]
     },
     "execution_count": 18,
     "metadata": {},
     "output_type": "execute_result"
    }
   ],
   "source": [
    "#рассчитайте описательные статистики для количественных переменных, проинтерпретируйте результат\n",
    "df.describe()"
   ]
  },
  {
   "cell_type": "code",
   "execution_count": 19,
   "id": "52ccea23",
   "metadata": {},
   "outputs": [],
   "source": [
    "# проведём замену значений целевого признака deposit на булевые: 1 - 'yes', 0 - 'no'\n",
    "df['deposit'] = df['deposit'].apply(lambda x:int(1) if x == 'yes' else int(0))"
   ]
  },
  {
   "cell_type": "code",
   "execution_count": 20,
   "id": "2a43944a",
   "metadata": {},
   "outputs": [
    {
     "data": {
      "application/vnd.plotly.v1+json": {
       "config": {
        "plotlyServerURL": "https://plot.ly"
       },
       "data": [
        {
         "hovertemplate": "age=%{x}<br>deposit=%{y}<extra></extra>",
         "legendgroup": "",
         "line": {
          "color": "#636efa",
          "dash": "solid"
         },
         "marker": {
          "symbol": "circle"
         },
         "mode": "lines",
         "name": "",
         "orientation": "v",
         "showlegend": false,
         "type": "scatter",
         "x": [
          18,
          19,
          20,
          21,
          22,
          23,
          24,
          25,
          26,
          27,
          28,
          29,
          30,
          31,
          32,
          33,
          34,
          35,
          36,
          37,
          38,
          39,
          40,
          41,
          42,
          43,
          44,
          45,
          46,
          47,
          48,
          49,
          50,
          51,
          52,
          53,
          54,
          55,
          56,
          57,
          58,
          59,
          60,
          61,
          62,
          63,
          64,
          65,
          66,
          67,
          68,
          69,
          70,
          71,
          72,
          73,
          74,
          75,
          76,
          77,
          78,
          79,
          80,
          81,
          82,
          83,
          84,
          85,
          86,
          87,
          88,
          89,
          90,
          92,
          93,
          95
         ],
         "xaxis": "x",
         "y": [
          7,
          11,
          14,
          21,
          40,
          43,
          62,
          108,
          125,
          124,
          146,
          160,
          190,
          185,
          196,
          196,
          181,
          189,
          175,
          151,
          124,
          129,
          101,
          104,
          94,
          92,
          85,
          91,
          106,
          105,
          72,
          88,
          58,
          69,
          77,
          72,
          74,
          68,
          56,
          61,
          60,
          75,
          80,
          43,
          36,
          25,
          28,
          19,
          24,
          21,
          19,
          15,
          15,
          19,
          20,
          21,
          10,
          12,
          14,
          15,
          11,
          7,
          10,
          5,
          6,
          5,
          2,
          2,
          3,
          2,
          0,
          0,
          2,
          2,
          2,
          1
         ],
         "yaxis": "y"
        }
       ],
       "layout": {
        "legend": {
         "tracegroupgap": 0
        },
        "template": {
         "data": {
          "bar": [
           {
            "error_x": {
             "color": "#2a3f5f"
            },
            "error_y": {
             "color": "#2a3f5f"
            },
            "marker": {
             "line": {
              "color": "#E5ECF6",
              "width": 0.5
             },
             "pattern": {
              "fillmode": "overlay",
              "size": 10,
              "solidity": 0.2
             }
            },
            "type": "bar"
           }
          ],
          "barpolar": [
           {
            "marker": {
             "line": {
              "color": "#E5ECF6",
              "width": 0.5
             },
             "pattern": {
              "fillmode": "overlay",
              "size": 10,
              "solidity": 0.2
             }
            },
            "type": "barpolar"
           }
          ],
          "carpet": [
           {
            "aaxis": {
             "endlinecolor": "#2a3f5f",
             "gridcolor": "white",
             "linecolor": "white",
             "minorgridcolor": "white",
             "startlinecolor": "#2a3f5f"
            },
            "baxis": {
             "endlinecolor": "#2a3f5f",
             "gridcolor": "white",
             "linecolor": "white",
             "minorgridcolor": "white",
             "startlinecolor": "#2a3f5f"
            },
            "type": "carpet"
           }
          ],
          "choropleth": [
           {
            "colorbar": {
             "outlinewidth": 0,
             "ticks": ""
            },
            "type": "choropleth"
           }
          ],
          "contour": [
           {
            "colorbar": {
             "outlinewidth": 0,
             "ticks": ""
            },
            "colorscale": [
             [
              0,
              "#0d0887"
             ],
             [
              0.1111111111111111,
              "#46039f"
             ],
             [
              0.2222222222222222,
              "#7201a8"
             ],
             [
              0.3333333333333333,
              "#9c179e"
             ],
             [
              0.4444444444444444,
              "#bd3786"
             ],
             [
              0.5555555555555556,
              "#d8576b"
             ],
             [
              0.6666666666666666,
              "#ed7953"
             ],
             [
              0.7777777777777778,
              "#fb9f3a"
             ],
             [
              0.8888888888888888,
              "#fdca26"
             ],
             [
              1,
              "#f0f921"
             ]
            ],
            "type": "contour"
           }
          ],
          "contourcarpet": [
           {
            "colorbar": {
             "outlinewidth": 0,
             "ticks": ""
            },
            "type": "contourcarpet"
           }
          ],
          "heatmap": [
           {
            "colorbar": {
             "outlinewidth": 0,
             "ticks": ""
            },
            "colorscale": [
             [
              0,
              "#0d0887"
             ],
             [
              0.1111111111111111,
              "#46039f"
             ],
             [
              0.2222222222222222,
              "#7201a8"
             ],
             [
              0.3333333333333333,
              "#9c179e"
             ],
             [
              0.4444444444444444,
              "#bd3786"
             ],
             [
              0.5555555555555556,
              "#d8576b"
             ],
             [
              0.6666666666666666,
              "#ed7953"
             ],
             [
              0.7777777777777778,
              "#fb9f3a"
             ],
             [
              0.8888888888888888,
              "#fdca26"
             ],
             [
              1,
              "#f0f921"
             ]
            ],
            "type": "heatmap"
           }
          ],
          "heatmapgl": [
           {
            "colorbar": {
             "outlinewidth": 0,
             "ticks": ""
            },
            "colorscale": [
             [
              0,
              "#0d0887"
             ],
             [
              0.1111111111111111,
              "#46039f"
             ],
             [
              0.2222222222222222,
              "#7201a8"
             ],
             [
              0.3333333333333333,
              "#9c179e"
             ],
             [
              0.4444444444444444,
              "#bd3786"
             ],
             [
              0.5555555555555556,
              "#d8576b"
             ],
             [
              0.6666666666666666,
              "#ed7953"
             ],
             [
              0.7777777777777778,
              "#fb9f3a"
             ],
             [
              0.8888888888888888,
              "#fdca26"
             ],
             [
              1,
              "#f0f921"
             ]
            ],
            "type": "heatmapgl"
           }
          ],
          "histogram": [
           {
            "marker": {
             "pattern": {
              "fillmode": "overlay",
              "size": 10,
              "solidity": 0.2
             }
            },
            "type": "histogram"
           }
          ],
          "histogram2d": [
           {
            "colorbar": {
             "outlinewidth": 0,
             "ticks": ""
            },
            "colorscale": [
             [
              0,
              "#0d0887"
             ],
             [
              0.1111111111111111,
              "#46039f"
             ],
             [
              0.2222222222222222,
              "#7201a8"
             ],
             [
              0.3333333333333333,
              "#9c179e"
             ],
             [
              0.4444444444444444,
              "#bd3786"
             ],
             [
              0.5555555555555556,
              "#d8576b"
             ],
             [
              0.6666666666666666,
              "#ed7953"
             ],
             [
              0.7777777777777778,
              "#fb9f3a"
             ],
             [
              0.8888888888888888,
              "#fdca26"
             ],
             [
              1,
              "#f0f921"
             ]
            ],
            "type": "histogram2d"
           }
          ],
          "histogram2dcontour": [
           {
            "colorbar": {
             "outlinewidth": 0,
             "ticks": ""
            },
            "colorscale": [
             [
              0,
              "#0d0887"
             ],
             [
              0.1111111111111111,
              "#46039f"
             ],
             [
              0.2222222222222222,
              "#7201a8"
             ],
             [
              0.3333333333333333,
              "#9c179e"
             ],
             [
              0.4444444444444444,
              "#bd3786"
             ],
             [
              0.5555555555555556,
              "#d8576b"
             ],
             [
              0.6666666666666666,
              "#ed7953"
             ],
             [
              0.7777777777777778,
              "#fb9f3a"
             ],
             [
              0.8888888888888888,
              "#fdca26"
             ],
             [
              1,
              "#f0f921"
             ]
            ],
            "type": "histogram2dcontour"
           }
          ],
          "mesh3d": [
           {
            "colorbar": {
             "outlinewidth": 0,
             "ticks": ""
            },
            "type": "mesh3d"
           }
          ],
          "parcoords": [
           {
            "line": {
             "colorbar": {
              "outlinewidth": 0,
              "ticks": ""
             }
            },
            "type": "parcoords"
           }
          ],
          "pie": [
           {
            "automargin": true,
            "type": "pie"
           }
          ],
          "scatter": [
           {
            "fillpattern": {
             "fillmode": "overlay",
             "size": 10,
             "solidity": 0.2
            },
            "type": "scatter"
           }
          ],
          "scatter3d": [
           {
            "line": {
             "colorbar": {
              "outlinewidth": 0,
              "ticks": ""
             }
            },
            "marker": {
             "colorbar": {
              "outlinewidth": 0,
              "ticks": ""
             }
            },
            "type": "scatter3d"
           }
          ],
          "scattercarpet": [
           {
            "marker": {
             "colorbar": {
              "outlinewidth": 0,
              "ticks": ""
             }
            },
            "type": "scattercarpet"
           }
          ],
          "scattergeo": [
           {
            "marker": {
             "colorbar": {
              "outlinewidth": 0,
              "ticks": ""
             }
            },
            "type": "scattergeo"
           }
          ],
          "scattergl": [
           {
            "marker": {
             "colorbar": {
              "outlinewidth": 0,
              "ticks": ""
             }
            },
            "type": "scattergl"
           }
          ],
          "scattermapbox": [
           {
            "marker": {
             "colorbar": {
              "outlinewidth": 0,
              "ticks": ""
             }
            },
            "type": "scattermapbox"
           }
          ],
          "scatterpolar": [
           {
            "marker": {
             "colorbar": {
              "outlinewidth": 0,
              "ticks": ""
             }
            },
            "type": "scatterpolar"
           }
          ],
          "scatterpolargl": [
           {
            "marker": {
             "colorbar": {
              "outlinewidth": 0,
              "ticks": ""
             }
            },
            "type": "scatterpolargl"
           }
          ],
          "scatterternary": [
           {
            "marker": {
             "colorbar": {
              "outlinewidth": 0,
              "ticks": ""
             }
            },
            "type": "scatterternary"
           }
          ],
          "surface": [
           {
            "colorbar": {
             "outlinewidth": 0,
             "ticks": ""
            },
            "colorscale": [
             [
              0,
              "#0d0887"
             ],
             [
              0.1111111111111111,
              "#46039f"
             ],
             [
              0.2222222222222222,
              "#7201a8"
             ],
             [
              0.3333333333333333,
              "#9c179e"
             ],
             [
              0.4444444444444444,
              "#bd3786"
             ],
             [
              0.5555555555555556,
              "#d8576b"
             ],
             [
              0.6666666666666666,
              "#ed7953"
             ],
             [
              0.7777777777777778,
              "#fb9f3a"
             ],
             [
              0.8888888888888888,
              "#fdca26"
             ],
             [
              1,
              "#f0f921"
             ]
            ],
            "type": "surface"
           }
          ],
          "table": [
           {
            "cells": {
             "fill": {
              "color": "#EBF0F8"
             },
             "line": {
              "color": "white"
             }
            },
            "header": {
             "fill": {
              "color": "#C8D4E3"
             },
             "line": {
              "color": "white"
             }
            },
            "type": "table"
           }
          ]
         },
         "layout": {
          "annotationdefaults": {
           "arrowcolor": "#2a3f5f",
           "arrowhead": 0,
           "arrowwidth": 1
          },
          "autotypenumbers": "strict",
          "coloraxis": {
           "colorbar": {
            "outlinewidth": 0,
            "ticks": ""
           }
          },
          "colorscale": {
           "diverging": [
            [
             0,
             "#8e0152"
            ],
            [
             0.1,
             "#c51b7d"
            ],
            [
             0.2,
             "#de77ae"
            ],
            [
             0.3,
             "#f1b6da"
            ],
            [
             0.4,
             "#fde0ef"
            ],
            [
             0.5,
             "#f7f7f7"
            ],
            [
             0.6,
             "#e6f5d0"
            ],
            [
             0.7,
             "#b8e186"
            ],
            [
             0.8,
             "#7fbc41"
            ],
            [
             0.9,
             "#4d9221"
            ],
            [
             1,
             "#276419"
            ]
           ],
           "sequential": [
            [
             0,
             "#0d0887"
            ],
            [
             0.1111111111111111,
             "#46039f"
            ],
            [
             0.2222222222222222,
             "#7201a8"
            ],
            [
             0.3333333333333333,
             "#9c179e"
            ],
            [
             0.4444444444444444,
             "#bd3786"
            ],
            [
             0.5555555555555556,
             "#d8576b"
            ],
            [
             0.6666666666666666,
             "#ed7953"
            ],
            [
             0.7777777777777778,
             "#fb9f3a"
            ],
            [
             0.8888888888888888,
             "#fdca26"
            ],
            [
             1,
             "#f0f921"
            ]
           ],
           "sequentialminus": [
            [
             0,
             "#0d0887"
            ],
            [
             0.1111111111111111,
             "#46039f"
            ],
            [
             0.2222222222222222,
             "#7201a8"
            ],
            [
             0.3333333333333333,
             "#9c179e"
            ],
            [
             0.4444444444444444,
             "#bd3786"
            ],
            [
             0.5555555555555556,
             "#d8576b"
            ],
            [
             0.6666666666666666,
             "#ed7953"
            ],
            [
             0.7777777777777778,
             "#fb9f3a"
            ],
            [
             0.8888888888888888,
             "#fdca26"
            ],
            [
             1,
             "#f0f921"
            ]
           ]
          },
          "colorway": [
           "#636efa",
           "#EF553B",
           "#00cc96",
           "#ab63fa",
           "#FFA15A",
           "#19d3f3",
           "#FF6692",
           "#B6E880",
           "#FF97FF",
           "#FECB52"
          ],
          "font": {
           "color": "#2a3f5f"
          },
          "geo": {
           "bgcolor": "white",
           "lakecolor": "white",
           "landcolor": "#E5ECF6",
           "showlakes": true,
           "showland": true,
           "subunitcolor": "white"
          },
          "hoverlabel": {
           "align": "left"
          },
          "hovermode": "closest",
          "mapbox": {
           "style": "light"
          },
          "paper_bgcolor": "white",
          "plot_bgcolor": "#E5ECF6",
          "polar": {
           "angularaxis": {
            "gridcolor": "white",
            "linecolor": "white",
            "ticks": ""
           },
           "bgcolor": "#E5ECF6",
           "radialaxis": {
            "gridcolor": "white",
            "linecolor": "white",
            "ticks": ""
           }
          },
          "scene": {
           "xaxis": {
            "backgroundcolor": "#E5ECF6",
            "gridcolor": "white",
            "gridwidth": 2,
            "linecolor": "white",
            "showbackground": true,
            "ticks": "",
            "zerolinecolor": "white"
           },
           "yaxis": {
            "backgroundcolor": "#E5ECF6",
            "gridcolor": "white",
            "gridwidth": 2,
            "linecolor": "white",
            "showbackground": true,
            "ticks": "",
            "zerolinecolor": "white"
           },
           "zaxis": {
            "backgroundcolor": "#E5ECF6",
            "gridcolor": "white",
            "gridwidth": 2,
            "linecolor": "white",
            "showbackground": true,
            "ticks": "",
            "zerolinecolor": "white"
           }
          },
          "shapedefaults": {
           "line": {
            "color": "#2a3f5f"
           }
          },
          "ternary": {
           "aaxis": {
            "gridcolor": "white",
            "linecolor": "white",
            "ticks": ""
           },
           "baxis": {
            "gridcolor": "white",
            "linecolor": "white",
            "ticks": ""
           },
           "bgcolor": "#E5ECF6",
           "caxis": {
            "gridcolor": "white",
            "linecolor": "white",
            "ticks": ""
           }
          },
          "title": {
           "x": 0.05
          },
          "xaxis": {
           "automargin": true,
           "gridcolor": "white",
           "linecolor": "white",
           "ticks": "",
           "title": {
            "standoff": 15
           },
           "zerolinecolor": "white",
           "zerolinewidth": 2
          },
          "yaxis": {
           "automargin": true,
           "gridcolor": "white",
           "linecolor": "white",
           "ticks": "",
           "title": {
            "standoff": 15
           },
           "zerolinecolor": "white",
           "zerolinewidth": 2
          }
         }
        },
        "title": {
         "text": "Зависимость целевого признака(deposit - клиенты открывшие депозит) от возраста(age)"
        },
        "xaxis": {
         "anchor": "y",
         "domain": [
          0,
          1
         ],
         "title": {
          "text": "age"
         }
        },
        "yaxis": {
         "anchor": "x",
         "domain": [
          0,
          1
         ],
         "title": {
          "text": "deposit"
         }
        }
       }
      }
     },
     "metadata": {},
     "output_type": "display_data"
    }
   ],
   "source": [
    "# deposit vs age\n",
    "\n",
    "fig = px.line(pd.DataFrame(df.groupby('age')['deposit'].sum()).reset_index(), x='age', y='deposit', title='Зависимость целевого признака(deposit - клиенты открывшие депозит) от возраста(age)')\n",
    "fig.show()"
   ]
  },
  {
   "cell_type": "markdown",
   "id": "9efdd20c",
   "metadata": {},
   "source": [
    "Больше всего оформляют депозиты люди в возрасте 28-37 лет, начисная с 60 лет резский скачек в низ, дальше уже медленный спад, хотя начиная с 20 лет резкий скачек вверх"
   ]
  },
  {
   "cell_type": "code",
   "execution_count": 21,
   "id": "3af0d5bf",
   "metadata": {},
   "outputs": [
    {
     "data": {
      "application/vnd.plotly.v1+json": {
       "config": {
        "plotlyServerURL": "https://plot.ly"
       },
       "data": [
        {
         "hovertemplate": "day=%{x}<br>deposit=%{y}<extra></extra>",
         "legendgroup": "",
         "line": {
          "color": "#636efa",
          "dash": "solid"
         },
         "marker": {
          "symbol": "circle"
         },
         "mode": "lines",
         "name": "",
         "orientation": "v",
         "showlegend": false,
         "type": "scatter",
         "x": [
          1,
          2,
          3,
          4,
          5,
          6,
          7,
          8,
          9,
          10,
          11,
          12,
          13,
          14,
          15,
          16,
          17,
          18,
          19,
          20,
          21,
          22,
          23,
          24,
          25,
          26,
          27,
          28,
          29,
          30,
          31
         ],
         "xaxis": "x",
         "y": [
          80,
          154,
          164,
          203,
          200,
          165,
          138,
          185,
          159,
          108,
          160,
          212,
          220,
          183,
          217,
          179,
          161,
          200,
          106,
          159,
          163,
          133,
          102,
          55,
          115,
          105,
          135,
          123,
          116,
          240,
          41
         ],
         "yaxis": "y"
        }
       ],
       "layout": {
        "legend": {
         "tracegroupgap": 0
        },
        "template": {
         "data": {
          "bar": [
           {
            "error_x": {
             "color": "#2a3f5f"
            },
            "error_y": {
             "color": "#2a3f5f"
            },
            "marker": {
             "line": {
              "color": "#E5ECF6",
              "width": 0.5
             },
             "pattern": {
              "fillmode": "overlay",
              "size": 10,
              "solidity": 0.2
             }
            },
            "type": "bar"
           }
          ],
          "barpolar": [
           {
            "marker": {
             "line": {
              "color": "#E5ECF6",
              "width": 0.5
             },
             "pattern": {
              "fillmode": "overlay",
              "size": 10,
              "solidity": 0.2
             }
            },
            "type": "barpolar"
           }
          ],
          "carpet": [
           {
            "aaxis": {
             "endlinecolor": "#2a3f5f",
             "gridcolor": "white",
             "linecolor": "white",
             "minorgridcolor": "white",
             "startlinecolor": "#2a3f5f"
            },
            "baxis": {
             "endlinecolor": "#2a3f5f",
             "gridcolor": "white",
             "linecolor": "white",
             "minorgridcolor": "white",
             "startlinecolor": "#2a3f5f"
            },
            "type": "carpet"
           }
          ],
          "choropleth": [
           {
            "colorbar": {
             "outlinewidth": 0,
             "ticks": ""
            },
            "type": "choropleth"
           }
          ],
          "contour": [
           {
            "colorbar": {
             "outlinewidth": 0,
             "ticks": ""
            },
            "colorscale": [
             [
              0,
              "#0d0887"
             ],
             [
              0.1111111111111111,
              "#46039f"
             ],
             [
              0.2222222222222222,
              "#7201a8"
             ],
             [
              0.3333333333333333,
              "#9c179e"
             ],
             [
              0.4444444444444444,
              "#bd3786"
             ],
             [
              0.5555555555555556,
              "#d8576b"
             ],
             [
              0.6666666666666666,
              "#ed7953"
             ],
             [
              0.7777777777777778,
              "#fb9f3a"
             ],
             [
              0.8888888888888888,
              "#fdca26"
             ],
             [
              1,
              "#f0f921"
             ]
            ],
            "type": "contour"
           }
          ],
          "contourcarpet": [
           {
            "colorbar": {
             "outlinewidth": 0,
             "ticks": ""
            },
            "type": "contourcarpet"
           }
          ],
          "heatmap": [
           {
            "colorbar": {
             "outlinewidth": 0,
             "ticks": ""
            },
            "colorscale": [
             [
              0,
              "#0d0887"
             ],
             [
              0.1111111111111111,
              "#46039f"
             ],
             [
              0.2222222222222222,
              "#7201a8"
             ],
             [
              0.3333333333333333,
              "#9c179e"
             ],
             [
              0.4444444444444444,
              "#bd3786"
             ],
             [
              0.5555555555555556,
              "#d8576b"
             ],
             [
              0.6666666666666666,
              "#ed7953"
             ],
             [
              0.7777777777777778,
              "#fb9f3a"
             ],
             [
              0.8888888888888888,
              "#fdca26"
             ],
             [
              1,
              "#f0f921"
             ]
            ],
            "type": "heatmap"
           }
          ],
          "heatmapgl": [
           {
            "colorbar": {
             "outlinewidth": 0,
             "ticks": ""
            },
            "colorscale": [
             [
              0,
              "#0d0887"
             ],
             [
              0.1111111111111111,
              "#46039f"
             ],
             [
              0.2222222222222222,
              "#7201a8"
             ],
             [
              0.3333333333333333,
              "#9c179e"
             ],
             [
              0.4444444444444444,
              "#bd3786"
             ],
             [
              0.5555555555555556,
              "#d8576b"
             ],
             [
              0.6666666666666666,
              "#ed7953"
             ],
             [
              0.7777777777777778,
              "#fb9f3a"
             ],
             [
              0.8888888888888888,
              "#fdca26"
             ],
             [
              1,
              "#f0f921"
             ]
            ],
            "type": "heatmapgl"
           }
          ],
          "histogram": [
           {
            "marker": {
             "pattern": {
              "fillmode": "overlay",
              "size": 10,
              "solidity": 0.2
             }
            },
            "type": "histogram"
           }
          ],
          "histogram2d": [
           {
            "colorbar": {
             "outlinewidth": 0,
             "ticks": ""
            },
            "colorscale": [
             [
              0,
              "#0d0887"
             ],
             [
              0.1111111111111111,
              "#46039f"
             ],
             [
              0.2222222222222222,
              "#7201a8"
             ],
             [
              0.3333333333333333,
              "#9c179e"
             ],
             [
              0.4444444444444444,
              "#bd3786"
             ],
             [
              0.5555555555555556,
              "#d8576b"
             ],
             [
              0.6666666666666666,
              "#ed7953"
             ],
             [
              0.7777777777777778,
              "#fb9f3a"
             ],
             [
              0.8888888888888888,
              "#fdca26"
             ],
             [
              1,
              "#f0f921"
             ]
            ],
            "type": "histogram2d"
           }
          ],
          "histogram2dcontour": [
           {
            "colorbar": {
             "outlinewidth": 0,
             "ticks": ""
            },
            "colorscale": [
             [
              0,
              "#0d0887"
             ],
             [
              0.1111111111111111,
              "#46039f"
             ],
             [
              0.2222222222222222,
              "#7201a8"
             ],
             [
              0.3333333333333333,
              "#9c179e"
             ],
             [
              0.4444444444444444,
              "#bd3786"
             ],
             [
              0.5555555555555556,
              "#d8576b"
             ],
             [
              0.6666666666666666,
              "#ed7953"
             ],
             [
              0.7777777777777778,
              "#fb9f3a"
             ],
             [
              0.8888888888888888,
              "#fdca26"
             ],
             [
              1,
              "#f0f921"
             ]
            ],
            "type": "histogram2dcontour"
           }
          ],
          "mesh3d": [
           {
            "colorbar": {
             "outlinewidth": 0,
             "ticks": ""
            },
            "type": "mesh3d"
           }
          ],
          "parcoords": [
           {
            "line": {
             "colorbar": {
              "outlinewidth": 0,
              "ticks": ""
             }
            },
            "type": "parcoords"
           }
          ],
          "pie": [
           {
            "automargin": true,
            "type": "pie"
           }
          ],
          "scatter": [
           {
            "fillpattern": {
             "fillmode": "overlay",
             "size": 10,
             "solidity": 0.2
            },
            "type": "scatter"
           }
          ],
          "scatter3d": [
           {
            "line": {
             "colorbar": {
              "outlinewidth": 0,
              "ticks": ""
             }
            },
            "marker": {
             "colorbar": {
              "outlinewidth": 0,
              "ticks": ""
             }
            },
            "type": "scatter3d"
           }
          ],
          "scattercarpet": [
           {
            "marker": {
             "colorbar": {
              "outlinewidth": 0,
              "ticks": ""
             }
            },
            "type": "scattercarpet"
           }
          ],
          "scattergeo": [
           {
            "marker": {
             "colorbar": {
              "outlinewidth": 0,
              "ticks": ""
             }
            },
            "type": "scattergeo"
           }
          ],
          "scattergl": [
           {
            "marker": {
             "colorbar": {
              "outlinewidth": 0,
              "ticks": ""
             }
            },
            "type": "scattergl"
           }
          ],
          "scattermapbox": [
           {
            "marker": {
             "colorbar": {
              "outlinewidth": 0,
              "ticks": ""
             }
            },
            "type": "scattermapbox"
           }
          ],
          "scatterpolar": [
           {
            "marker": {
             "colorbar": {
              "outlinewidth": 0,
              "ticks": ""
             }
            },
            "type": "scatterpolar"
           }
          ],
          "scatterpolargl": [
           {
            "marker": {
             "colorbar": {
              "outlinewidth": 0,
              "ticks": ""
             }
            },
            "type": "scatterpolargl"
           }
          ],
          "scatterternary": [
           {
            "marker": {
             "colorbar": {
              "outlinewidth": 0,
              "ticks": ""
             }
            },
            "type": "scatterternary"
           }
          ],
          "surface": [
           {
            "colorbar": {
             "outlinewidth": 0,
             "ticks": ""
            },
            "colorscale": [
             [
              0,
              "#0d0887"
             ],
             [
              0.1111111111111111,
              "#46039f"
             ],
             [
              0.2222222222222222,
              "#7201a8"
             ],
             [
              0.3333333333333333,
              "#9c179e"
             ],
             [
              0.4444444444444444,
              "#bd3786"
             ],
             [
              0.5555555555555556,
              "#d8576b"
             ],
             [
              0.6666666666666666,
              "#ed7953"
             ],
             [
              0.7777777777777778,
              "#fb9f3a"
             ],
             [
              0.8888888888888888,
              "#fdca26"
             ],
             [
              1,
              "#f0f921"
             ]
            ],
            "type": "surface"
           }
          ],
          "table": [
           {
            "cells": {
             "fill": {
              "color": "#EBF0F8"
             },
             "line": {
              "color": "white"
             }
            },
            "header": {
             "fill": {
              "color": "#C8D4E3"
             },
             "line": {
              "color": "white"
             }
            },
            "type": "table"
           }
          ]
         },
         "layout": {
          "annotationdefaults": {
           "arrowcolor": "#2a3f5f",
           "arrowhead": 0,
           "arrowwidth": 1
          },
          "autotypenumbers": "strict",
          "coloraxis": {
           "colorbar": {
            "outlinewidth": 0,
            "ticks": ""
           }
          },
          "colorscale": {
           "diverging": [
            [
             0,
             "#8e0152"
            ],
            [
             0.1,
             "#c51b7d"
            ],
            [
             0.2,
             "#de77ae"
            ],
            [
             0.3,
             "#f1b6da"
            ],
            [
             0.4,
             "#fde0ef"
            ],
            [
             0.5,
             "#f7f7f7"
            ],
            [
             0.6,
             "#e6f5d0"
            ],
            [
             0.7,
             "#b8e186"
            ],
            [
             0.8,
             "#7fbc41"
            ],
            [
             0.9,
             "#4d9221"
            ],
            [
             1,
             "#276419"
            ]
           ],
           "sequential": [
            [
             0,
             "#0d0887"
            ],
            [
             0.1111111111111111,
             "#46039f"
            ],
            [
             0.2222222222222222,
             "#7201a8"
            ],
            [
             0.3333333333333333,
             "#9c179e"
            ],
            [
             0.4444444444444444,
             "#bd3786"
            ],
            [
             0.5555555555555556,
             "#d8576b"
            ],
            [
             0.6666666666666666,
             "#ed7953"
            ],
            [
             0.7777777777777778,
             "#fb9f3a"
            ],
            [
             0.8888888888888888,
             "#fdca26"
            ],
            [
             1,
             "#f0f921"
            ]
           ],
           "sequentialminus": [
            [
             0,
             "#0d0887"
            ],
            [
             0.1111111111111111,
             "#46039f"
            ],
            [
             0.2222222222222222,
             "#7201a8"
            ],
            [
             0.3333333333333333,
             "#9c179e"
            ],
            [
             0.4444444444444444,
             "#bd3786"
            ],
            [
             0.5555555555555556,
             "#d8576b"
            ],
            [
             0.6666666666666666,
             "#ed7953"
            ],
            [
             0.7777777777777778,
             "#fb9f3a"
            ],
            [
             0.8888888888888888,
             "#fdca26"
            ],
            [
             1,
             "#f0f921"
            ]
           ]
          },
          "colorway": [
           "#636efa",
           "#EF553B",
           "#00cc96",
           "#ab63fa",
           "#FFA15A",
           "#19d3f3",
           "#FF6692",
           "#B6E880",
           "#FF97FF",
           "#FECB52"
          ],
          "font": {
           "color": "#2a3f5f"
          },
          "geo": {
           "bgcolor": "white",
           "lakecolor": "white",
           "landcolor": "#E5ECF6",
           "showlakes": true,
           "showland": true,
           "subunitcolor": "white"
          },
          "hoverlabel": {
           "align": "left"
          },
          "hovermode": "closest",
          "mapbox": {
           "style": "light"
          },
          "paper_bgcolor": "white",
          "plot_bgcolor": "#E5ECF6",
          "polar": {
           "angularaxis": {
            "gridcolor": "white",
            "linecolor": "white",
            "ticks": ""
           },
           "bgcolor": "#E5ECF6",
           "radialaxis": {
            "gridcolor": "white",
            "linecolor": "white",
            "ticks": ""
           }
          },
          "scene": {
           "xaxis": {
            "backgroundcolor": "#E5ECF6",
            "gridcolor": "white",
            "gridwidth": 2,
            "linecolor": "white",
            "showbackground": true,
            "ticks": "",
            "zerolinecolor": "white"
           },
           "yaxis": {
            "backgroundcolor": "#E5ECF6",
            "gridcolor": "white",
            "gridwidth": 2,
            "linecolor": "white",
            "showbackground": true,
            "ticks": "",
            "zerolinecolor": "white"
           },
           "zaxis": {
            "backgroundcolor": "#E5ECF6",
            "gridcolor": "white",
            "gridwidth": 2,
            "linecolor": "white",
            "showbackground": true,
            "ticks": "",
            "zerolinecolor": "white"
           }
          },
          "shapedefaults": {
           "line": {
            "color": "#2a3f5f"
           }
          },
          "ternary": {
           "aaxis": {
            "gridcolor": "white",
            "linecolor": "white",
            "ticks": ""
           },
           "baxis": {
            "gridcolor": "white",
            "linecolor": "white",
            "ticks": ""
           },
           "bgcolor": "#E5ECF6",
           "caxis": {
            "gridcolor": "white",
            "linecolor": "white",
            "ticks": ""
           }
          },
          "title": {
           "x": 0.05
          },
          "xaxis": {
           "automargin": true,
           "gridcolor": "white",
           "linecolor": "white",
           "ticks": "",
           "title": {
            "standoff": 15
           },
           "zerolinecolor": "white",
           "zerolinewidth": 2
          },
          "yaxis": {
           "automargin": true,
           "gridcolor": "white",
           "linecolor": "white",
           "ticks": "",
           "title": {
            "standoff": 15
           },
           "zerolinecolor": "white",
           "zerolinewidth": 2
          }
         }
        },
        "title": {
         "text": "Зависимость целевого признака(deposit - клиенты открывшие депозит) от дня месяца(day), в который был последний контакт"
        },
        "xaxis": {
         "anchor": "y",
         "domain": [
          0,
          1
         ],
         "title": {
          "text": "day"
         }
        },
        "yaxis": {
         "anchor": "x",
         "domain": [
          0,
          1
         ],
         "title": {
          "text": "deposit"
         }
        }
       }
      }
     },
     "metadata": {},
     "output_type": "display_data"
    }
   ],
   "source": [
    "# deposit vs day\n",
    "\n",
    "fig = px.line(pd.DataFrame(df.groupby('day')['deposit'].sum()).reset_index(), x='day', y='deposit', title='Зависимость целевого признака(deposit - клиенты открывшие депозит) от дня месяца(day), в который был последний контакт')\n",
    "fig.show()"
   ]
  },
  {
   "cell_type": "markdown",
   "id": "7c4d3171",
   "metadata": {},
   "source": [
    "Чаще всего клиенты открывали депозит на 30 день месяца, это логично, все хотели , что бы процент за весь следующий месяц был начислен, так же пиковые дни приходиться на 4,5,13,15 это может быть связано с тем , что люди получали зарплату и открывали депозит, минимальный приток был 24 числа, объяснить возможно, опять таки зарплатой как правило аванс меньше чем зарплата и возможно к этому времени не было денег, а если были проще было подождать до 30 дня , что бы следующий месяц был полным."
   ]
  },
  {
   "cell_type": "code",
   "execution_count": 22,
   "id": "6d985a90",
   "metadata": {},
   "outputs": [
    {
     "data": {
      "application/vnd.plotly.v1+json": {
       "config": {
        "plotlyServerURL": "https://plot.ly"
       },
       "data": [
        {
         "hovertemplate": "duration=%{x}<br>deposit=%{y}<extra></extra>",
         "legendgroup": "",
         "line": {
          "color": "#636efa",
          "dash": "solid"
         },
         "marker": {
          "symbol": "circle"
         },
         "mode": "lines",
         "name": "",
         "showlegend": false,
         "type": "scattergl",
         "x": [
          2,
          3,
          4,
          5,
          6,
          7,
          8,
          9,
          10,
          11,
          12,
          13,
          14,
          15,
          16,
          17,
          18,
          19,
          20,
          21,
          22,
          23,
          24,
          25,
          26,
          27,
          28,
          29,
          30,
          31,
          32,
          33,
          34,
          35,
          36,
          37,
          38,
          39,
          40,
          41,
          42,
          43,
          44,
          45,
          46,
          47,
          48,
          49,
          50,
          51,
          52,
          53,
          54,
          55,
          56,
          57,
          58,
          59,
          60,
          61,
          62,
          63,
          64,
          65,
          66,
          67,
          68,
          69,
          70,
          71,
          72,
          73,
          74,
          75,
          76,
          77,
          78,
          79,
          80,
          81,
          82,
          83,
          84,
          85,
          86,
          87,
          88,
          89,
          90,
          91,
          92,
          93,
          94,
          95,
          96,
          97,
          98,
          99,
          100,
          101,
          102,
          103,
          104,
          105,
          106,
          107,
          108,
          109,
          110,
          111,
          112,
          113,
          114,
          115,
          116,
          117,
          118,
          119,
          120,
          121,
          122,
          123,
          124,
          125,
          126,
          127,
          128,
          129,
          130,
          131,
          132,
          133,
          134,
          135,
          136,
          137,
          138,
          139,
          140,
          141,
          142,
          143,
          144,
          145,
          146,
          147,
          148,
          149,
          150,
          151,
          152,
          153,
          154,
          155,
          156,
          157,
          158,
          159,
          160,
          161,
          162,
          163,
          164,
          165,
          166,
          167,
          168,
          169,
          170,
          171,
          172,
          173,
          174,
          175,
          176,
          177,
          178,
          179,
          180,
          181,
          182,
          183,
          184,
          185,
          186,
          187,
          188,
          189,
          190,
          191,
          192,
          193,
          194,
          195,
          196,
          197,
          198,
          199,
          200,
          201,
          202,
          203,
          204,
          205,
          206,
          207,
          208,
          209,
          210,
          211,
          212,
          213,
          214,
          215,
          216,
          217,
          218,
          219,
          220,
          221,
          222,
          223,
          224,
          225,
          226,
          227,
          228,
          229,
          230,
          231,
          232,
          233,
          234,
          235,
          236,
          237,
          238,
          239,
          240,
          241,
          242,
          243,
          244,
          245,
          246,
          247,
          248,
          249,
          250,
          251,
          252,
          253,
          254,
          255,
          256,
          257,
          258,
          259,
          260,
          261,
          262,
          263,
          264,
          265,
          266,
          267,
          268,
          269,
          270,
          271,
          272,
          273,
          274,
          275,
          276,
          277,
          278,
          279,
          280,
          281,
          282,
          283,
          284,
          285,
          286,
          287,
          288,
          289,
          290,
          291,
          292,
          293,
          294,
          295,
          296,
          297,
          298,
          299,
          300,
          301,
          302,
          303,
          304,
          305,
          306,
          307,
          308,
          309,
          310,
          311,
          312,
          313,
          314,
          315,
          316,
          317,
          318,
          319,
          320,
          321,
          322,
          323,
          324,
          325,
          326,
          327,
          328,
          329,
          330,
          331,
          332,
          333,
          334,
          335,
          336,
          337,
          338,
          339,
          340,
          341,
          342,
          343,
          344,
          345,
          346,
          347,
          348,
          349,
          350,
          351,
          352,
          353,
          354,
          355,
          356,
          357,
          358,
          359,
          360,
          361,
          362,
          363,
          364,
          365,
          366,
          367,
          368,
          369,
          370,
          371,
          372,
          373,
          374,
          375,
          376,
          377,
          378,
          379,
          380,
          381,
          382,
          383,
          384,
          385,
          386,
          387,
          388,
          389,
          390,
          391,
          392,
          393,
          394,
          395,
          396,
          397,
          398,
          399,
          400,
          401,
          402,
          403,
          404,
          405,
          406,
          407,
          408,
          409,
          410,
          411,
          412,
          413,
          414,
          415,
          416,
          417,
          418,
          419,
          420,
          421,
          422,
          423,
          424,
          425,
          426,
          427,
          428,
          429,
          430,
          431,
          432,
          433,
          434,
          435,
          436,
          437,
          438,
          439,
          440,
          441,
          442,
          443,
          444,
          445,
          446,
          447,
          448,
          449,
          450,
          451,
          452,
          453,
          454,
          455,
          456,
          457,
          458,
          459,
          460,
          461,
          462,
          463,
          464,
          465,
          466,
          467,
          468,
          469,
          470,
          471,
          472,
          473,
          474,
          475,
          476,
          477,
          478,
          479,
          480,
          481,
          482,
          483,
          484,
          485,
          486,
          487,
          488,
          489,
          490,
          491,
          492,
          493,
          494,
          495,
          496,
          497,
          498,
          499,
          500,
          501,
          502,
          503,
          504,
          505,
          506,
          507,
          508,
          509,
          510,
          511,
          512,
          513,
          514,
          515,
          516,
          517,
          518,
          519,
          520,
          521,
          522,
          523,
          524,
          525,
          526,
          527,
          528,
          529,
          530,
          531,
          532,
          533,
          534,
          535,
          536,
          537,
          538,
          539,
          540,
          541,
          542,
          543,
          544,
          545,
          546,
          547,
          548,
          549,
          550,
          551,
          552,
          553,
          554,
          555,
          556,
          557,
          558,
          559,
          560,
          561,
          562,
          563,
          564,
          565,
          566,
          567,
          568,
          569,
          570,
          571,
          572,
          573,
          574,
          575,
          576,
          577,
          578,
          579,
          580,
          581,
          582,
          583,
          584,
          585,
          586,
          587,
          588,
          589,
          590,
          591,
          592,
          593,
          594,
          595,
          596,
          597,
          598,
          599,
          600,
          601,
          602,
          603,
          604,
          605,
          606,
          607,
          608,
          609,
          610,
          611,
          612,
          613,
          614,
          615,
          616,
          617,
          618,
          619,
          620,
          621,
          622,
          623,
          624,
          625,
          626,
          627,
          628,
          629,
          630,
          631,
          632,
          633,
          634,
          635,
          636,
          637,
          638,
          639,
          640,
          641,
          642,
          643,
          644,
          645,
          646,
          647,
          648,
          649,
          650,
          651,
          652,
          653,
          654,
          655,
          656,
          657,
          658,
          659,
          660,
          661,
          662,
          663,
          664,
          665,
          666,
          667,
          668,
          669,
          670,
          671,
          672,
          673,
          674,
          675,
          676,
          677,
          678,
          679,
          680,
          681,
          682,
          683,
          684,
          685,
          686,
          687,
          688,
          689,
          690,
          691,
          692,
          693,
          694,
          695,
          696,
          697,
          698,
          699,
          700,
          701,
          702,
          703,
          704,
          705,
          706,
          707,
          708,
          709,
          710,
          711,
          712,
          713,
          714,
          715,
          716,
          717,
          718,
          719,
          720,
          721,
          722,
          723,
          724,
          725,
          726,
          727,
          728,
          729,
          730,
          731,
          732,
          733,
          734,
          735,
          736,
          737,
          738,
          739,
          740,
          741,
          742,
          743,
          744,
          745,
          746,
          747,
          748,
          749,
          750,
          751,
          753,
          754,
          755,
          756,
          757,
          758,
          759,
          760,
          761,
          762,
          763,
          764,
          765,
          766,
          767,
          768,
          769,
          770,
          771,
          772,
          773,
          774,
          775,
          776,
          777,
          779,
          780,
          781,
          782,
          783,
          784,
          785,
          786,
          787,
          788,
          789,
          790,
          791,
          792,
          793,
          794,
          795,
          796,
          797,
          798,
          799,
          800,
          801,
          802,
          803,
          804,
          805,
          806,
          808,
          809,
          810,
          811,
          812,
          813,
          814,
          815,
          816,
          817,
          818,
          819,
          820,
          821,
          823,
          824,
          825,
          826,
          827,
          828,
          829,
          830,
          831,
          832,
          833,
          834,
          835,
          836,
          837,
          838,
          840,
          841,
          843,
          844,
          845,
          846,
          847,
          848,
          849,
          850,
          851,
          853,
          854,
          855,
          856,
          857,
          858,
          859,
          860,
          861,
          862,
          863,
          864,
          865,
          866,
          867,
          868,
          869,
          870,
          871,
          872,
          873,
          874,
          875,
          876,
          877,
          878,
          880,
          881,
          882,
          883,
          884,
          885,
          886,
          888,
          889,
          890,
          891,
          893,
          894,
          895,
          896,
          897,
          899,
          900,
          901,
          902,
          903,
          904,
          905,
          906,
          908,
          910,
          911,
          912,
          913,
          914,
          915,
          916,
          917,
          918,
          919,
          920,
          921,
          922,
          923,
          924,
          925,
          926,
          929,
          930,
          931,
          933,
          934,
          935,
          937,
          938,
          939,
          940,
          941,
          942,
          943,
          944,
          945,
          946,
          948,
          949,
          950,
          951,
          952,
          953,
          954,
          955,
          956,
          957,
          958,
          959,
          960,
          961,
          962,
          963,
          965,
          967,
          968,
          969,
          970,
          971,
          972,
          973,
          974,
          975,
          976,
          977,
          978,
          979,
          980,
          981,
          982,
          983,
          984,
          985,
          986,
          988,
          990,
          991,
          992,
          993,
          994,
          996,
          997,
          998,
          999,
          1000,
          1001,
          1002,
          1003,
          1005,
          1006,
          1007,
          1008,
          1009,
          1011,
          1012,
          1013,
          1014,
          1015,
          1017,
          1018,
          1019,
          1020,
          1022,
          1023,
          1024,
          1025,
          1027,
          1028,
          1029,
          1030,
          1031,
          1032,
          1033,
          1034,
          1035,
          1036,
          1037,
          1038,
          1039,
          1040,
          1041,
          1042,
          1044,
          1045,
          1046,
          1047,
          1048,
          1051,
          1052,
          1053,
          1055,
          1056,
          1057,
          1058,
          1059,
          1060,
          1061,
          1062,
          1063,
          1064,
          1068,
          1070,
          1073,
          1074,
          1075,
          1076,
          1077,
          1078,
          1080,
          1081,
          1082,
          1083,
          1084,
          1085,
          1086,
          1087,
          1088,
          1089,
          1090,
          1091,
          1092,
          1093,
          1094,
          1095,
          1096,
          1097,
          1100,
          1101,
          1102,
          1103,
          1104,
          1105,
          1106,
          1107,
          1109,
          1110,
          1111,
          1112,
          1119,
          1120,
          1121,
          1122,
          1123,
          1124,
          1125,
          1126,
          1127,
          1130,
          1132,
          1133,
          1134,
          1135,
          1136,
          1138,
          1139,
          1141,
          1142,
          1143,
          1144,
          1148,
          1149,
          1150,
          1151,
          1152,
          1153,
          1154,
          1156,
          1158,
          1159,
          1161,
          1162,
          1164,
          1165,
          1169,
          1171,
          1173,
          1174,
          1175,
          1176,
          1178,
          1180,
          1181,
          1182,
          1183,
          1184,
          1186,
          1187,
          1190,
          1192,
          1193,
          1195,
          1196,
          1199,
          1200,
          1201,
          1202,
          1203,
          1204,
          1205,
          1206,
          1207,
          1208,
          1209,
          1210,
          1211,
          1212,
          1217,
          1218,
          1222,
          1223,
          1226,
          1227,
          1230,
          1231,
          1232,
          1233,
          1234,
          1236,
          1237,
          1238,
          1240,
          1241,
          1242,
          1243,
          1244,
          1246,
          1248,
          1249,
          1250,
          1252,
          1255,
          1257,
          1258,
          1259,
          1262,
          1263,
          1265,
          1268,
          1272,
          1275,
          1276,
          1277,
          1279,
          1282,
          1288,
          1290,
          1293,
          1294,
          1297,
          1298,
          1303,
          1306,
          1307,
          1309,
          1310,
          1311,
          1313,
          1314,
          1318,
          1319,
          1321,
          1323,
          1327,
          1328,
          1329,
          1330,
          1332,
          1333,
          1334,
          1336,
          1340,
          1341,
          1342,
          1343,
          1344,
          1345,
          1346,
          1347,
          1348,
          1349,
          1352,
          1353,
          1357,
          1359,
          1360,
          1361,
          1363,
          1365,
          1366,
          1369,
          1370,
          1373,
          1374,
          1386,
          1387,
          1388,
          1389,
          1391,
          1392,
          1393,
          1395,
          1397,
          1399,
          1404,
          1407,
          1408,
          1410,
          1417,
          1420,
          1422,
          1424,
          1425,
          1426,
          1434,
          1438,
          1439,
          1440,
          1441,
          1446,
          1448,
          1449,
          1451,
          1452,
          1460,
          1463,
          1467,
          1468,
          1469,
          1472,
          1473,
          1476,
          1484,
          1486,
          1488,
          1489,
          1491,
          1492,
          1499,
          1500,
          1502,
          1503,
          1504,
          1508,
          1512,
          1514,
          1516,
          1521,
          1528,
          1529,
          1531,
          1532,
          1536,
          1540,
          1541,
          1543,
          1545,
          1550,
          1553,
          1554,
          1555,
          1556,
          1558,
          1560,
          1567,
          1571,
          1573,
          1574,
          1576,
          1579,
          1584,
          1594,
          1597,
          1600,
          1602,
          1603,
          1608,
          1613,
          1617,
          1622,
          1628,
          1635,
          1642,
          1649,
          1656,
          1658,
          1661,
          1663,
          1665,
          1669,
          1677,
          1689,
          1691,
          1692,
          1697,
          1702,
          1707,
          1710,
          1720,
          1721,
          1723,
          1730,
          1735,
          1740,
          1767,
          1776,
          1792,
          1806,
          1812,
          1817,
          1833,
          1835,
          1842,
          1855,
          1865,
          1867,
          1871,
          1877,
          1882,
          1916,
          1917,
          1946,
          1960,
          1962,
          1970,
          1971,
          1973,
          1975,
          1978,
          1980,
          2015,
          2016,
          2027,
          2028,
          2029,
          2053,
          2062,
          2078,
          2087,
          2093,
          2231,
          2301,
          2330,
          2420,
          2453,
          2456,
          2516,
          2621,
          2653,
          2692,
          2769,
          2770,
          2775,
          3076,
          3094,
          3102,
          3183,
          3253,
          3284,
          3881
         ],
         "xaxis": "x",
         "y": [
          0,
          0,
          0,
          0,
          0,
          0,
          1,
          0,
          0,
          1,
          0,
          0,
          0,
          0,
          0,
          0,
          0,
          0,
          0,
          0,
          0,
          1,
          0,
          1,
          0,
          0,
          0,
          0,
          1,
          0,
          0,
          0,
          1,
          0,
          0,
          0,
          0,
          1,
          0,
          0,
          0,
          0,
          0,
          0,
          0,
          0,
          0,
          1,
          0,
          0,
          0,
          0,
          0,
          0,
          0,
          0,
          0,
          0,
          0,
          1,
          0,
          4,
          0,
          3,
          0,
          1,
          0,
          1,
          0,
          4,
          0,
          0,
          0,
          2,
          1,
          0,
          3,
          2,
          5,
          3,
          3,
          4,
          3,
          1,
          1,
          3,
          1,
          6,
          3,
          6,
          3,
          4,
          4,
          7,
          4,
          7,
          3,
          1,
          3,
          4,
          3,
          2,
          6,
          3,
          6,
          7,
          6,
          1,
          5,
          1,
          4,
          3,
          3,
          6,
          3,
          4,
          5,
          3,
          6,
          4,
          6,
          2,
          6,
          8,
          6,
          5,
          5,
          2,
          6,
          8,
          7,
          5,
          7,
          8,
          12,
          7,
          6,
          6,
          8,
          4,
          5,
          7,
          11,
          3,
          5,
          7,
          9,
          7,
          9,
          5,
          8,
          9,
          10,
          8,
          11,
          6,
          12,
          8,
          7,
          6,
          5,
          6,
          10,
          10,
          9,
          11,
          4,
          13,
          10,
          8,
          7,
          10,
          4,
          11,
          8,
          8,
          8,
          7,
          6,
          8,
          13,
          7,
          4,
          9,
          9,
          14,
          6,
          5,
          8,
          3,
          13,
          9,
          11,
          9,
          7,
          0,
          4,
          6,
          8,
          7,
          7,
          6,
          8,
          6,
          9,
          13,
          9,
          11,
          10,
          10,
          12,
          8,
          7,
          12,
          11,
          7,
          9,
          8,
          10,
          9,
          8,
          7,
          12,
          6,
          16,
          11,
          7,
          14,
          8,
          9,
          13,
          7,
          8,
          6,
          8,
          6,
          7,
          11,
          5,
          7,
          8,
          11,
          8,
          10,
          5,
          7,
          9,
          3,
          11,
          10,
          10,
          12,
          5,
          10,
          4,
          9,
          7,
          7,
          11,
          17,
          10,
          11,
          6,
          12,
          9,
          7,
          13,
          6,
          13,
          10,
          6,
          6,
          5,
          6,
          7,
          5,
          8,
          8,
          5,
          6,
          9,
          3,
          7,
          3,
          2,
          6,
          10,
          9,
          6,
          4,
          3,
          11,
          6,
          9,
          9,
          9,
          5,
          6,
          8,
          13,
          5,
          5,
          6,
          10,
          5,
          4,
          6,
          10,
          6,
          4,
          3,
          6,
          10,
          8,
          7,
          9,
          7,
          4,
          1,
          4,
          4,
          10,
          8,
          8,
          7,
          9,
          6,
          5,
          7,
          6,
          6,
          2,
          3,
          9,
          7,
          3,
          4,
          4,
          6,
          7,
          11,
          4,
          10,
          7,
          2,
          7,
          2,
          6,
          8,
          7,
          8,
          6,
          5,
          8,
          5,
          3,
          6,
          4,
          6,
          7,
          4,
          6,
          4,
          6,
          9,
          7,
          4,
          7,
          5,
          6,
          7,
          5,
          4,
          3,
          6,
          7,
          6,
          7,
          5,
          4,
          7,
          5,
          7,
          8,
          5,
          5,
          7,
          4,
          7,
          3,
          6,
          4,
          8,
          6,
          9,
          3,
          6,
          2,
          8,
          5,
          2,
          3,
          6,
          3,
          8,
          5,
          3,
          8,
          1,
          9,
          10,
          3,
          8,
          11,
          6,
          7,
          4,
          5,
          4,
          3,
          4,
          6,
          3,
          2,
          7,
          6,
          2,
          5,
          4,
          5,
          4,
          1,
          5,
          2,
          4,
          2,
          4,
          4,
          2,
          4,
          7,
          6,
          5,
          6,
          2,
          4,
          2,
          10,
          3,
          1,
          4,
          7,
          4,
          3,
          5,
          5,
          8,
          5,
          7,
          2,
          6,
          3,
          5,
          4,
          1,
          11,
          0,
          3,
          5,
          3,
          5,
          4,
          5,
          8,
          7,
          3,
          4,
          9,
          4,
          4,
          10,
          4,
          0,
          6,
          4,
          3,
          2,
          5,
          1,
          5,
          3,
          3,
          6,
          4,
          5,
          2,
          4,
          3,
          5,
          3,
          1,
          3,
          7,
          2,
          6,
          6,
          4,
          5,
          3,
          4,
          3,
          6,
          3,
          5,
          3,
          2,
          2,
          5,
          4,
          1,
          5,
          5,
          5,
          6,
          6,
          2,
          6,
          5,
          3,
          9,
          7,
          3,
          1,
          4,
          6,
          4,
          3,
          4,
          4,
          3,
          4,
          7,
          1,
          3,
          5,
          2,
          2,
          2,
          3,
          5,
          6,
          4,
          8,
          4,
          5,
          1,
          3,
          1,
          6,
          3,
          10,
          6,
          2,
          5,
          4,
          6,
          4,
          3,
          3,
          3,
          2,
          1,
          10,
          1,
          7,
          7,
          6,
          5,
          3,
          1,
          4,
          5,
          1,
          6,
          4,
          6,
          5,
          2,
          5,
          5,
          4,
          3,
          3,
          4,
          2,
          1,
          2,
          1,
          4,
          2,
          1,
          3,
          6,
          3,
          5,
          4,
          6,
          3,
          4,
          5,
          2,
          1,
          5,
          5,
          4,
          4,
          5,
          5,
          2,
          2,
          3,
          7,
          2,
          5,
          2,
          3,
          1,
          5,
          3,
          2,
          3,
          5,
          4,
          4,
          4,
          4,
          7,
          4,
          5,
          7,
          5,
          2,
          3,
          7,
          2,
          1,
          4,
          4,
          5,
          8,
          3,
          4,
          6,
          2,
          2,
          3,
          6,
          3,
          2,
          2,
          6,
          4,
          5,
          2,
          4,
          5,
          3,
          5,
          6,
          4,
          2,
          2,
          4,
          1,
          9,
          2,
          2,
          3,
          1,
          4,
          4,
          2,
          1,
          2,
          7,
          5,
          3,
          1,
          3,
          5,
          3,
          2,
          4,
          4,
          6,
          2,
          2,
          5,
          6,
          5,
          0,
          4,
          4,
          4,
          3,
          6,
          2,
          8,
          4,
          2,
          6,
          1,
          1,
          2,
          8,
          3,
          4,
          2,
          4,
          2,
          5,
          0,
          2,
          3,
          2,
          3,
          4,
          4,
          4,
          2,
          4,
          3,
          2,
          2,
          5,
          5,
          2,
          4,
          4,
          2,
          2,
          2,
          5,
          4,
          3,
          2,
          1,
          2,
          3,
          4,
          3,
          2,
          1,
          1,
          2,
          4,
          2,
          2,
          4,
          3,
          6,
          3,
          3,
          3,
          7,
          4,
          1,
          1,
          3,
          2,
          2,
          3,
          5,
          1,
          2,
          1,
          2,
          5,
          2,
          3,
          2,
          1,
          2,
          4,
          5,
          1,
          0,
          1,
          2,
          1,
          1,
          2,
          3,
          0,
          2,
          3,
          2,
          4,
          2,
          4,
          1,
          1,
          2,
          8,
          1,
          2,
          1,
          3,
          4,
          3,
          5,
          2,
          2,
          0,
          4,
          3,
          1,
          1,
          2,
          1,
          1,
          2,
          3,
          5,
          4,
          1,
          2,
          2,
          4,
          5,
          3,
          5,
          4,
          2,
          2,
          2,
          3,
          2,
          1,
          2,
          2,
          3,
          4,
          1,
          3,
          3,
          4,
          3,
          4,
          2,
          1,
          4,
          1,
          3,
          2,
          2,
          0,
          1,
          4,
          1,
          1,
          2,
          1,
          1,
          3,
          3,
          4,
          2,
          2,
          2,
          3,
          2,
          5,
          1,
          3,
          3,
          1,
          3,
          2,
          3,
          2,
          5,
          3,
          4,
          2,
          3,
          2,
          1,
          4,
          3,
          4,
          4,
          1,
          2,
          3,
          3,
          3,
          2,
          2,
          0,
          1,
          1,
          2,
          3,
          2,
          3,
          2,
          3,
          3,
          2,
          3,
          2,
          2,
          3,
          2,
          1,
          1,
          4,
          1,
          3,
          2,
          2,
          1,
          2,
          3,
          2,
          2,
          2,
          0,
          3,
          1,
          2,
          5,
          0,
          2,
          3,
          2,
          2,
          4,
          2,
          0,
          3,
          1,
          2,
          2,
          3,
          4,
          1,
          2,
          1,
          0,
          2,
          2,
          1,
          2,
          1,
          2,
          1,
          1,
          1,
          1,
          1,
          4,
          3,
          0,
          2,
          2,
          1,
          1,
          2,
          2,
          2,
          3,
          3,
          0,
          4,
          2,
          2,
          1,
          1,
          2,
          4,
          3,
          1,
          1,
          2,
          1,
          1,
          4,
          4,
          2,
          3,
          1,
          3,
          1,
          1,
          1,
          2,
          2,
          1,
          4,
          1,
          2,
          1,
          3,
          1,
          3,
          1,
          2,
          3,
          1,
          1,
          2,
          3,
          2,
          2,
          0,
          2,
          3,
          1,
          1,
          1,
          1,
          2,
          1,
          2,
          2,
          1,
          2,
          7,
          3,
          1,
          1,
          3,
          1,
          1,
          3,
          2,
          2,
          4,
          4,
          1,
          0,
          2,
          1,
          1,
          1,
          1,
          2,
          1,
          3,
          2,
          2,
          1,
          1,
          1,
          2,
          0,
          3,
          2,
          1,
          1,
          1,
          1,
          1,
          3,
          1,
          1,
          1,
          2,
          4,
          1,
          1,
          2,
          1,
          1,
          1,
          2,
          3,
          1,
          3,
          4,
          3,
          1,
          3,
          1,
          4,
          1,
          3,
          1,
          2,
          2,
          2,
          1,
          2,
          2,
          1,
          2,
          1,
          1,
          1,
          1,
          3,
          2,
          1,
          1,
          2,
          1,
          1,
          2,
          1,
          1,
          3,
          2,
          2,
          1,
          1,
          2,
          2,
          1,
          3,
          0,
          1,
          2,
          1,
          2,
          1,
          2,
          1,
          4,
          1,
          3,
          1,
          1,
          1,
          1,
          1,
          1,
          1,
          2,
          2,
          2,
          1,
          1,
          0,
          3,
          1,
          1,
          1,
          1,
          1,
          1,
          2,
          4,
          1,
          1,
          1,
          1,
          2,
          1,
          1,
          1,
          1,
          1,
          1,
          1,
          1,
          2,
          1,
          4,
          1,
          1,
          1,
          1,
          1,
          1,
          3,
          1,
          1,
          1,
          1,
          2,
          1,
          1,
          1,
          1,
          2,
          1,
          1,
          1,
          1,
          1,
          1,
          1,
          1,
          1,
          1,
          1,
          1,
          2,
          2,
          2,
          2,
          1,
          1,
          2,
          1,
          2,
          1,
          1,
          1,
          1,
          1,
          2,
          2,
          2,
          0,
          2,
          1,
          1,
          0,
          1,
          2,
          1,
          0,
          1,
          1,
          1,
          1,
          2,
          1,
          1,
          1,
          1,
          1,
          1,
          1,
          1,
          1,
          1,
          3,
          1,
          1,
          1,
          0,
          0,
          1,
          1,
          1,
          2,
          3,
          1,
          2,
          1,
          1,
          1,
          2,
          1,
          1,
          1,
          1,
          0,
          1,
          1,
          1,
          1,
          1,
          1,
          1,
          1,
          1,
          1,
          0,
          1,
          1,
          1,
          1,
          0,
          2,
          0,
          1,
          1,
          1,
          1,
          1,
          1,
          1,
          1,
          1,
          1,
          2,
          1,
          1,
          1,
          0,
          1,
          1,
          2,
          2,
          2,
          1,
          1,
          1,
          1,
          1,
          1,
          1,
          1,
          1,
          1,
          1,
          1,
          1,
          1,
          1,
          1,
          1,
          1,
          1,
          1,
          1,
          1,
          1,
          1,
          1,
          1,
          1,
          1,
          2,
          2,
          1,
          1,
          1,
          0,
          1,
          2,
          1,
          2,
          0,
          1,
          1,
          1,
          1,
          1,
          1,
          1,
          2,
          2,
          1,
          1,
          1,
          1,
          1,
          1,
          1,
          1,
          1,
          1,
          1,
          1,
          1,
          2,
          0,
          1,
          1,
          0,
          1,
          1,
          1,
          1,
          1,
          1,
          1,
          1,
          1,
          1,
          1,
          1,
          1,
          1,
          1,
          1,
          1,
          1,
          1,
          1,
          1,
          1,
          0,
          1
         ],
         "yaxis": "y"
        }
       ],
       "layout": {
        "legend": {
         "tracegroupgap": 0
        },
        "template": {
         "data": {
          "bar": [
           {
            "error_x": {
             "color": "#2a3f5f"
            },
            "error_y": {
             "color": "#2a3f5f"
            },
            "marker": {
             "line": {
              "color": "#E5ECF6",
              "width": 0.5
             },
             "pattern": {
              "fillmode": "overlay",
              "size": 10,
              "solidity": 0.2
             }
            },
            "type": "bar"
           }
          ],
          "barpolar": [
           {
            "marker": {
             "line": {
              "color": "#E5ECF6",
              "width": 0.5
             },
             "pattern": {
              "fillmode": "overlay",
              "size": 10,
              "solidity": 0.2
             }
            },
            "type": "barpolar"
           }
          ],
          "carpet": [
           {
            "aaxis": {
             "endlinecolor": "#2a3f5f",
             "gridcolor": "white",
             "linecolor": "white",
             "minorgridcolor": "white",
             "startlinecolor": "#2a3f5f"
            },
            "baxis": {
             "endlinecolor": "#2a3f5f",
             "gridcolor": "white",
             "linecolor": "white",
             "minorgridcolor": "white",
             "startlinecolor": "#2a3f5f"
            },
            "type": "carpet"
           }
          ],
          "choropleth": [
           {
            "colorbar": {
             "outlinewidth": 0,
             "ticks": ""
            },
            "type": "choropleth"
           }
          ],
          "contour": [
           {
            "colorbar": {
             "outlinewidth": 0,
             "ticks": ""
            },
            "colorscale": [
             [
              0,
              "#0d0887"
             ],
             [
              0.1111111111111111,
              "#46039f"
             ],
             [
              0.2222222222222222,
              "#7201a8"
             ],
             [
              0.3333333333333333,
              "#9c179e"
             ],
             [
              0.4444444444444444,
              "#bd3786"
             ],
             [
              0.5555555555555556,
              "#d8576b"
             ],
             [
              0.6666666666666666,
              "#ed7953"
             ],
             [
              0.7777777777777778,
              "#fb9f3a"
             ],
             [
              0.8888888888888888,
              "#fdca26"
             ],
             [
              1,
              "#f0f921"
             ]
            ],
            "type": "contour"
           }
          ],
          "contourcarpet": [
           {
            "colorbar": {
             "outlinewidth": 0,
             "ticks": ""
            },
            "type": "contourcarpet"
           }
          ],
          "heatmap": [
           {
            "colorbar": {
             "outlinewidth": 0,
             "ticks": ""
            },
            "colorscale": [
             [
              0,
              "#0d0887"
             ],
             [
              0.1111111111111111,
              "#46039f"
             ],
             [
              0.2222222222222222,
              "#7201a8"
             ],
             [
              0.3333333333333333,
              "#9c179e"
             ],
             [
              0.4444444444444444,
              "#bd3786"
             ],
             [
              0.5555555555555556,
              "#d8576b"
             ],
             [
              0.6666666666666666,
              "#ed7953"
             ],
             [
              0.7777777777777778,
              "#fb9f3a"
             ],
             [
              0.8888888888888888,
              "#fdca26"
             ],
             [
              1,
              "#f0f921"
             ]
            ],
            "type": "heatmap"
           }
          ],
          "heatmapgl": [
           {
            "colorbar": {
             "outlinewidth": 0,
             "ticks": ""
            },
            "colorscale": [
             [
              0,
              "#0d0887"
             ],
             [
              0.1111111111111111,
              "#46039f"
             ],
             [
              0.2222222222222222,
              "#7201a8"
             ],
             [
              0.3333333333333333,
              "#9c179e"
             ],
             [
              0.4444444444444444,
              "#bd3786"
             ],
             [
              0.5555555555555556,
              "#d8576b"
             ],
             [
              0.6666666666666666,
              "#ed7953"
             ],
             [
              0.7777777777777778,
              "#fb9f3a"
             ],
             [
              0.8888888888888888,
              "#fdca26"
             ],
             [
              1,
              "#f0f921"
             ]
            ],
            "type": "heatmapgl"
           }
          ],
          "histogram": [
           {
            "marker": {
             "pattern": {
              "fillmode": "overlay",
              "size": 10,
              "solidity": 0.2
             }
            },
            "type": "histogram"
           }
          ],
          "histogram2d": [
           {
            "colorbar": {
             "outlinewidth": 0,
             "ticks": ""
            },
            "colorscale": [
             [
              0,
              "#0d0887"
             ],
             [
              0.1111111111111111,
              "#46039f"
             ],
             [
              0.2222222222222222,
              "#7201a8"
             ],
             [
              0.3333333333333333,
              "#9c179e"
             ],
             [
              0.4444444444444444,
              "#bd3786"
             ],
             [
              0.5555555555555556,
              "#d8576b"
             ],
             [
              0.6666666666666666,
              "#ed7953"
             ],
             [
              0.7777777777777778,
              "#fb9f3a"
             ],
             [
              0.8888888888888888,
              "#fdca26"
             ],
             [
              1,
              "#f0f921"
             ]
            ],
            "type": "histogram2d"
           }
          ],
          "histogram2dcontour": [
           {
            "colorbar": {
             "outlinewidth": 0,
             "ticks": ""
            },
            "colorscale": [
             [
              0,
              "#0d0887"
             ],
             [
              0.1111111111111111,
              "#46039f"
             ],
             [
              0.2222222222222222,
              "#7201a8"
             ],
             [
              0.3333333333333333,
              "#9c179e"
             ],
             [
              0.4444444444444444,
              "#bd3786"
             ],
             [
              0.5555555555555556,
              "#d8576b"
             ],
             [
              0.6666666666666666,
              "#ed7953"
             ],
             [
              0.7777777777777778,
              "#fb9f3a"
             ],
             [
              0.8888888888888888,
              "#fdca26"
             ],
             [
              1,
              "#f0f921"
             ]
            ],
            "type": "histogram2dcontour"
           }
          ],
          "mesh3d": [
           {
            "colorbar": {
             "outlinewidth": 0,
             "ticks": ""
            },
            "type": "mesh3d"
           }
          ],
          "parcoords": [
           {
            "line": {
             "colorbar": {
              "outlinewidth": 0,
              "ticks": ""
             }
            },
            "type": "parcoords"
           }
          ],
          "pie": [
           {
            "automargin": true,
            "type": "pie"
           }
          ],
          "scatter": [
           {
            "fillpattern": {
             "fillmode": "overlay",
             "size": 10,
             "solidity": 0.2
            },
            "type": "scatter"
           }
          ],
          "scatter3d": [
           {
            "line": {
             "colorbar": {
              "outlinewidth": 0,
              "ticks": ""
             }
            },
            "marker": {
             "colorbar": {
              "outlinewidth": 0,
              "ticks": ""
             }
            },
            "type": "scatter3d"
           }
          ],
          "scattercarpet": [
           {
            "marker": {
             "colorbar": {
              "outlinewidth": 0,
              "ticks": ""
             }
            },
            "type": "scattercarpet"
           }
          ],
          "scattergeo": [
           {
            "marker": {
             "colorbar": {
              "outlinewidth": 0,
              "ticks": ""
             }
            },
            "type": "scattergeo"
           }
          ],
          "scattergl": [
           {
            "marker": {
             "colorbar": {
              "outlinewidth": 0,
              "ticks": ""
             }
            },
            "type": "scattergl"
           }
          ],
          "scattermapbox": [
           {
            "marker": {
             "colorbar": {
              "outlinewidth": 0,
              "ticks": ""
             }
            },
            "type": "scattermapbox"
           }
          ],
          "scatterpolar": [
           {
            "marker": {
             "colorbar": {
              "outlinewidth": 0,
              "ticks": ""
             }
            },
            "type": "scatterpolar"
           }
          ],
          "scatterpolargl": [
           {
            "marker": {
             "colorbar": {
              "outlinewidth": 0,
              "ticks": ""
             }
            },
            "type": "scatterpolargl"
           }
          ],
          "scatterternary": [
           {
            "marker": {
             "colorbar": {
              "outlinewidth": 0,
              "ticks": ""
             }
            },
            "type": "scatterternary"
           }
          ],
          "surface": [
           {
            "colorbar": {
             "outlinewidth": 0,
             "ticks": ""
            },
            "colorscale": [
             [
              0,
              "#0d0887"
             ],
             [
              0.1111111111111111,
              "#46039f"
             ],
             [
              0.2222222222222222,
              "#7201a8"
             ],
             [
              0.3333333333333333,
              "#9c179e"
             ],
             [
              0.4444444444444444,
              "#bd3786"
             ],
             [
              0.5555555555555556,
              "#d8576b"
             ],
             [
              0.6666666666666666,
              "#ed7953"
             ],
             [
              0.7777777777777778,
              "#fb9f3a"
             ],
             [
              0.8888888888888888,
              "#fdca26"
             ],
             [
              1,
              "#f0f921"
             ]
            ],
            "type": "surface"
           }
          ],
          "table": [
           {
            "cells": {
             "fill": {
              "color": "#EBF0F8"
             },
             "line": {
              "color": "white"
             }
            },
            "header": {
             "fill": {
              "color": "#C8D4E3"
             },
             "line": {
              "color": "white"
             }
            },
            "type": "table"
           }
          ]
         },
         "layout": {
          "annotationdefaults": {
           "arrowcolor": "#2a3f5f",
           "arrowhead": 0,
           "arrowwidth": 1
          },
          "autotypenumbers": "strict",
          "coloraxis": {
           "colorbar": {
            "outlinewidth": 0,
            "ticks": ""
           }
          },
          "colorscale": {
           "diverging": [
            [
             0,
             "#8e0152"
            ],
            [
             0.1,
             "#c51b7d"
            ],
            [
             0.2,
             "#de77ae"
            ],
            [
             0.3,
             "#f1b6da"
            ],
            [
             0.4,
             "#fde0ef"
            ],
            [
             0.5,
             "#f7f7f7"
            ],
            [
             0.6,
             "#e6f5d0"
            ],
            [
             0.7,
             "#b8e186"
            ],
            [
             0.8,
             "#7fbc41"
            ],
            [
             0.9,
             "#4d9221"
            ],
            [
             1,
             "#276419"
            ]
           ],
           "sequential": [
            [
             0,
             "#0d0887"
            ],
            [
             0.1111111111111111,
             "#46039f"
            ],
            [
             0.2222222222222222,
             "#7201a8"
            ],
            [
             0.3333333333333333,
             "#9c179e"
            ],
            [
             0.4444444444444444,
             "#bd3786"
            ],
            [
             0.5555555555555556,
             "#d8576b"
            ],
            [
             0.6666666666666666,
             "#ed7953"
            ],
            [
             0.7777777777777778,
             "#fb9f3a"
            ],
            [
             0.8888888888888888,
             "#fdca26"
            ],
            [
             1,
             "#f0f921"
            ]
           ],
           "sequentialminus": [
            [
             0,
             "#0d0887"
            ],
            [
             0.1111111111111111,
             "#46039f"
            ],
            [
             0.2222222222222222,
             "#7201a8"
            ],
            [
             0.3333333333333333,
             "#9c179e"
            ],
            [
             0.4444444444444444,
             "#bd3786"
            ],
            [
             0.5555555555555556,
             "#d8576b"
            ],
            [
             0.6666666666666666,
             "#ed7953"
            ],
            [
             0.7777777777777778,
             "#fb9f3a"
            ],
            [
             0.8888888888888888,
             "#fdca26"
            ],
            [
             1,
             "#f0f921"
            ]
           ]
          },
          "colorway": [
           "#636efa",
           "#EF553B",
           "#00cc96",
           "#ab63fa",
           "#FFA15A",
           "#19d3f3",
           "#FF6692",
           "#B6E880",
           "#FF97FF",
           "#FECB52"
          ],
          "font": {
           "color": "#2a3f5f"
          },
          "geo": {
           "bgcolor": "white",
           "lakecolor": "white",
           "landcolor": "#E5ECF6",
           "showlakes": true,
           "showland": true,
           "subunitcolor": "white"
          },
          "hoverlabel": {
           "align": "left"
          },
          "hovermode": "closest",
          "mapbox": {
           "style": "light"
          },
          "paper_bgcolor": "white",
          "plot_bgcolor": "#E5ECF6",
          "polar": {
           "angularaxis": {
            "gridcolor": "white",
            "linecolor": "white",
            "ticks": ""
           },
           "bgcolor": "#E5ECF6",
           "radialaxis": {
            "gridcolor": "white",
            "linecolor": "white",
            "ticks": ""
           }
          },
          "scene": {
           "xaxis": {
            "backgroundcolor": "#E5ECF6",
            "gridcolor": "white",
            "gridwidth": 2,
            "linecolor": "white",
            "showbackground": true,
            "ticks": "",
            "zerolinecolor": "white"
           },
           "yaxis": {
            "backgroundcolor": "#E5ECF6",
            "gridcolor": "white",
            "gridwidth": 2,
            "linecolor": "white",
            "showbackground": true,
            "ticks": "",
            "zerolinecolor": "white"
           },
           "zaxis": {
            "backgroundcolor": "#E5ECF6",
            "gridcolor": "white",
            "gridwidth": 2,
            "linecolor": "white",
            "showbackground": true,
            "ticks": "",
            "zerolinecolor": "white"
           }
          },
          "shapedefaults": {
           "line": {
            "color": "#2a3f5f"
           }
          },
          "ternary": {
           "aaxis": {
            "gridcolor": "white",
            "linecolor": "white",
            "ticks": ""
           },
           "baxis": {
            "gridcolor": "white",
            "linecolor": "white",
            "ticks": ""
           },
           "bgcolor": "#E5ECF6",
           "caxis": {
            "gridcolor": "white",
            "linecolor": "white",
            "ticks": ""
           }
          },
          "title": {
           "x": 0.05
          },
          "xaxis": {
           "automargin": true,
           "gridcolor": "white",
           "linecolor": "white",
           "ticks": "",
           "title": {
            "standoff": 15
           },
           "zerolinecolor": "white",
           "zerolinewidth": 2
          },
          "yaxis": {
           "automargin": true,
           "gridcolor": "white",
           "linecolor": "white",
           "ticks": "",
           "title": {
            "standoff": 15
           },
           "zerolinecolor": "white",
           "zerolinewidth": 2
          }
         }
        },
        "title": {
         "text": "Зависимость целевого признака(deposit - клиенты открывшие депозит) от продолжительность контакта в секундах(duration)"
        },
        "xaxis": {
         "anchor": "y",
         "domain": [
          0,
          1
         ],
         "title": {
          "text": "duration"
         }
        },
        "yaxis": {
         "anchor": "x",
         "domain": [
          0,
          1
         ],
         "title": {
          "text": "deposit"
         }
        }
       }
      }
     },
     "metadata": {},
     "output_type": "display_data"
    }
   ],
   "source": [
    "# deposit vs duration\n",
    "\n",
    "fig = px.line(pd.DataFrame(df.groupby('duration')['deposit'].sum()).reset_index(), x='duration', y='deposit', title='Зависимость целевого признака(deposit - клиенты открывшие депозит) от продолжительность контакта в секундах(duration)')\n",
    "fig.show()"
   ]
  },
  {
   "cell_type": "markdown",
   "id": "0edaf899",
   "metadata": {},
   "source": [
    "Исходя из графика мы видим, что идеальное время 136-300 сек, хот нельзя не обратить внимание на стабильность согласия в количестве 1 депозита по мере увеличения времени разговора, хотя в теории с увеличением времени разговора вероятность согласия должна быть больше."
   ]
  },
  {
   "cell_type": "code",
   "execution_count": 23,
   "id": "17cd6e49",
   "metadata": {},
   "outputs": [
    {
     "data": {
      "application/vnd.plotly.v1+json": {
       "config": {
        "plotlyServerURL": "https://plot.ly"
       },
       "data": [
        {
         "hovertemplate": "campaign=%{x}<br>deposit=%{y}<extra></extra>",
         "legendgroup": "",
         "line": {
          "color": "#636efa",
          "dash": "solid"
         },
         "marker": {
          "symbol": "circle"
         },
         "mode": "lines",
         "name": "",
         "orientation": "v",
         "showlegend": false,
         "type": "scatter",
         "x": [
          1,
          2,
          3,
          4,
          5,
          6,
          7,
          8,
          9,
          10,
          11,
          12,
          13,
          14,
          15,
          16,
          17,
          18,
          19,
          20,
          21,
          22,
          23,
          24,
          25,
          26,
          27,
          28,
          29,
          30,
          31,
          32,
          33,
          41,
          43
         ],
         "xaxis": "x",
         "y": [
          2269,
          1246,
          546,
          272,
          125,
          82,
          42,
          30,
          15,
          12,
          13,
          4,
          6,
          4,
          4,
          2,
          5,
          0,
          0,
          1,
          0,
          0,
          0,
          1,
          0,
          0,
          0,
          0,
          1,
          0,
          0,
          1,
          0,
          0,
          0
         ],
         "yaxis": "y"
        }
       ],
       "layout": {
        "legend": {
         "tracegroupgap": 0
        },
        "template": {
         "data": {
          "bar": [
           {
            "error_x": {
             "color": "#2a3f5f"
            },
            "error_y": {
             "color": "#2a3f5f"
            },
            "marker": {
             "line": {
              "color": "#E5ECF6",
              "width": 0.5
             },
             "pattern": {
              "fillmode": "overlay",
              "size": 10,
              "solidity": 0.2
             }
            },
            "type": "bar"
           }
          ],
          "barpolar": [
           {
            "marker": {
             "line": {
              "color": "#E5ECF6",
              "width": 0.5
             },
             "pattern": {
              "fillmode": "overlay",
              "size": 10,
              "solidity": 0.2
             }
            },
            "type": "barpolar"
           }
          ],
          "carpet": [
           {
            "aaxis": {
             "endlinecolor": "#2a3f5f",
             "gridcolor": "white",
             "linecolor": "white",
             "minorgridcolor": "white",
             "startlinecolor": "#2a3f5f"
            },
            "baxis": {
             "endlinecolor": "#2a3f5f",
             "gridcolor": "white",
             "linecolor": "white",
             "minorgridcolor": "white",
             "startlinecolor": "#2a3f5f"
            },
            "type": "carpet"
           }
          ],
          "choropleth": [
           {
            "colorbar": {
             "outlinewidth": 0,
             "ticks": ""
            },
            "type": "choropleth"
           }
          ],
          "contour": [
           {
            "colorbar": {
             "outlinewidth": 0,
             "ticks": ""
            },
            "colorscale": [
             [
              0,
              "#0d0887"
             ],
             [
              0.1111111111111111,
              "#46039f"
             ],
             [
              0.2222222222222222,
              "#7201a8"
             ],
             [
              0.3333333333333333,
              "#9c179e"
             ],
             [
              0.4444444444444444,
              "#bd3786"
             ],
             [
              0.5555555555555556,
              "#d8576b"
             ],
             [
              0.6666666666666666,
              "#ed7953"
             ],
             [
              0.7777777777777778,
              "#fb9f3a"
             ],
             [
              0.8888888888888888,
              "#fdca26"
             ],
             [
              1,
              "#f0f921"
             ]
            ],
            "type": "contour"
           }
          ],
          "contourcarpet": [
           {
            "colorbar": {
             "outlinewidth": 0,
             "ticks": ""
            },
            "type": "contourcarpet"
           }
          ],
          "heatmap": [
           {
            "colorbar": {
             "outlinewidth": 0,
             "ticks": ""
            },
            "colorscale": [
             [
              0,
              "#0d0887"
             ],
             [
              0.1111111111111111,
              "#46039f"
             ],
             [
              0.2222222222222222,
              "#7201a8"
             ],
             [
              0.3333333333333333,
              "#9c179e"
             ],
             [
              0.4444444444444444,
              "#bd3786"
             ],
             [
              0.5555555555555556,
              "#d8576b"
             ],
             [
              0.6666666666666666,
              "#ed7953"
             ],
             [
              0.7777777777777778,
              "#fb9f3a"
             ],
             [
              0.8888888888888888,
              "#fdca26"
             ],
             [
              1,
              "#f0f921"
             ]
            ],
            "type": "heatmap"
           }
          ],
          "heatmapgl": [
           {
            "colorbar": {
             "outlinewidth": 0,
             "ticks": ""
            },
            "colorscale": [
             [
              0,
              "#0d0887"
             ],
             [
              0.1111111111111111,
              "#46039f"
             ],
             [
              0.2222222222222222,
              "#7201a8"
             ],
             [
              0.3333333333333333,
              "#9c179e"
             ],
             [
              0.4444444444444444,
              "#bd3786"
             ],
             [
              0.5555555555555556,
              "#d8576b"
             ],
             [
              0.6666666666666666,
              "#ed7953"
             ],
             [
              0.7777777777777778,
              "#fb9f3a"
             ],
             [
              0.8888888888888888,
              "#fdca26"
             ],
             [
              1,
              "#f0f921"
             ]
            ],
            "type": "heatmapgl"
           }
          ],
          "histogram": [
           {
            "marker": {
             "pattern": {
              "fillmode": "overlay",
              "size": 10,
              "solidity": 0.2
             }
            },
            "type": "histogram"
           }
          ],
          "histogram2d": [
           {
            "colorbar": {
             "outlinewidth": 0,
             "ticks": ""
            },
            "colorscale": [
             [
              0,
              "#0d0887"
             ],
             [
              0.1111111111111111,
              "#46039f"
             ],
             [
              0.2222222222222222,
              "#7201a8"
             ],
             [
              0.3333333333333333,
              "#9c179e"
             ],
             [
              0.4444444444444444,
              "#bd3786"
             ],
             [
              0.5555555555555556,
              "#d8576b"
             ],
             [
              0.6666666666666666,
              "#ed7953"
             ],
             [
              0.7777777777777778,
              "#fb9f3a"
             ],
             [
              0.8888888888888888,
              "#fdca26"
             ],
             [
              1,
              "#f0f921"
             ]
            ],
            "type": "histogram2d"
           }
          ],
          "histogram2dcontour": [
           {
            "colorbar": {
             "outlinewidth": 0,
             "ticks": ""
            },
            "colorscale": [
             [
              0,
              "#0d0887"
             ],
             [
              0.1111111111111111,
              "#46039f"
             ],
             [
              0.2222222222222222,
              "#7201a8"
             ],
             [
              0.3333333333333333,
              "#9c179e"
             ],
             [
              0.4444444444444444,
              "#bd3786"
             ],
             [
              0.5555555555555556,
              "#d8576b"
             ],
             [
              0.6666666666666666,
              "#ed7953"
             ],
             [
              0.7777777777777778,
              "#fb9f3a"
             ],
             [
              0.8888888888888888,
              "#fdca26"
             ],
             [
              1,
              "#f0f921"
             ]
            ],
            "type": "histogram2dcontour"
           }
          ],
          "mesh3d": [
           {
            "colorbar": {
             "outlinewidth": 0,
             "ticks": ""
            },
            "type": "mesh3d"
           }
          ],
          "parcoords": [
           {
            "line": {
             "colorbar": {
              "outlinewidth": 0,
              "ticks": ""
             }
            },
            "type": "parcoords"
           }
          ],
          "pie": [
           {
            "automargin": true,
            "type": "pie"
           }
          ],
          "scatter": [
           {
            "fillpattern": {
             "fillmode": "overlay",
             "size": 10,
             "solidity": 0.2
            },
            "type": "scatter"
           }
          ],
          "scatter3d": [
           {
            "line": {
             "colorbar": {
              "outlinewidth": 0,
              "ticks": ""
             }
            },
            "marker": {
             "colorbar": {
              "outlinewidth": 0,
              "ticks": ""
             }
            },
            "type": "scatter3d"
           }
          ],
          "scattercarpet": [
           {
            "marker": {
             "colorbar": {
              "outlinewidth": 0,
              "ticks": ""
             }
            },
            "type": "scattercarpet"
           }
          ],
          "scattergeo": [
           {
            "marker": {
             "colorbar": {
              "outlinewidth": 0,
              "ticks": ""
             }
            },
            "type": "scattergeo"
           }
          ],
          "scattergl": [
           {
            "marker": {
             "colorbar": {
              "outlinewidth": 0,
              "ticks": ""
             }
            },
            "type": "scattergl"
           }
          ],
          "scattermapbox": [
           {
            "marker": {
             "colorbar": {
              "outlinewidth": 0,
              "ticks": ""
             }
            },
            "type": "scattermapbox"
           }
          ],
          "scatterpolar": [
           {
            "marker": {
             "colorbar": {
              "outlinewidth": 0,
              "ticks": ""
             }
            },
            "type": "scatterpolar"
           }
          ],
          "scatterpolargl": [
           {
            "marker": {
             "colorbar": {
              "outlinewidth": 0,
              "ticks": ""
             }
            },
            "type": "scatterpolargl"
           }
          ],
          "scatterternary": [
           {
            "marker": {
             "colorbar": {
              "outlinewidth": 0,
              "ticks": ""
             }
            },
            "type": "scatterternary"
           }
          ],
          "surface": [
           {
            "colorbar": {
             "outlinewidth": 0,
             "ticks": ""
            },
            "colorscale": [
             [
              0,
              "#0d0887"
             ],
             [
              0.1111111111111111,
              "#46039f"
             ],
             [
              0.2222222222222222,
              "#7201a8"
             ],
             [
              0.3333333333333333,
              "#9c179e"
             ],
             [
              0.4444444444444444,
              "#bd3786"
             ],
             [
              0.5555555555555556,
              "#d8576b"
             ],
             [
              0.6666666666666666,
              "#ed7953"
             ],
             [
              0.7777777777777778,
              "#fb9f3a"
             ],
             [
              0.8888888888888888,
              "#fdca26"
             ],
             [
              1,
              "#f0f921"
             ]
            ],
            "type": "surface"
           }
          ],
          "table": [
           {
            "cells": {
             "fill": {
              "color": "#EBF0F8"
             },
             "line": {
              "color": "white"
             }
            },
            "header": {
             "fill": {
              "color": "#C8D4E3"
             },
             "line": {
              "color": "white"
             }
            },
            "type": "table"
           }
          ]
         },
         "layout": {
          "annotationdefaults": {
           "arrowcolor": "#2a3f5f",
           "arrowhead": 0,
           "arrowwidth": 1
          },
          "autotypenumbers": "strict",
          "coloraxis": {
           "colorbar": {
            "outlinewidth": 0,
            "ticks": ""
           }
          },
          "colorscale": {
           "diverging": [
            [
             0,
             "#8e0152"
            ],
            [
             0.1,
             "#c51b7d"
            ],
            [
             0.2,
             "#de77ae"
            ],
            [
             0.3,
             "#f1b6da"
            ],
            [
             0.4,
             "#fde0ef"
            ],
            [
             0.5,
             "#f7f7f7"
            ],
            [
             0.6,
             "#e6f5d0"
            ],
            [
             0.7,
             "#b8e186"
            ],
            [
             0.8,
             "#7fbc41"
            ],
            [
             0.9,
             "#4d9221"
            ],
            [
             1,
             "#276419"
            ]
           ],
           "sequential": [
            [
             0,
             "#0d0887"
            ],
            [
             0.1111111111111111,
             "#46039f"
            ],
            [
             0.2222222222222222,
             "#7201a8"
            ],
            [
             0.3333333333333333,
             "#9c179e"
            ],
            [
             0.4444444444444444,
             "#bd3786"
            ],
            [
             0.5555555555555556,
             "#d8576b"
            ],
            [
             0.6666666666666666,
             "#ed7953"
            ],
            [
             0.7777777777777778,
             "#fb9f3a"
            ],
            [
             0.8888888888888888,
             "#fdca26"
            ],
            [
             1,
             "#f0f921"
            ]
           ],
           "sequentialminus": [
            [
             0,
             "#0d0887"
            ],
            [
             0.1111111111111111,
             "#46039f"
            ],
            [
             0.2222222222222222,
             "#7201a8"
            ],
            [
             0.3333333333333333,
             "#9c179e"
            ],
            [
             0.4444444444444444,
             "#bd3786"
            ],
            [
             0.5555555555555556,
             "#d8576b"
            ],
            [
             0.6666666666666666,
             "#ed7953"
            ],
            [
             0.7777777777777778,
             "#fb9f3a"
            ],
            [
             0.8888888888888888,
             "#fdca26"
            ],
            [
             1,
             "#f0f921"
            ]
           ]
          },
          "colorway": [
           "#636efa",
           "#EF553B",
           "#00cc96",
           "#ab63fa",
           "#FFA15A",
           "#19d3f3",
           "#FF6692",
           "#B6E880",
           "#FF97FF",
           "#FECB52"
          ],
          "font": {
           "color": "#2a3f5f"
          },
          "geo": {
           "bgcolor": "white",
           "lakecolor": "white",
           "landcolor": "#E5ECF6",
           "showlakes": true,
           "showland": true,
           "subunitcolor": "white"
          },
          "hoverlabel": {
           "align": "left"
          },
          "hovermode": "closest",
          "mapbox": {
           "style": "light"
          },
          "paper_bgcolor": "white",
          "plot_bgcolor": "#E5ECF6",
          "polar": {
           "angularaxis": {
            "gridcolor": "white",
            "linecolor": "white",
            "ticks": ""
           },
           "bgcolor": "#E5ECF6",
           "radialaxis": {
            "gridcolor": "white",
            "linecolor": "white",
            "ticks": ""
           }
          },
          "scene": {
           "xaxis": {
            "backgroundcolor": "#E5ECF6",
            "gridcolor": "white",
            "gridwidth": 2,
            "linecolor": "white",
            "showbackground": true,
            "ticks": "",
            "zerolinecolor": "white"
           },
           "yaxis": {
            "backgroundcolor": "#E5ECF6",
            "gridcolor": "white",
            "gridwidth": 2,
            "linecolor": "white",
            "showbackground": true,
            "ticks": "",
            "zerolinecolor": "white"
           },
           "zaxis": {
            "backgroundcolor": "#E5ECF6",
            "gridcolor": "white",
            "gridwidth": 2,
            "linecolor": "white",
            "showbackground": true,
            "ticks": "",
            "zerolinecolor": "white"
           }
          },
          "shapedefaults": {
           "line": {
            "color": "#2a3f5f"
           }
          },
          "ternary": {
           "aaxis": {
            "gridcolor": "white",
            "linecolor": "white",
            "ticks": ""
           },
           "baxis": {
            "gridcolor": "white",
            "linecolor": "white",
            "ticks": ""
           },
           "bgcolor": "#E5ECF6",
           "caxis": {
            "gridcolor": "white",
            "linecolor": "white",
            "ticks": ""
           }
          },
          "title": {
           "x": 0.05
          },
          "xaxis": {
           "automargin": true,
           "gridcolor": "white",
           "linecolor": "white",
           "ticks": "",
           "title": {
            "standoff": 15
           },
           "zerolinecolor": "white",
           "zerolinewidth": 2
          },
          "yaxis": {
           "automargin": true,
           "gridcolor": "white",
           "linecolor": "white",
           "ticks": "",
           "title": {
            "standoff": 15
           },
           "zerolinecolor": "white",
           "zerolinewidth": 2
          }
         }
        },
        "title": {
         "text": "Зависимость целевого признака(deposit - клиенты открывшие депозит) от количество контактов с этим клиентом в течение текущей кампании(campaign)"
        },
        "xaxis": {
         "anchor": "y",
         "domain": [
          0,
          1
         ],
         "title": {
          "text": "campaign"
         }
        },
        "yaxis": {
         "anchor": "x",
         "domain": [
          0,
          1
         ],
         "title": {
          "text": "deposit"
         }
        }
       }
      }
     },
     "metadata": {},
     "output_type": "display_data"
    }
   ],
   "source": [
    "# deposit vs campaign\n",
    "\n",
    "fig = px.line(pd.DataFrame(df.groupby('campaign')['deposit'].sum()).reset_index(), x='campaign', y='deposit', title='Зависимость целевого признака(deposit - клиенты открывшие депозит) от количество контактов с этим клиентом в течение текущей кампании(campaign)')\n",
    "fig.show()"
   ]
  },
  {
   "cell_type": "markdown",
   "id": "6a8c3d3a",
   "metadata": {},
   "source": [
    "Большинство открывают депозит до 5 контактов, дальнейшие увеличение контактов не эффективно"
   ]
  },
  {
   "cell_type": "code",
   "execution_count": 24,
   "id": "332a9e2c",
   "metadata": {},
   "outputs": [
    {
     "data": {
      "application/vnd.plotly.v1+json": {
       "config": {
        "plotlyServerURL": "https://plot.ly"
       },
       "data": [
        {
         "hovertemplate": "previous=%{x}<br>deposit=%{y}<extra></extra>",
         "legendgroup": "",
         "line": {
          "color": "#636efa",
          "dash": "solid"
         },
         "marker": {
          "symbol": "circle"
         },
         "mode": "lines",
         "name": "",
         "orientation": "v",
         "showlegend": false,
         "type": "scatter",
         "x": [
          0,
          1,
          2,
          3,
          4,
          5,
          6,
          7,
          8,
          9,
          10,
          11,
          12,
          13,
          14,
          15,
          16,
          17,
          18,
          19,
          20,
          22,
          23,
          27,
          29,
          30,
          37,
          41,
          55,
          58
         ],
         "xaxis": "x",
         "y": [
          3006,
          513,
          399,
          259,
          154,
          105,
          75,
          46,
          38,
          19,
          24,
          11,
          9,
          7,
          4,
          1,
          0,
          2,
          0,
          2,
          1,
          1,
          1,
          0,
          1,
          1,
          0,
          0,
          1,
          1
         ],
         "yaxis": "y"
        }
       ],
       "layout": {
        "legend": {
         "tracegroupgap": 0
        },
        "template": {
         "data": {
          "bar": [
           {
            "error_x": {
             "color": "#2a3f5f"
            },
            "error_y": {
             "color": "#2a3f5f"
            },
            "marker": {
             "line": {
              "color": "#E5ECF6",
              "width": 0.5
             },
             "pattern": {
              "fillmode": "overlay",
              "size": 10,
              "solidity": 0.2
             }
            },
            "type": "bar"
           }
          ],
          "barpolar": [
           {
            "marker": {
             "line": {
              "color": "#E5ECF6",
              "width": 0.5
             },
             "pattern": {
              "fillmode": "overlay",
              "size": 10,
              "solidity": 0.2
             }
            },
            "type": "barpolar"
           }
          ],
          "carpet": [
           {
            "aaxis": {
             "endlinecolor": "#2a3f5f",
             "gridcolor": "white",
             "linecolor": "white",
             "minorgridcolor": "white",
             "startlinecolor": "#2a3f5f"
            },
            "baxis": {
             "endlinecolor": "#2a3f5f",
             "gridcolor": "white",
             "linecolor": "white",
             "minorgridcolor": "white",
             "startlinecolor": "#2a3f5f"
            },
            "type": "carpet"
           }
          ],
          "choropleth": [
           {
            "colorbar": {
             "outlinewidth": 0,
             "ticks": ""
            },
            "type": "choropleth"
           }
          ],
          "contour": [
           {
            "colorbar": {
             "outlinewidth": 0,
             "ticks": ""
            },
            "colorscale": [
             [
              0,
              "#0d0887"
             ],
             [
              0.1111111111111111,
              "#46039f"
             ],
             [
              0.2222222222222222,
              "#7201a8"
             ],
             [
              0.3333333333333333,
              "#9c179e"
             ],
             [
              0.4444444444444444,
              "#bd3786"
             ],
             [
              0.5555555555555556,
              "#d8576b"
             ],
             [
              0.6666666666666666,
              "#ed7953"
             ],
             [
              0.7777777777777778,
              "#fb9f3a"
             ],
             [
              0.8888888888888888,
              "#fdca26"
             ],
             [
              1,
              "#f0f921"
             ]
            ],
            "type": "contour"
           }
          ],
          "contourcarpet": [
           {
            "colorbar": {
             "outlinewidth": 0,
             "ticks": ""
            },
            "type": "contourcarpet"
           }
          ],
          "heatmap": [
           {
            "colorbar": {
             "outlinewidth": 0,
             "ticks": ""
            },
            "colorscale": [
             [
              0,
              "#0d0887"
             ],
             [
              0.1111111111111111,
              "#46039f"
             ],
             [
              0.2222222222222222,
              "#7201a8"
             ],
             [
              0.3333333333333333,
              "#9c179e"
             ],
             [
              0.4444444444444444,
              "#bd3786"
             ],
             [
              0.5555555555555556,
              "#d8576b"
             ],
             [
              0.6666666666666666,
              "#ed7953"
             ],
             [
              0.7777777777777778,
              "#fb9f3a"
             ],
             [
              0.8888888888888888,
              "#fdca26"
             ],
             [
              1,
              "#f0f921"
             ]
            ],
            "type": "heatmap"
           }
          ],
          "heatmapgl": [
           {
            "colorbar": {
             "outlinewidth": 0,
             "ticks": ""
            },
            "colorscale": [
             [
              0,
              "#0d0887"
             ],
             [
              0.1111111111111111,
              "#46039f"
             ],
             [
              0.2222222222222222,
              "#7201a8"
             ],
             [
              0.3333333333333333,
              "#9c179e"
             ],
             [
              0.4444444444444444,
              "#bd3786"
             ],
             [
              0.5555555555555556,
              "#d8576b"
             ],
             [
              0.6666666666666666,
              "#ed7953"
             ],
             [
              0.7777777777777778,
              "#fb9f3a"
             ],
             [
              0.8888888888888888,
              "#fdca26"
             ],
             [
              1,
              "#f0f921"
             ]
            ],
            "type": "heatmapgl"
           }
          ],
          "histogram": [
           {
            "marker": {
             "pattern": {
              "fillmode": "overlay",
              "size": 10,
              "solidity": 0.2
             }
            },
            "type": "histogram"
           }
          ],
          "histogram2d": [
           {
            "colorbar": {
             "outlinewidth": 0,
             "ticks": ""
            },
            "colorscale": [
             [
              0,
              "#0d0887"
             ],
             [
              0.1111111111111111,
              "#46039f"
             ],
             [
              0.2222222222222222,
              "#7201a8"
             ],
             [
              0.3333333333333333,
              "#9c179e"
             ],
             [
              0.4444444444444444,
              "#bd3786"
             ],
             [
              0.5555555555555556,
              "#d8576b"
             ],
             [
              0.6666666666666666,
              "#ed7953"
             ],
             [
              0.7777777777777778,
              "#fb9f3a"
             ],
             [
              0.8888888888888888,
              "#fdca26"
             ],
             [
              1,
              "#f0f921"
             ]
            ],
            "type": "histogram2d"
           }
          ],
          "histogram2dcontour": [
           {
            "colorbar": {
             "outlinewidth": 0,
             "ticks": ""
            },
            "colorscale": [
             [
              0,
              "#0d0887"
             ],
             [
              0.1111111111111111,
              "#46039f"
             ],
             [
              0.2222222222222222,
              "#7201a8"
             ],
             [
              0.3333333333333333,
              "#9c179e"
             ],
             [
              0.4444444444444444,
              "#bd3786"
             ],
             [
              0.5555555555555556,
              "#d8576b"
             ],
             [
              0.6666666666666666,
              "#ed7953"
             ],
             [
              0.7777777777777778,
              "#fb9f3a"
             ],
             [
              0.8888888888888888,
              "#fdca26"
             ],
             [
              1,
              "#f0f921"
             ]
            ],
            "type": "histogram2dcontour"
           }
          ],
          "mesh3d": [
           {
            "colorbar": {
             "outlinewidth": 0,
             "ticks": ""
            },
            "type": "mesh3d"
           }
          ],
          "parcoords": [
           {
            "line": {
             "colorbar": {
              "outlinewidth": 0,
              "ticks": ""
             }
            },
            "type": "parcoords"
           }
          ],
          "pie": [
           {
            "automargin": true,
            "type": "pie"
           }
          ],
          "scatter": [
           {
            "fillpattern": {
             "fillmode": "overlay",
             "size": 10,
             "solidity": 0.2
            },
            "type": "scatter"
           }
          ],
          "scatter3d": [
           {
            "line": {
             "colorbar": {
              "outlinewidth": 0,
              "ticks": ""
             }
            },
            "marker": {
             "colorbar": {
              "outlinewidth": 0,
              "ticks": ""
             }
            },
            "type": "scatter3d"
           }
          ],
          "scattercarpet": [
           {
            "marker": {
             "colorbar": {
              "outlinewidth": 0,
              "ticks": ""
             }
            },
            "type": "scattercarpet"
           }
          ],
          "scattergeo": [
           {
            "marker": {
             "colorbar": {
              "outlinewidth": 0,
              "ticks": ""
             }
            },
            "type": "scattergeo"
           }
          ],
          "scattergl": [
           {
            "marker": {
             "colorbar": {
              "outlinewidth": 0,
              "ticks": ""
             }
            },
            "type": "scattergl"
           }
          ],
          "scattermapbox": [
           {
            "marker": {
             "colorbar": {
              "outlinewidth": 0,
              "ticks": ""
             }
            },
            "type": "scattermapbox"
           }
          ],
          "scatterpolar": [
           {
            "marker": {
             "colorbar": {
              "outlinewidth": 0,
              "ticks": ""
             }
            },
            "type": "scatterpolar"
           }
          ],
          "scatterpolargl": [
           {
            "marker": {
             "colorbar": {
              "outlinewidth": 0,
              "ticks": ""
             }
            },
            "type": "scatterpolargl"
           }
          ],
          "scatterternary": [
           {
            "marker": {
             "colorbar": {
              "outlinewidth": 0,
              "ticks": ""
             }
            },
            "type": "scatterternary"
           }
          ],
          "surface": [
           {
            "colorbar": {
             "outlinewidth": 0,
             "ticks": ""
            },
            "colorscale": [
             [
              0,
              "#0d0887"
             ],
             [
              0.1111111111111111,
              "#46039f"
             ],
             [
              0.2222222222222222,
              "#7201a8"
             ],
             [
              0.3333333333333333,
              "#9c179e"
             ],
             [
              0.4444444444444444,
              "#bd3786"
             ],
             [
              0.5555555555555556,
              "#d8576b"
             ],
             [
              0.6666666666666666,
              "#ed7953"
             ],
             [
              0.7777777777777778,
              "#fb9f3a"
             ],
             [
              0.8888888888888888,
              "#fdca26"
             ],
             [
              1,
              "#f0f921"
             ]
            ],
            "type": "surface"
           }
          ],
          "table": [
           {
            "cells": {
             "fill": {
              "color": "#EBF0F8"
             },
             "line": {
              "color": "white"
             }
            },
            "header": {
             "fill": {
              "color": "#C8D4E3"
             },
             "line": {
              "color": "white"
             }
            },
            "type": "table"
           }
          ]
         },
         "layout": {
          "annotationdefaults": {
           "arrowcolor": "#2a3f5f",
           "arrowhead": 0,
           "arrowwidth": 1
          },
          "autotypenumbers": "strict",
          "coloraxis": {
           "colorbar": {
            "outlinewidth": 0,
            "ticks": ""
           }
          },
          "colorscale": {
           "diverging": [
            [
             0,
             "#8e0152"
            ],
            [
             0.1,
             "#c51b7d"
            ],
            [
             0.2,
             "#de77ae"
            ],
            [
             0.3,
             "#f1b6da"
            ],
            [
             0.4,
             "#fde0ef"
            ],
            [
             0.5,
             "#f7f7f7"
            ],
            [
             0.6,
             "#e6f5d0"
            ],
            [
             0.7,
             "#b8e186"
            ],
            [
             0.8,
             "#7fbc41"
            ],
            [
             0.9,
             "#4d9221"
            ],
            [
             1,
             "#276419"
            ]
           ],
           "sequential": [
            [
             0,
             "#0d0887"
            ],
            [
             0.1111111111111111,
             "#46039f"
            ],
            [
             0.2222222222222222,
             "#7201a8"
            ],
            [
             0.3333333333333333,
             "#9c179e"
            ],
            [
             0.4444444444444444,
             "#bd3786"
            ],
            [
             0.5555555555555556,
             "#d8576b"
            ],
            [
             0.6666666666666666,
             "#ed7953"
            ],
            [
             0.7777777777777778,
             "#fb9f3a"
            ],
            [
             0.8888888888888888,
             "#fdca26"
            ],
            [
             1,
             "#f0f921"
            ]
           ],
           "sequentialminus": [
            [
             0,
             "#0d0887"
            ],
            [
             0.1111111111111111,
             "#46039f"
            ],
            [
             0.2222222222222222,
             "#7201a8"
            ],
            [
             0.3333333333333333,
             "#9c179e"
            ],
            [
             0.4444444444444444,
             "#bd3786"
            ],
            [
             0.5555555555555556,
             "#d8576b"
            ],
            [
             0.6666666666666666,
             "#ed7953"
            ],
            [
             0.7777777777777778,
             "#fb9f3a"
            ],
            [
             0.8888888888888888,
             "#fdca26"
            ],
            [
             1,
             "#f0f921"
            ]
           ]
          },
          "colorway": [
           "#636efa",
           "#EF553B",
           "#00cc96",
           "#ab63fa",
           "#FFA15A",
           "#19d3f3",
           "#FF6692",
           "#B6E880",
           "#FF97FF",
           "#FECB52"
          ],
          "font": {
           "color": "#2a3f5f"
          },
          "geo": {
           "bgcolor": "white",
           "lakecolor": "white",
           "landcolor": "#E5ECF6",
           "showlakes": true,
           "showland": true,
           "subunitcolor": "white"
          },
          "hoverlabel": {
           "align": "left"
          },
          "hovermode": "closest",
          "mapbox": {
           "style": "light"
          },
          "paper_bgcolor": "white",
          "plot_bgcolor": "#E5ECF6",
          "polar": {
           "angularaxis": {
            "gridcolor": "white",
            "linecolor": "white",
            "ticks": ""
           },
           "bgcolor": "#E5ECF6",
           "radialaxis": {
            "gridcolor": "white",
            "linecolor": "white",
            "ticks": ""
           }
          },
          "scene": {
           "xaxis": {
            "backgroundcolor": "#E5ECF6",
            "gridcolor": "white",
            "gridwidth": 2,
            "linecolor": "white",
            "showbackground": true,
            "ticks": "",
            "zerolinecolor": "white"
           },
           "yaxis": {
            "backgroundcolor": "#E5ECF6",
            "gridcolor": "white",
            "gridwidth": 2,
            "linecolor": "white",
            "showbackground": true,
            "ticks": "",
            "zerolinecolor": "white"
           },
           "zaxis": {
            "backgroundcolor": "#E5ECF6",
            "gridcolor": "white",
            "gridwidth": 2,
            "linecolor": "white",
            "showbackground": true,
            "ticks": "",
            "zerolinecolor": "white"
           }
          },
          "shapedefaults": {
           "line": {
            "color": "#2a3f5f"
           }
          },
          "ternary": {
           "aaxis": {
            "gridcolor": "white",
            "linecolor": "white",
            "ticks": ""
           },
           "baxis": {
            "gridcolor": "white",
            "linecolor": "white",
            "ticks": ""
           },
           "bgcolor": "#E5ECF6",
           "caxis": {
            "gridcolor": "white",
            "linecolor": "white",
            "ticks": ""
           }
          },
          "title": {
           "x": 0.05
          },
          "xaxis": {
           "automargin": true,
           "gridcolor": "white",
           "linecolor": "white",
           "ticks": "",
           "title": {
            "standoff": 15
           },
           "zerolinecolor": "white",
           "zerolinewidth": 2
          },
          "yaxis": {
           "automargin": true,
           "gridcolor": "white",
           "linecolor": "white",
           "ticks": "",
           "title": {
            "standoff": 15
           },
           "zerolinecolor": "white",
           "zerolinewidth": 2
          }
         }
        },
        "title": {
         "text": "Зависимость целевого признака(deposit - клиенты открывшие депозит) от количество контактов до текущей кампании(previous)"
        },
        "xaxis": {
         "anchor": "y",
         "domain": [
          0,
          1
         ],
         "title": {
          "text": "previous"
         }
        },
        "yaxis": {
         "anchor": "x",
         "domain": [
          0,
          1
         ],
         "title": {
          "text": "deposit"
         }
        }
       }
      }
     },
     "metadata": {},
     "output_type": "display_data"
    }
   ],
   "source": [
    "# deposit vs previous\n",
    "\n",
    "fig = px.line(pd.DataFrame(df.groupby('previous')['deposit'].sum()).reset_index(), x='previous', y='deposit', title='Зависимость целевого признака(deposit - клиенты открывшие депозит) от количество контактов до текущей кампании(previous)')\n",
    "fig.show()"
   ]
  },
  {
   "cell_type": "markdown",
   "id": "f506cefe",
   "metadata": {},
   "source": [
    "Чем меньше контактов до текущей компании, тем выше шанс , что клиент откроет депозит, это можно объяснить 2 причинами, либо качество контактов плохое, либо клиенты устали от навязывания"
   ]
  },
  {
   "cell_type": "markdown",
   "id": "821dc39e",
   "metadata": {},
   "source": [
    "### Задания 4 и 5"
   ]
  },
  {
   "cell_type": "code",
   "execution_count": 25,
   "id": "bf45afc9",
   "metadata": {},
   "outputs": [
    {
     "data": {
      "text/html": [
       "<div>\n",
       "<style scoped>\n",
       "    .dataframe tbody tr th:only-of-type {\n",
       "        vertical-align: middle;\n",
       "    }\n",
       "\n",
       "    .dataframe tbody tr th {\n",
       "        vertical-align: top;\n",
       "    }\n",
       "\n",
       "    .dataframe thead th {\n",
       "        text-align: right;\n",
       "    }\n",
       "</style>\n",
       "<table border=\"1\" class=\"dataframe\">\n",
       "  <thead>\n",
       "    <tr style=\"text-align: right;\">\n",
       "      <th></th>\n",
       "      <th>job</th>\n",
       "      <th>marital</th>\n",
       "      <th>education</th>\n",
       "      <th>default</th>\n",
       "      <th>housing</th>\n",
       "      <th>loan</th>\n",
       "      <th>contact</th>\n",
       "      <th>month</th>\n",
       "      <th>poutcome</th>\n",
       "    </tr>\n",
       "  </thead>\n",
       "  <tbody>\n",
       "    <tr>\n",
       "      <th>count</th>\n",
       "      <td>10105</td>\n",
       "      <td>10105</td>\n",
       "      <td>10105</td>\n",
       "      <td>10105</td>\n",
       "      <td>10105</td>\n",
       "      <td>10105</td>\n",
       "      <td>10105</td>\n",
       "      <td>10105</td>\n",
       "      <td>10105</td>\n",
       "    </tr>\n",
       "    <tr>\n",
       "      <th>unique</th>\n",
       "      <td>11</td>\n",
       "      <td>3</td>\n",
       "      <td>3</td>\n",
       "      <td>2</td>\n",
       "      <td>2</td>\n",
       "      <td>2</td>\n",
       "      <td>3</td>\n",
       "      <td>12</td>\n",
       "      <td>4</td>\n",
       "    </tr>\n",
       "    <tr>\n",
       "      <th>top</th>\n",
       "      <td>management</td>\n",
       "      <td>married</td>\n",
       "      <td>secondary</td>\n",
       "      <td>no</td>\n",
       "      <td>no</td>\n",
       "      <td>no</td>\n",
       "      <td>cellular</td>\n",
       "      <td>may</td>\n",
       "      <td>unknown</td>\n",
       "    </tr>\n",
       "    <tr>\n",
       "      <th>freq</th>\n",
       "      <td>2315</td>\n",
       "      <td>5715</td>\n",
       "      <td>5517</td>\n",
       "      <td>9939</td>\n",
       "      <td>5243</td>\n",
       "      <td>8712</td>\n",
       "      <td>7283</td>\n",
       "      <td>2617</td>\n",
       "      <td>7570</td>\n",
       "    </tr>\n",
       "  </tbody>\n",
       "</table>\n",
       "</div>"
      ],
      "text/plain": [
       "               job  marital  education default housing   loan   contact  \\\n",
       "count        10105    10105      10105   10105   10105  10105     10105   \n",
       "unique          11        3          3       2       2      2         3   \n",
       "top     management  married  secondary      no      no     no  cellular   \n",
       "freq          2315     5715       5517    9939    5243   8712      7283   \n",
       "\n",
       "        month poutcome  \n",
       "count   10105    10105  \n",
       "unique     12        4  \n",
       "top       may  unknown  \n",
       "freq     2617     7570  "
      ]
     },
     "execution_count": 25,
     "metadata": {},
     "output_type": "execute_result"
    }
   ],
   "source": [
    "#рассчитайте описательные статистики для категориальных переменных, проинтерпретируйте результат\n",
    "df.describe(include='object')\n",
    "#постройте визуализации, иллюстрирующие результаты"
   ]
  },
  {
   "cell_type": "code",
   "execution_count": 26,
   "id": "4f159a11",
   "metadata": {},
   "outputs": [
    {
     "data": {
      "image/png": "[encoded data removed]",
      "text/plain": [
       "<Figure size 2000x600 with 10 Axes>"
      ]
     },
     "metadata": {},
     "output_type": "display_data"
    }
   ],
   "source": [
    "fig, ax = plt.subplots(2,5, figsize=(20,6))\n",
    "\n",
    "# Сфера занятости\n",
    "sns.countplot(\n",
    "    data=df, x='job', hue='deposit', \n",
    "    order=df['job'].value_counts().index, ax=ax[0,0])\n",
    "\n",
    "# Семейное положение\n",
    "sns.countplot(\n",
    "    data=df, x='marital', hue='deposit',\n",
    "    order=df['marital'].value_counts().index, ax=ax[0,1])\n",
    "\n",
    "# Уровень образования\n",
    "sns.countplot(\n",
    "    data=df, x='education', hue='deposit',\n",
    "    order=df['education'].value_counts().index, ax=ax[0,2])\n",
    "\n",
    "# Наличие просроченного кредита\n",
    "sns.countplot(\n",
    "    data=df, x='default', hue='deposit',\n",
    "    order=df['default'].value_counts().index, ax=ax[0,3])\n",
    "\n",
    "# Наличие ипотеки\n",
    "sns.countplot(\n",
    "    data=df, x='housing', hue='deposit',\n",
    "    order=df['housing'].value_counts().index, ax=ax[0,4])\n",
    "\n",
    "# Наличие потребительского кредита\n",
    "sns.countplot(\n",
    "    data=df, x='loan', hue='deposit',\n",
    "    order=df['loan'].value_counts().index, ax=ax[1,0])\n",
    "\n",
    "# Тип контакта с клиентом\n",
    "sns.countplot(\n",
    "    data=df, x='contact', hue='deposit', \n",
    "    order=df['contact'].value_counts().index, ax=ax[1,1])\n",
    "\n",
    "# Месяц последнего контакта с клиентом\n",
    "sns.countplot(\n",
    "    data=df, x='month', hue='deposit',\n",
    "    order=df['month'].value_counts().index, ax=ax[1,2])\n",
    "\n",
    "# Результат предыдущей маркетинговой кампании\n",
    "sns.countplot(\n",
    "    data=df, x='poutcome', hue='deposit',\n",
    "    order=df['poutcome'].value_counts().index, ax=ax[1,3])\n",
    "ax[0,0].tick_params(labelrotation=70)\n",
    "plt.suptitle(\n",
    "    'Categorical parameters relative to the target feature (deposit)\\n',\n",
    "    fontsize=16)\n",
    "plt.tight_layout()"
   ]
  },
  {
   "cell_type": "markdown",
   "id": "7031a51d",
   "metadata": {},
   "source": [
    "* **Работа**: больше всего открывают депозиты , оно и логично, люди с должности менеджеров, так называемых \"голубых воротничков\", то есть люди у кого есть , что вкладывать, но стоит так же обратить и на пенсионеров, не смотря на то что они в хороших середнячках по числу депозитов, но они чаще всего дают согласие, как и студенты.\n",
    "\n",
    "* **Семейное положение**: больше депозитов открывают люди в браке, хотя согласие меньше чем отказов, чего не скажешь об одиноких которые чаще соглашаются открыть чем отказываются, пусть и разница не значительная , но она есть.\n",
    "\n",
    "* **Образование**: больше всего открывают депозиты, люди со среднее образование, но чаще дают согласие с высшим\n",
    "\n",
    "* **Наличие просроченного кредита**: при отсутствие пропуска по обязательствам больше открывают депозиты\n",
    "\n",
    "* **Ипотека**: при наличии ипотеки, денег мало и это естественно, что меньше открывают депозиты и чаще говорят нет при предположении.\n",
    "\n",
    "* **Потребительский кредит** аналогичная ситуация как и с ипотекой\n",
    "\n",
    "* **Контакт**: логично, что контакт с клиентом вероятнее по мобильной связи, соответственно там больше шансов получить согласие.\n",
    "\n",
    "* **Месяцы**: чаще всего соглашались и больше всех отказывали в мае, есть предположение, что в этот месяц было больше всего контактов, так же количество отказов может быть вызвано началом лета, возможно люди собирались отдохнуть, а в остальные месяцы, за исключением лета, количество согласий больше, не смотря на то что общее количество оформленных депозитов летом больше, но это возможно связано именно с количеством контакта с клиентом.\n",
    "\n",
    "* **Предыдущая маркетинговая компания**: больше согласия, хотя очень много статуса **\"unknown\"**\n",
    "\n"
   ]
  },
  {
   "cell_type": "markdown",
   "id": "472cff5b",
   "metadata": {},
   "source": [
    "### Задание 6"
   ]
  },
  {
   "cell_type": "code",
   "execution_count": 27,
   "id": "2d640ce1",
   "metadata": {},
   "outputs": [
    {
     "data": {
      "text/html": [
       "<div>\n",
       "<style scoped>\n",
       "    .dataframe tbody tr th:only-of-type {\n",
       "        vertical-align: middle;\n",
       "    }\n",
       "\n",
       "    .dataframe tbody tr th {\n",
       "        vertical-align: top;\n",
       "    }\n",
       "\n",
       "    .dataframe thead th {\n",
       "        text-align: right;\n",
       "    }\n",
       "</style>\n",
       "<table border=\"1\" class=\"dataframe\">\n",
       "  <thead>\n",
       "    <tr style=\"text-align: right;\">\n",
       "      <th>deposit</th>\n",
       "      <th>0</th>\n",
       "      <th>1</th>\n",
       "    </tr>\n",
       "    <tr>\n",
       "      <th>poutcome</th>\n",
       "      <th></th>\n",
       "      <th></th>\n",
       "    </tr>\n",
       "  </thead>\n",
       "  <tbody>\n",
       "    <tr>\n",
       "      <th>failure</th>\n",
       "      <td>562</td>\n",
       "      <td>547</td>\n",
       "    </tr>\n",
       "    <tr>\n",
       "      <th>other</th>\n",
       "      <td>216</td>\n",
       "      <td>265</td>\n",
       "    </tr>\n",
       "    <tr>\n",
       "      <th>success</th>\n",
       "      <td>84</td>\n",
       "      <td>861</td>\n",
       "    </tr>\n",
       "    <tr>\n",
       "      <th>unknown</th>\n",
       "      <td>4562</td>\n",
       "      <td>3008</td>\n",
       "    </tr>\n",
       "  </tbody>\n",
       "</table>\n",
       "</div>"
      ],
      "text/plain": [
       "deposit      0     1\n",
       "poutcome            \n",
       "failure    562   547\n",
       "other      216   265\n",
       "success     84   861\n",
       "unknown   4562  3008"
      ]
     },
     "execution_count": 27,
     "metadata": {},
     "output_type": "execute_result"
    }
   ],
   "source": [
    "# Узнайте, для какого статуса предыдущей маркетинговой кампании успех в текущей превалирует над количеством неудач.\n",
    "df.groupby('poutcome')['deposit'].value_counts().unstack()"
   ]
  },
  {
   "cell_type": "markdown",
   "id": "9c32e3aa",
   "metadata": {},
   "source": [
    "### Задание 7"
   ]
  },
  {
   "cell_type": "code",
   "execution_count": 28,
   "id": "df437ec3",
   "metadata": {},
   "outputs": [
    {
     "data": {
      "text/html": [
       "<div>\n",
       "<style scoped>\n",
       "    .dataframe tbody tr th:only-of-type {\n",
       "        vertical-align: middle;\n",
       "    }\n",
       "\n",
       "    .dataframe tbody tr th {\n",
       "        vertical-align: top;\n",
       "    }\n",
       "\n",
       "    .dataframe thead th {\n",
       "        text-align: right;\n",
       "    }\n",
       "</style>\n",
       "<table border=\"1\" class=\"dataframe\">\n",
       "  <thead>\n",
       "    <tr style=\"text-align: right;\">\n",
       "      <th>deposit</th>\n",
       "      <th>0</th>\n",
       "      <th>1</th>\n",
       "    </tr>\n",
       "    <tr>\n",
       "      <th>month</th>\n",
       "      <th></th>\n",
       "      <th></th>\n",
       "    </tr>\n",
       "  </thead>\n",
       "  <tbody>\n",
       "    <tr>\n",
       "      <th>may</th>\n",
       "      <td>1776</td>\n",
       "      <td>841</td>\n",
       "    </tr>\n",
       "    <tr>\n",
       "      <th>jul</th>\n",
       "      <td>836</td>\n",
       "      <td>582</td>\n",
       "    </tr>\n",
       "    <tr>\n",
       "      <th>aug</th>\n",
       "      <td>775</td>\n",
       "      <td>610</td>\n",
       "    </tr>\n",
       "    <tr>\n",
       "      <th>jun</th>\n",
       "      <td>606</td>\n",
       "      <td>498</td>\n",
       "    </tr>\n",
       "    <tr>\n",
       "      <th>nov</th>\n",
       "      <td>456</td>\n",
       "      <td>324</td>\n",
       "    </tr>\n",
       "    <tr>\n",
       "      <th>feb</th>\n",
       "      <td>323</td>\n",
       "      <td>386</td>\n",
       "    </tr>\n",
       "    <tr>\n",
       "      <th>apr</th>\n",
       "      <td>317</td>\n",
       "      <td>513</td>\n",
       "    </tr>\n",
       "    <tr>\n",
       "      <th>jan</th>\n",
       "      <td>194</td>\n",
       "      <td>125</td>\n",
       "    </tr>\n",
       "    <tr>\n",
       "      <th>oct</th>\n",
       "      <td>62</td>\n",
       "      <td>273</td>\n",
       "    </tr>\n",
       "    <tr>\n",
       "      <th>sep</th>\n",
       "      <td>46</td>\n",
       "      <td>232</td>\n",
       "    </tr>\n",
       "    <tr>\n",
       "      <th>mar</th>\n",
       "      <td>24</td>\n",
       "      <td>213</td>\n",
       "    </tr>\n",
       "    <tr>\n",
       "      <th>dec</th>\n",
       "      <td>9</td>\n",
       "      <td>84</td>\n",
       "    </tr>\n",
       "  </tbody>\n",
       "</table>\n",
       "</div>"
      ],
      "text/plain": [
       "deposit     0    1\n",
       "month             \n",
       "may      1776  841\n",
       "jul       836  582\n",
       "aug       775  610\n",
       "jun       606  498\n",
       "nov       456  324\n",
       "feb       323  386\n",
       "apr       317  513\n",
       "jan       194  125\n",
       "oct        62  273\n",
       "sep        46  232\n",
       "mar        24  213\n",
       "dec         9   84"
      ]
     },
     "execution_count": 28,
     "metadata": {},
     "output_type": "execute_result"
    }
   ],
   "source": [
    "# узнайте, в каком месяце чаще всего отказывались от предложения открыть депозит\n",
    "df.groupby('month')['deposit'].value_counts().unstack().sort_values(0, ascending=False)"
   ]
  },
  {
   "cell_type": "markdown",
   "id": "5f20762f",
   "metadata": {},
   "source": [
    "### Задание 8"
   ]
  },
  {
   "cell_type": "code",
   "execution_count": 29,
   "id": "95d56f1b",
   "metadata": {},
   "outputs": [],
   "source": [
    "# создайте возрастные группы и определите, в каких группах более склонны открывать депозит, чем отказываться от предложения\n",
    "def create_age_group(age):\n",
    "    if age < 30:\n",
    "        age_group = '<30'\n",
    "    elif 30 <= age < 40:\n",
    "        age_group = '30-40'\n",
    "    elif 40 <= age < 50:\n",
    "        age_group = '40-50'\n",
    "    elif 50 <= age < 60:\n",
    "        age_group = '50-60'\n",
    "    else:\n",
    "        age_group = '60+'\n",
    "    return age_group\n",
    "\n",
    "df['age_group'] = df['age'].apply(create_age_group)"
   ]
  },
  {
   "cell_type": "code",
   "execution_count": 30,
   "id": "0903806a",
   "metadata": {},
   "outputs": [
    {
     "data": {
      "application/vnd.plotly.v1+json": {
       "config": {
        "plotlyServerURL": "https://plot.ly"
       },
       "data": [
        {
         "alignmentgroup": "True",
         "hovertemplate": "variable=0<br>age_group=%{x}<br>value=%{y}<extra></extra>",
         "legendgroup": "0",
         "marker": {
          "color": "#636efa",
          "pattern": {
           "shape": ""
          }
         },
         "name": "0",
         "offsetgroup": "0",
         "orientation": "v",
         "showlegend": true,
         "textposition": "auto",
         "texttemplate": "%{y}",
         "type": "bar",
         "x": [
          "<30",
          "60+",
          "50-60",
          "40-50",
          "30-40"
         ],
         "xaxis": "x",
         "y": [
          594,
          157,
          984,
          1444,
          2245
         ],
         "yaxis": "y"
        },
        {
         "alignmentgroup": "True",
         "hovertemplate": "variable=1<br>age_group=%{x}<br>value=%{y}<extra></extra>",
         "legendgroup": "1",
         "marker": {
          "color": "#EF553B",
          "pattern": {
           "shape": ""
          }
         },
         "name": "1",
         "offsetgroup": "1",
         "orientation": "v",
         "showlegend": true,
         "textposition": "auto",
         "texttemplate": "%{y}",
         "type": "bar",
         "x": [
          "<30",
          "60+",
          "50-60",
          "40-50",
          "30-40"
         ],
         "xaxis": "x",
         "y": [
          861,
          496,
          670,
          938,
          1716
         ],
         "yaxis": "y"
        }
       ],
       "layout": {
        "barmode": "group",
        "legend": {
         "title": {
          "text": "variable"
         },
         "tracegroupgap": 0
        },
        "template": {
         "data": {
          "bar": [
           {
            "error_x": {
             "color": "#2a3f5f"
            },
            "error_y": {
             "color": "#2a3f5f"
            },
            "marker": {
             "line": {
              "color": "#E5ECF6",
              "width": 0.5
             },
             "pattern": {
              "fillmode": "overlay",
              "size": 10,
              "solidity": 0.2
             }
            },
            "type": "bar"
           }
          ],
          "barpolar": [
           {
            "marker": {
             "line": {
              "color": "#E5ECF6",
              "width": 0.5
             },
             "pattern": {
              "fillmode": "overlay",
              "size": 10,
              "solidity": 0.2
             }
            },
            "type": "barpolar"
           }
          ],
          "carpet": [
           {
            "aaxis": {
             "endlinecolor": "#2a3f5f",
             "gridcolor": "white",
             "linecolor": "white",
             "minorgridcolor": "white",
             "startlinecolor": "#2a3f5f"
            },
            "baxis": {
             "endlinecolor": "#2a3f5f",
             "gridcolor": "white",
             "linecolor": "white",
             "minorgridcolor": "white",
             "startlinecolor": "#2a3f5f"
            },
            "type": "carpet"
           }
          ],
          "choropleth": [
           {
            "colorbar": {
             "outlinewidth": 0,
             "ticks": ""
            },
            "type": "choropleth"
           }
          ],
          "contour": [
           {
            "colorbar": {
             "outlinewidth": 0,
             "ticks": ""
            },
            "colorscale": [
             [
              0,
              "#0d0887"
             ],
             [
              0.1111111111111111,
              "#46039f"
             ],
             [
              0.2222222222222222,
              "#7201a8"
             ],
             [
              0.3333333333333333,
              "#9c179e"
             ],
             [
              0.4444444444444444,
              "#bd3786"
             ],
             [
              0.5555555555555556,
              "#d8576b"
             ],
             [
              0.6666666666666666,
              "#ed7953"
             ],
             [
              0.7777777777777778,
              "#fb9f3a"
             ],
             [
              0.8888888888888888,
              "#fdca26"
             ],
             [
              1,
              "#f0f921"
             ]
            ],
            "type": "contour"
           }
          ],
          "contourcarpet": [
           {
            "colorbar": {
             "outlinewidth": 0,
             "ticks": ""
            },
            "type": "contourcarpet"
           }
          ],
          "heatmap": [
           {
            "colorbar": {
             "outlinewidth": 0,
             "ticks": ""
            },
            "colorscale": [
             [
              0,
              "#0d0887"
             ],
             [
              0.1111111111111111,
              "#46039f"
             ],
             [
              0.2222222222222222,
              "#7201a8"
             ],
             [
              0.3333333333333333,
              "#9c179e"
             ],
             [
              0.4444444444444444,
              "#bd3786"
             ],
             [
              0.5555555555555556,
              "#d8576b"
             ],
             [
              0.6666666666666666,
              "#ed7953"
             ],
             [
              0.7777777777777778,
              "#fb9f3a"
             ],
             [
              0.8888888888888888,
              "#fdca26"
             ],
             [
              1,
              "#f0f921"
             ]
            ],
            "type": "heatmap"
           }
          ],
          "heatmapgl": [
           {
            "colorbar": {
             "outlinewidth": 0,
             "ticks": ""
            },
            "colorscale": [
             [
              0,
              "#0d0887"
             ],
             [
              0.1111111111111111,
              "#46039f"
             ],
             [
              0.2222222222222222,
              "#7201a8"
             ],
             [
              0.3333333333333333,
              "#9c179e"
             ],
             [
              0.4444444444444444,
              "#bd3786"
             ],
             [
              0.5555555555555556,
              "#d8576b"
             ],
             [
              0.6666666666666666,
              "#ed7953"
             ],
             [
              0.7777777777777778,
              "#fb9f3a"
             ],
             [
              0.8888888888888888,
              "#fdca26"
             ],
             [
              1,
              "#f0f921"
             ]
            ],
            "type": "heatmapgl"
           }
          ],
          "histogram": [
           {
            "marker": {
             "pattern": {
              "fillmode": "overlay",
              "size": 10,
              "solidity": 0.2
             }
            },
            "type": "histogram"
           }
          ],
          "histogram2d": [
           {
            "colorbar": {
             "outlinewidth": 0,
             "ticks": ""
            },
            "colorscale": [
             [
              0,
              "#0d0887"
             ],
             [
              0.1111111111111111,
              "#46039f"
             ],
             [
              0.2222222222222222,
              "#7201a8"
             ],
             [
              0.3333333333333333,
              "#9c179e"
             ],
             [
              0.4444444444444444,
              "#bd3786"
             ],
             [
              0.5555555555555556,
              "#d8576b"
             ],
             [
              0.6666666666666666,
              "#ed7953"
             ],
             [
              0.7777777777777778,
              "#fb9f3a"
             ],
             [
              0.8888888888888888,
              "#fdca26"
             ],
             [
              1,
              "#f0f921"
             ]
            ],
            "type": "histogram2d"
           }
          ],
          "histogram2dcontour": [
           {
            "colorbar": {
             "outlinewidth": 0,
             "ticks": ""
            },
            "colorscale": [
             [
              0,
              "#0d0887"
             ],
             [
              0.1111111111111111,
              "#46039f"
             ],
             [
              0.2222222222222222,
              "#7201a8"
             ],
             [
              0.3333333333333333,
              "#9c179e"
             ],
             [
              0.4444444444444444,
              "#bd3786"
             ],
             [
              0.5555555555555556,
              "#d8576b"
             ],
             [
              0.6666666666666666,
              "#ed7953"
             ],
             [
              0.7777777777777778,
              "#fb9f3a"
             ],
             [
              0.8888888888888888,
              "#fdca26"
             ],
             [
              1,
              "#f0f921"
             ]
            ],
            "type": "histogram2dcontour"
           }
          ],
          "mesh3d": [
           {
            "colorbar": {
             "outlinewidth": 0,
             "ticks": ""
            },
            "type": "mesh3d"
           }
          ],
          "parcoords": [
           {
            "line": {
             "colorbar": {
              "outlinewidth": 0,
              "ticks": ""
             }
            },
            "type": "parcoords"
           }
          ],
          "pie": [
           {
            "automargin": true,
            "type": "pie"
           }
          ],
          "scatter": [
           {
            "fillpattern": {
             "fillmode": "overlay",
             "size": 10,
             "solidity": 0.2
            },
            "type": "scatter"
           }
          ],
          "scatter3d": [
           {
            "line": {
             "colorbar": {
              "outlinewidth": 0,
              "ticks": ""
             }
            },
            "marker": {
             "colorbar": {
              "outlinewidth": 0,
              "ticks": ""
             }
            },
            "type": "scatter3d"
           }
          ],
          "scattercarpet": [
           {
            "marker": {
             "colorbar": {
              "outlinewidth": 0,
              "ticks": ""
             }
            },
            "type": "scattercarpet"
           }
          ],
          "scattergeo": [
           {
            "marker": {
             "colorbar": {
              "outlinewidth": 0,
              "ticks": ""
             }
            },
            "type": "scattergeo"
           }
          ],
          "scattergl": [
           {
            "marker": {
             "colorbar": {
              "outlinewidth": 0,
              "ticks": ""
             }
            },
            "type": "scattergl"
           }
          ],
          "scattermapbox": [
           {
            "marker": {
             "colorbar": {
              "outlinewidth": 0,
              "ticks": ""
             }
            },
            "type": "scattermapbox"
           }
          ],
          "scatterpolar": [
           {
            "marker": {
             "colorbar": {
              "outlinewidth": 0,
              "ticks": ""
             }
            },
            "type": "scatterpolar"
           }
          ],
          "scatterpolargl": [
           {
            "marker": {
             "colorbar": {
              "outlinewidth": 0,
              "ticks": ""
             }
            },
            "type": "scatterpolargl"
           }
          ],
          "scatterternary": [
           {
            "marker": {
             "colorbar": {
              "outlinewidth": 0,
              "ticks": ""
             }
            },
            "type": "scatterternary"
           }
          ],
          "surface": [
           {
            "colorbar": {
             "outlinewidth": 0,
             "ticks": ""
            },
            "colorscale": [
             [
              0,
              "#0d0887"
             ],
             [
              0.1111111111111111,
              "#46039f"
             ],
             [
              0.2222222222222222,
              "#7201a8"
             ],
             [
              0.3333333333333333,
              "#9c179e"
             ],
             [
              0.4444444444444444,
              "#bd3786"
             ],
             [
              0.5555555555555556,
              "#d8576b"
             ],
             [
              0.6666666666666666,
              "#ed7953"
             ],
             [
              0.7777777777777778,
              "#fb9f3a"
             ],
             [
              0.8888888888888888,
              "#fdca26"
             ],
             [
              1,
              "#f0f921"
             ]
            ],
            "type": "surface"
           }
          ],
          "table": [
           {
            "cells": {
             "fill": {
              "color": "#EBF0F8"
             },
             "line": {
              "color": "white"
             }
            },
            "header": {
             "fill": {
              "color": "#C8D4E3"
             },
             "line": {
              "color": "white"
             }
            },
            "type": "table"
           }
          ]
         },
         "layout": {
          "annotationdefaults": {
           "arrowcolor": "#2a3f5f",
           "arrowhead": 0,
           "arrowwidth": 1
          },
          "autotypenumbers": "strict",
          "coloraxis": {
           "colorbar": {
            "outlinewidth": 0,
            "ticks": ""
           }
          },
          "colorscale": {
           "diverging": [
            [
             0,
             "#8e0152"
            ],
            [
             0.1,
             "#c51b7d"
            ],
            [
             0.2,
             "#de77ae"
            ],
            [
             0.3,
             "#f1b6da"
            ],
            [
             0.4,
             "#fde0ef"
            ],
            [
             0.5,
             "#f7f7f7"
            ],
            [
             0.6,
             "#e6f5d0"
            ],
            [
             0.7,
             "#b8e186"
            ],
            [
             0.8,
             "#7fbc41"
            ],
            [
             0.9,
             "#4d9221"
            ],
            [
             1,
             "#276419"
            ]
           ],
           "sequential": [
            [
             0,
             "#0d0887"
            ],
            [
             0.1111111111111111,
             "#46039f"
            ],
            [
             0.2222222222222222,
             "#7201a8"
            ],
            [
             0.3333333333333333,
             "#9c179e"
            ],
            [
             0.4444444444444444,
             "#bd3786"
            ],
            [
             0.5555555555555556,
             "#d8576b"
            ],
            [
             0.6666666666666666,
             "#ed7953"
            ],
            [
             0.7777777777777778,
             "#fb9f3a"
            ],
            [
             0.8888888888888888,
             "#fdca26"
            ],
            [
             1,
             "#f0f921"
            ]
           ],
           "sequentialminus": [
            [
             0,
             "#0d0887"
            ],
            [
             0.1111111111111111,
             "#46039f"
            ],
            [
             0.2222222222222222,
             "#7201a8"
            ],
            [
             0.3333333333333333,
             "#9c179e"
            ],
            [
             0.4444444444444444,
             "#bd3786"
            ],
            [
             0.5555555555555556,
             "#d8576b"
            ],
            [
             0.6666666666666666,
             "#ed7953"
            ],
            [
             0.7777777777777778,
             "#fb9f3a"
            ],
            [
             0.8888888888888888,
             "#fdca26"
            ],
            [
             1,
             "#f0f921"
            ]
           ]
          },
          "colorway": [
           "#636efa",
           "#EF553B",
           "#00cc96",
           "#ab63fa",
           "#FFA15A",
           "#19d3f3",
           "#FF6692",
           "#B6E880",
           "#FF97FF",
           "#FECB52"
          ],
          "font": {
           "color": "#2a3f5f"
          },
          "geo": {
           "bgcolor": "white",
           "lakecolor": "white",
           "landcolor": "#E5ECF6",
           "showlakes": true,
           "showland": true,
           "subunitcolor": "white"
          },
          "hoverlabel": {
           "align": "left"
          },
          "hovermode": "closest",
          "mapbox": {
           "style": "light"
          },
          "paper_bgcolor": "white",
          "plot_bgcolor": "#E5ECF6",
          "polar": {
           "angularaxis": {
            "gridcolor": "white",
            "linecolor": "white",
            "ticks": ""
           },
           "bgcolor": "#E5ECF6",
           "radialaxis": {
            "gridcolor": "white",
            "linecolor": "white",
            "ticks": ""
           }
          },
          "scene": {
           "xaxis": {
            "backgroundcolor": "#E5ECF6",
            "gridcolor": "white",
            "gridwidth": 2,
            "linecolor": "white",
            "showbackground": true,
            "ticks": "",
            "zerolinecolor": "white"
           },
           "yaxis": {
            "backgroundcolor": "#E5ECF6",
            "gridcolor": "white",
            "gridwidth": 2,
            "linecolor": "white",
            "showbackground": true,
            "ticks": "",
            "zerolinecolor": "white"
           },
           "zaxis": {
            "backgroundcolor": "#E5ECF6",
            "gridcolor": "white",
            "gridwidth": 2,
            "linecolor": "white",
            "showbackground": true,
            "ticks": "",
            "zerolinecolor": "white"
           }
          },
          "shapedefaults": {
           "line": {
            "color": "#2a3f5f"
           }
          },
          "ternary": {
           "aaxis": {
            "gridcolor": "white",
            "linecolor": "white",
            "ticks": ""
           },
           "baxis": {
            "gridcolor": "white",
            "linecolor": "white",
            "ticks": ""
           },
           "bgcolor": "#E5ECF6",
           "caxis": {
            "gridcolor": "white",
            "linecolor": "white",
            "ticks": ""
           }
          },
          "title": {
           "x": 0.05
          },
          "xaxis": {
           "automargin": true,
           "gridcolor": "white",
           "linecolor": "white",
           "ticks": "",
           "title": {
            "standoff": 15
           },
           "zerolinecolor": "white",
           "zerolinewidth": 2
          },
          "yaxis": {
           "automargin": true,
           "gridcolor": "white",
           "linecolor": "white",
           "ticks": "",
           "title": {
            "standoff": 15
           },
           "zerolinecolor": "white",
           "zerolinewidth": 2
          }
         }
        },
        "title": {
         "text": "Открытие депозитов(deposit) в разрезе возрастных групп(age_group)"
        },
        "xaxis": {
         "anchor": "y",
         "domain": [
          0,
          1
         ],
         "title": {
          "text": "age_group"
         }
        },
        "yaxis": {
         "anchor": "x",
         "domain": [
          0,
          1
         ],
         "title": {
          "text": "value"
         }
        }
       }
      }
     },
     "metadata": {},
     "output_type": "display_data"
    }
   ],
   "source": [
    "fig = px.bar(df.pivot_table(\n",
    "    values='day',\n",
    "    index='age_group',    \n",
    "    columns='deposit',\n",
    "    aggfunc='count',\n",
    "    fill_value=0\n",
    ").sort_index(ascending=False).reset_index(), x='age_group', y=[0,1],\n",
    "             orientation='v',\n",
    "             text_auto=True,\n",
    "             barmode='group',\n",
    "             title='Открытие депозитов(deposit) в разрезе возрастных групп(age_group)')\n",
    "fig.show()"
   ]
  },
  {
   "cell_type": "markdown",
   "id": "2fb09357",
   "metadata": {},
   "source": [
    "Больше всего оформляют депозит люди 40+(потому, что в этом возрасте пик заработков), но чаще соглашаются люди меньше 30 и старше 60(потом, что в этом возрасте больше стремление сохранить)"
   ]
  },
  {
   "cell_type": "markdown",
   "id": "0841c685",
   "metadata": {},
   "source": [
    "### Задания 9 и 10"
   ]
  },
  {
   "cell_type": "code",
   "execution_count": 31,
   "id": "0d84a9e1",
   "metadata": {},
   "outputs": [
    {
     "data": {
      "text/plain": [
       "Text(0.5, 1.0, 'Marital status\\n')"
      ]
     },
     "execution_count": 31,
     "metadata": {},
     "output_type": "execute_result"
    },
    {
     "data": {
      "image/png": "[encoded data removed]",
      "text/plain": [
       "<Figure size 640x480 with 1 Axes>"
      ]
     },
     "metadata": {},
     "output_type": "display_data"
    }
   ],
   "source": [
    "# постройте визуализации для открывших и неоткрывших депозит в зависимости от семейного статуса\n",
    "\n",
    "ax = sns.countplot(data=df, x='marital', hue='deposit')\n",
    "ax.set(xlabel='Marital status', ylabel='Number of clients')\n",
    "ax.set_title('Marital status\\n', fontsize=16)"
   ]
  },
  {
   "cell_type": "code",
   "execution_count": 32,
   "metadata": {},
   "outputs": [
    {
     "data": {
      "text/html": [
       "<div>\n",
       "<style scoped>\n",
       "    .dataframe tbody tr th:only-of-type {\n",
       "        vertical-align: middle;\n",
       "    }\n",
       "\n",
       "    .dataframe tbody tr th {\n",
       "        vertical-align: top;\n",
       "    }\n",
       "\n",
       "    .dataframe thead th {\n",
       "        text-align: right;\n",
       "    }\n",
       "</style>\n",
       "<table border=\"1\" class=\"dataframe\">\n",
       "  <thead>\n",
       "    <tr style=\"text-align: right;\">\n",
       "      <th>deposit</th>\n",
       "      <th>0</th>\n",
       "      <th>1</th>\n",
       "    </tr>\n",
       "    <tr>\n",
       "      <th>marital</th>\n",
       "      <th></th>\n",
       "      <th></th>\n",
       "    </tr>\n",
       "  </thead>\n",
       "  <tbody>\n",
       "    <tr>\n",
       "      <th>single</th>\n",
       "      <td>46.59</td>\n",
       "      <td>53.41</td>\n",
       "    </tr>\n",
       "    <tr>\n",
       "      <th>divorced</th>\n",
       "      <td>53.02</td>\n",
       "      <td>46.98</td>\n",
       "    </tr>\n",
       "    <tr>\n",
       "      <th>married</th>\n",
       "      <td>57.80</td>\n",
       "      <td>42.20</td>\n",
       "    </tr>\n",
       "  </tbody>\n",
       "</table>\n",
       "</div>"
      ],
      "text/plain": [
       "deposit       0      1\n",
       "marital               \n",
       "single    46.59  53.41\n",
       "divorced  53.02  46.98\n",
       "married   57.80  42.20"
      ]
     },
     "execution_count": 32,
     "metadata": {},
     "output_type": "execute_result"
    }
   ],
   "source": [
    "round((df.groupby('marital')['deposit'].value_counts(normalize=True).unstack() \\\n",
    "    * 100).sort_values(1, ascending=False),2)"
   ]
  },
  {
   "cell_type": "markdown",
   "id": "a7a9a61f",
   "metadata": {},
   "source": [
    "Больше дают согласие те кто не был в браке, это обусловлено тем, что не на кого тратить деньги"
   ]
  },
  {
   "cell_type": "code",
   "execution_count": 33,
   "id": "16333967",
   "metadata": {},
   "outputs": [
    {
     "data": {
      "text/plain": [
       "Text(0.5, 1.0, 'Education\\n')"
      ]
     },
     "execution_count": 33,
     "metadata": {},
     "output_type": "execute_result"
    },
    {
     "data": {
      "image/png": "[encoded data removed]",
      "text/plain": [
       "<Figure size 640x480 with 1 Axes>"
      ]
     },
     "metadata": {},
     "output_type": "display_data"
    }
   ],
   "source": [
    "# постройте визуализации для открывших и неоткрывших депозит в зависимости от образования\n",
    "\n",
    "ax = sns.countplot(data=df, x='education', hue='deposit')\n",
    "ax.set(xlabel='Education', ylabel='Number of clients')\n",
    "ax.set_title('Education\\n', fontsize=16)"
   ]
  },
  {
   "cell_type": "markdown",
   "id": "63294119",
   "metadata": {},
   "source": [
    "Чаще всего дают согласие , те у кого высшее образование"
   ]
  },
  {
   "cell_type": "code",
   "execution_count": 34,
   "id": "738224f8",
   "metadata": {},
   "outputs": [
    {
     "data": {
      "text/plain": [
       "Text(0.5, 1.0, 'Job\\n')"
      ]
     },
     "execution_count": 34,
     "metadata": {},
     "output_type": "execute_result"
    },
    {
     "data": {
      "image/png": "[encoded data removed]",
      "text/plain": [
       "<Figure size 1500x600 with 1 Axes>"
      ]
     },
     "metadata": {},
     "output_type": "display_data"
    }
   ],
   "source": [
    "# постройте визуализации для открывших и неоткрывших депозит в зависимости от вида профессиональной занятости\n",
    "\n",
    "fig, ax = plt.subplots(figsize=(15,6))\n",
    "ax= sns.countplot(data=df, x='job', hue='deposit', \n",
    "              order=df['job'].value_counts().index)\n",
    "ax.set(xlabel='Job', ylabel='Number of clients')\n",
    "ax.set_title('Job\\n', fontsize=16)"
   ]
  },
  {
   "cell_type": "code",
   "execution_count": 35,
   "id": "d6209647",
   "metadata": {},
   "outputs": [
    {
     "data": {
      "text/plain": [
       "management       2315\n",
       "blue-collar      1807\n",
       "technician       1638\n",
       "admin.           1246\n",
       "services          868\n",
       "retired           663\n",
       "self-employed     358\n",
       "unemployed        332\n",
       "student           326\n",
       "entrepreneur      300\n",
       "housemaid         252\n",
       "Name: job, dtype: int64"
      ]
     },
     "execution_count": 35,
     "metadata": {},
     "output_type": "execute_result"
    }
   ],
   "source": [
    "df['job'].value_counts()"
   ]
  },
  {
   "cell_type": "code",
   "execution_count": 36,
   "id": "f860acb7",
   "metadata": {},
   "outputs": [
    {
     "data": {
      "text/html": [
       "<div>\n",
       "<style scoped>\n",
       "    .dataframe tbody tr th:only-of-type {\n",
       "        vertical-align: middle;\n",
       "    }\n",
       "\n",
       "    .dataframe tbody tr th {\n",
       "        vertical-align: top;\n",
       "    }\n",
       "\n",
       "    .dataframe thead th {\n",
       "        text-align: right;\n",
       "    }\n",
       "</style>\n",
       "<table border=\"1\" class=\"dataframe\">\n",
       "  <thead>\n",
       "    <tr style=\"text-align: right;\">\n",
       "      <th>deposit</th>\n",
       "      <th>0</th>\n",
       "      <th>1</th>\n",
       "    </tr>\n",
       "    <tr>\n",
       "      <th>job</th>\n",
       "      <th></th>\n",
       "      <th></th>\n",
       "    </tr>\n",
       "  </thead>\n",
       "  <tbody>\n",
       "    <tr>\n",
       "      <th>student</th>\n",
       "      <td>24.85</td>\n",
       "      <td>75.15</td>\n",
       "    </tr>\n",
       "    <tr>\n",
       "      <th>retired</th>\n",
       "      <td>34.84</td>\n",
       "      <td>65.16</td>\n",
       "    </tr>\n",
       "    <tr>\n",
       "      <th>unemployed</th>\n",
       "      <td>43.07</td>\n",
       "      <td>56.93</td>\n",
       "    </tr>\n",
       "    <tr>\n",
       "      <th>management</th>\n",
       "      <td>50.97</td>\n",
       "      <td>49.03</td>\n",
       "    </tr>\n",
       "    <tr>\n",
       "      <th>admin.</th>\n",
       "      <td>53.93</td>\n",
       "      <td>46.07</td>\n",
       "    </tr>\n",
       "    <tr>\n",
       "      <th>technician</th>\n",
       "      <td>54.95</td>\n",
       "      <td>45.05</td>\n",
       "    </tr>\n",
       "    <tr>\n",
       "      <th>self-employed</th>\n",
       "      <td>55.03</td>\n",
       "      <td>44.97</td>\n",
       "    </tr>\n",
       "    <tr>\n",
       "      <th>services</th>\n",
       "      <td>60.25</td>\n",
       "      <td>39.75</td>\n",
       "    </tr>\n",
       "    <tr>\n",
       "      <th>housemaid</th>\n",
       "      <td>60.71</td>\n",
       "      <td>39.29</td>\n",
       "    </tr>\n",
       "    <tr>\n",
       "      <th>entrepreneur</th>\n",
       "      <td>63.00</td>\n",
       "      <td>37.00</td>\n",
       "    </tr>\n",
       "    <tr>\n",
       "      <th>blue-collar</th>\n",
       "      <td>63.92</td>\n",
       "      <td>36.08</td>\n",
       "    </tr>\n",
       "  </tbody>\n",
       "</table>\n",
       "</div>"
      ],
      "text/plain": [
       "deposit            0      1\n",
       "job                        \n",
       "student        24.85  75.15\n",
       "retired        34.84  65.16\n",
       "unemployed     43.07  56.93\n",
       "management     50.97  49.03\n",
       "admin.         53.93  46.07\n",
       "technician     54.95  45.05\n",
       "self-employed  55.03  44.97\n",
       "services       60.25  39.75\n",
       "housemaid      60.71  39.29\n",
       "entrepreneur   63.00  37.00\n",
       "blue-collar    63.92  36.08"
      ]
     },
     "execution_count": 36,
     "metadata": {},
     "output_type": "execute_result"
    }
   ],
   "source": [
    "round((df.groupby('job')['deposit'].value_counts(normalize=True).unstack() \\\n",
    "    * 100).sort_values(1, ascending=False),2)"
   ]
  },
  {
   "cell_type": "markdown",
   "id": "dbb1b769",
   "metadata": {},
   "source": [
    "Не смотря на то , что банк чаще взаимодействует с менеджерами, чаще согласие дают студенты и пенсионеры, что подтверждает график по возрасту."
   ]
  },
  {
   "cell_type": "markdown",
   "id": "a521e204",
   "metadata": {},
   "source": [
    "### Задание 11"
   ]
  },
  {
   "cell_type": "code",
   "execution_count": 37,
   "id": "35ab0413",
   "metadata": {},
   "outputs": [
    {
     "data": {
      "text/plain": [
       "education  marital \n",
       "primary    divorced    51.0\n",
       "           married     35.0\n",
       "           single      45.0\n",
       "secondary  divorced    43.0\n",
       "           married     41.0\n",
       "           single      50.0\n",
       "tertiary   divorced    52.0\n",
       "           married     49.0\n",
       "           single      59.0\n",
       "dtype: float64"
      ]
     },
     "execution_count": 37,
     "metadata": {},
     "output_type": "execute_result"
    }
   ],
   "source": [
    "# постройте сводную таблицу, чтобы определить люди с каким образованием и семейным статусом наиболее многочисленны\n",
    "\n",
    "round(df.pivot_table(\n",
    "    values='day',\n",
    "    index=['education', 'marital'],    \n",
    "    columns='deposit',\n",
    "    aggfunc='count',\n",
    "    fill_value=0)[1]/df.groupby(['education', 'marital'])['deposit'].count() * 100)\n",
    "#(если рассматривать тех, кто открыл депозит)"
   ]
  },
  {
   "cell_type": "code",
   "execution_count": 38,
   "id": "ec50ff37",
   "metadata": {},
   "outputs": [
    {
     "name": "stdout",
     "output_type": "stream",
     "text": [
      "Для тех, кто открыл депозит\n"
     ]
    },
    {
     "data": {
      "text/html": [
       "<div>\n",
       "<style scoped>\n",
       "    .dataframe tbody tr th:only-of-type {\n",
       "        vertical-align: middle;\n",
       "    }\n",
       "\n",
       "    .dataframe tbody tr th {\n",
       "        vertical-align: top;\n",
       "    }\n",
       "\n",
       "    .dataframe thead th {\n",
       "        text-align: right;\n",
       "    }\n",
       "</style>\n",
       "<table border=\"1\" class=\"dataframe\">\n",
       "  <thead>\n",
       "    <tr style=\"text-align: right;\">\n",
       "      <th>marital</th>\n",
       "      <th>divorced</th>\n",
       "      <th>married</th>\n",
       "      <th>single</th>\n",
       "    </tr>\n",
       "    <tr>\n",
       "      <th>education</th>\n",
       "      <th></th>\n",
       "      <th></th>\n",
       "      <th></th>\n",
       "    </tr>\n",
       "  </thead>\n",
       "  <tbody>\n",
       "    <tr>\n",
       "      <th>primary</th>\n",
       "      <td>96</td>\n",
       "      <td>339</td>\n",
       "      <td>82</td>\n",
       "    </tr>\n",
       "    <tr>\n",
       "      <th>secondary</th>\n",
       "      <td>283</td>\n",
       "      <td>1289</td>\n",
       "      <td>879</td>\n",
       "    </tr>\n",
       "    <tr>\n",
       "      <th>tertiary</th>\n",
       "      <td>174</td>\n",
       "      <td>784</td>\n",
       "      <td>755</td>\n",
       "    </tr>\n",
       "  </tbody>\n",
       "</table>\n",
       "</div>"
      ],
      "text/plain": [
       "marital    divorced  married  single\n",
       "education                           \n",
       "primary          96      339      82\n",
       "secondary       283     1289     879\n",
       "tertiary        174      784     755"
      ]
     },
     "metadata": {},
     "output_type": "display_data"
    },
    {
     "name": "stdout",
     "output_type": "stream",
     "text": [
      "Для тех, кто не открыл депозит\n"
     ]
    },
    {
     "data": {
      "text/html": [
       "<div>\n",
       "<style scoped>\n",
       "    .dataframe tbody tr th:only-of-type {\n",
       "        vertical-align: middle;\n",
       "    }\n",
       "\n",
       "    .dataframe tbody tr th {\n",
       "        vertical-align: top;\n",
       "    }\n",
       "\n",
       "    .dataframe thead th {\n",
       "        text-align: right;\n",
       "    }\n",
       "</style>\n",
       "<table border=\"1\" class=\"dataframe\">\n",
       "  <thead>\n",
       "    <tr style=\"text-align: right;\">\n",
       "      <th>marital</th>\n",
       "      <th>divorced</th>\n",
       "      <th>married</th>\n",
       "      <th>single</th>\n",
       "    </tr>\n",
       "    <tr>\n",
       "      <th>education</th>\n",
       "      <th></th>\n",
       "      <th></th>\n",
       "      <th></th>\n",
       "    </tr>\n",
       "  </thead>\n",
       "  <tbody>\n",
       "    <tr>\n",
       "      <th>primary</th>\n",
       "      <td>91</td>\n",
       "      <td>641</td>\n",
       "      <td>100</td>\n",
       "    </tr>\n",
       "    <tr>\n",
       "      <th>secondary</th>\n",
       "      <td>370</td>\n",
       "      <td>1830</td>\n",
       "      <td>866</td>\n",
       "    </tr>\n",
       "    <tr>\n",
       "      <th>tertiary</th>\n",
       "      <td>163</td>\n",
       "      <td>832</td>\n",
       "      <td>531</td>\n",
       "    </tr>\n",
       "  </tbody>\n",
       "</table>\n",
       "</div>"
      ],
      "text/plain": [
       "marital    divorced  married  single\n",
       "education                           \n",
       "primary          91      641     100\n",
       "secondary       370     1830     866\n",
       "tertiary        163      832     531"
      ]
     },
     "metadata": {},
     "output_type": "display_data"
    },
    {
     "data": {
      "image/png": "[encoded data removed]",
      "text/plain": [
       "<Figure size 900x400 with 4 Axes>"
      ]
     },
     "metadata": {},
     "output_type": "display_data"
    }
   ],
   "source": [
    "success = df[df['deposit']== 1]\n",
    "fail = df[df['deposit']== 0]\n",
    "success_pivot = success.groupby(\n",
    "    ['education', 'marital'])['marital'].count().unstack()\n",
    "\n",
    "fail_pivot = fail.groupby(\n",
    "    ['education', 'marital'])['marital'].count().unstack()\n",
    "\n",
    "print(\"Для тех, кто открыл депозит\")\n",
    "display(success_pivot)\n",
    "print(\"Для тех, кто не открыл депозит\")\n",
    "display(fail_pivot)\n",
    "\n",
    "fig, ax = plt.subplots( 1, 2, figsize=(9,4))\n",
    "sns.heatmap(success_pivot, ax=ax[0])\n",
    "sns.heatmap(fail_pivot, ax=ax[1])\n",
    "ax[0].set_title('Account is opened')\n",
    "ax[1].set_title('Account is not opened')\n",
    "ax[0].set(xlabel='Marital status', ylabel='Education')\n",
    "ax[1].set(xlabel='Marital status', ylabel='Education')\n",
    "plt.suptitle('Education - marital status heatmaps', fontsize=16)\n",
    "plt.tight_layout()"
   ]
  },
  {
   "cell_type": "markdown",
   "id": "7df10249",
   "metadata": {},
   "source": [
    "В обеих категориях (открывшие и неоткрывшие депозит) преобладают семейные клиенты со средним образованием.\n",
    "\n"
   ]
  },
  {
   "cell_type": "markdown",
   "id": "dfd805c0",
   "metadata": {},
   "source": [
    "## Часть 3: преобразование данных"
   ]
  },
  {
   "cell_type": "markdown",
   "id": "e44e715b",
   "metadata": {},
   "source": [
    "### Задание 1"
   ]
  },
  {
   "cell_type": "code",
   "execution_count": 39,
   "id": "1e815773",
   "metadata": {},
   "outputs": [],
   "source": [
    "# преобразуйте уровни образования\n",
    "label_encoder = LabelEncoder() # кодируем порядковым кодировщиком\n",
    "data_educ = label_encoder.fit_transform(df['education'])\n",
    "df['education_cod'] = data_educ"
   ]
  },
  {
   "cell_type": "code",
   "execution_count": 42,
   "id": "87d9b4c3",
   "metadata": {},
   "outputs": [
    {
     "data": {
      "text/plain": [
       "11995"
      ]
     },
     "execution_count": 42,
     "metadata": {},
     "output_type": "execute_result"
    }
   ],
   "source": [
    "df['education_cod'].sum()"
   ]
  },
  {
   "cell_type": "code",
   "execution_count": 43,
   "id": "51219e75",
   "metadata": {},
   "outputs": [],
   "source": [
    "# преобразуйте возрастные группы\n",
    "data_age = label_encoder.fit_transform(df['age_group'])\n",
    "df['age_group'] = data_age"
   ]
  },
  {
   "cell_type": "code",
   "execution_count": 45,
   "id": "ac277b7e",
   "metadata": {},
   "outputs": [
    {
     "data": {
      "text/plain": [
       "count    10105.000\n",
       "mean         0.463\n",
       "std          0.499\n",
       "min          0.000\n",
       "25%          0.000\n",
       "50%          0.000\n",
       "75%          1.000\n",
       "max          1.000\n",
       "Name: deposit, dtype: float64"
      ]
     },
     "execution_count": 45,
     "metadata": {},
     "output_type": "execute_result"
    }
   ],
   "source": [
    "round(df['deposit'].describe(),3)"
   ]
  },
  {
   "cell_type": "markdown",
   "id": "8c93e73d",
   "metadata": {},
   "source": [
    "### Задания 2 и 3"
   ]
  },
  {
   "cell_type": "code",
   "execution_count": 46,
   "id": "626a5762",
   "metadata": {},
   "outputs": [],
   "source": [
    "# преобразуйте бинарные переменные в представление из нулей и единиц\n",
    "df['housing_bin'] = df['housing'].apply(lambda x: int(1) if x == 'yes' else int(0))\n",
    "df['default_bin'] = df['default'].apply(lambda x: int(1) if x == 'yes' else int(0))\n",
    "df['loan_bin'] = df['loan'].apply(lambda x: int(1) if x == 'yes' else int(0))"
   ]
  },
  {
   "cell_type": "code",
   "execution_count": 50,
   "id": "25a9c25c",
   "metadata": {},
   "outputs": [
    {
     "name": "stdout",
     "output_type": "stream",
     "text": [
      "0.635\n"
     ]
    }
   ],
   "source": [
    "print(round((df['housing_bin'].sum() / df['housing_bin'].shape[0])+(df['default_bin'].sum() / df['default_bin'].shape[0])+(df['loan_bin'].sum() / df['loan_bin'].shape[0]),3))"
   ]
  },
  {
   "cell_type": "markdown",
   "id": "c40dc02a",
   "metadata": {},
   "source": [
    "### Задание 4"
   ]
  },
  {
   "cell_type": "code",
   "execution_count": 51,
   "id": "b996883f",
   "metadata": {},
   "outputs": [],
   "source": [
    "# создайте дамми-переменные\n",
    "df = pd.get_dummies(df, columns=['job', 'marital', 'contact', 'month', 'poutcome'], prefix=['job', 'marital', 'contact', 'month', 'poutcome'])\n",
    "df = df.drop(columns=['age', 'education', 'default', 'loan', 'housing'])"
   ]
  },
  {
   "cell_type": "code",
   "execution_count": 53,
   "id": "a6bb87bb",
   "metadata": {},
   "outputs": [
    {
     "name": "stdout",
     "output_type": "stream",
     "text": [
      "<class 'pandas.core.frame.DataFrame'>\n",
      "RangeIndex: 10105 entries, 0 to 10104\n",
      "Data columns (total 45 columns):\n",
      " #   Column             Non-Null Count  Dtype  \n",
      "---  ------             --------------  -----  \n",
      " 0   balance            10105 non-null  float64\n",
      " 1   day                10105 non-null  int64  \n",
      " 2   duration           10105 non-null  int64  \n",
      " 3   campaign           10105 non-null  int64  \n",
      " 4   pdays              10105 non-null  int64  \n",
      " 5   previous           10105 non-null  int64  \n",
      " 6   deposit            10105 non-null  int64  \n",
      " 7   age_group          10105 non-null  int32  \n",
      " 8   education_cod      10105 non-null  int32  \n",
      " 9   housing_bin        10105 non-null  int64  \n",
      " 10  default_bin        10105 non-null  int64  \n",
      " 11  loan_bin           10105 non-null  int64  \n",
      " 12  job_admin.         10105 non-null  uint8  \n",
      " 13  job_blue-collar    10105 non-null  uint8  \n",
      " 14  job_entrepreneur   10105 non-null  uint8  \n",
      " 15  job_housemaid      10105 non-null  uint8  \n",
      " 16  job_management     10105 non-null  uint8  \n",
      " 17  job_retired        10105 non-null  uint8  \n",
      " 18  job_self-employed  10105 non-null  uint8  \n",
      " 19  job_services       10105 non-null  uint8  \n",
      " 20  job_student        10105 non-null  uint8  \n",
      " 21  job_technician     10105 non-null  uint8  \n",
      " 22  job_unemployed     10105 non-null  uint8  \n",
      " 23  marital_divorced   10105 non-null  uint8  \n",
      " 24  marital_married    10105 non-null  uint8  \n",
      " 25  marital_single     10105 non-null  uint8  \n",
      " 26  contact_cellular   10105 non-null  uint8  \n",
      " 27  contact_telephone  10105 non-null  uint8  \n",
      " 28  contact_unknown    10105 non-null  uint8  \n",
      " 29  month_apr          10105 non-null  uint8  \n",
      " 30  month_aug          10105 non-null  uint8  \n",
      " 31  month_dec          10105 non-null  uint8  \n",
      " 32  month_feb          10105 non-null  uint8  \n",
      " 33  month_jan          10105 non-null  uint8  \n",
      " 34  month_jul          10105 non-null  uint8  \n",
      " 35  month_jun          10105 non-null  uint8  \n",
      " 36  month_mar          10105 non-null  uint8  \n",
      " 37  month_may          10105 non-null  uint8  \n",
      " 38  month_nov          10105 non-null  uint8  \n",
      " 39  month_oct          10105 non-null  uint8  \n",
      " 40  month_sep          10105 non-null  uint8  \n",
      " 41  poutcome_failure   10105 non-null  uint8  \n",
      " 42  poutcome_other     10105 non-null  uint8  \n",
      " 43  poutcome_success   10105 non-null  uint8  \n",
      " 44  poutcome_unknown   10105 non-null  uint8  \n",
      "dtypes: float64(1), int32(2), int64(9), uint8(33)\n",
      "memory usage: 1.2 MB\n"
     ]
    }
   ],
   "source": [
    "df.info() "
   ]
  },
  {
   "cell_type": "markdown",
   "id": "9a23e318",
   "metadata": {},
   "source": [
    "### Задания 5 и 6"
   ]
  },
  {
   "cell_type": "code",
   "execution_count": 55,
   "id": "1c884c1a",
   "metadata": {},
   "outputs": [
    {
     "data": {
      "application/vnd.plotly.v1+json": {
       "config": {
        "plotlyServerURL": "https://plot.ly"
       },
       "data": [
        {
         "coloraxis": "coloraxis",
         "hovertemplate": "x: %{x}<br>y: %{y}<br>color: %{z}<extra></extra>",
         "name": "0",
         "texttemplate": "%{z}",
         "type": "heatmap",
         "x": [
          "balance",
          "day",
          "duration",
          "campaign",
          "pdays",
          "previous",
          "deposit",
          "age_group",
          "education_cod",
          "housing_bin",
          "default_bin",
          "loan_bin",
          "job_admin.",
          "job_blue-collar",
          "job_entrepreneur",
          "job_housemaid",
          "job_management",
          "job_retired",
          "job_self-employed",
          "job_services",
          "job_student",
          "job_technician",
          "job_unemployed",
          "marital_divorced",
          "marital_married",
          "marital_single",
          "contact_cellular",
          "contact_telephone",
          "contact_unknown",
          "month_apr",
          "month_aug",
          "month_dec",
          "month_feb",
          "month_jan",
          "month_jul",
          "month_jun",
          "month_mar",
          "month_may",
          "month_nov",
          "month_oct",
          "month_sep",
          "poutcome_failure",
          "poutcome_other",
          "poutcome_success",
          "poutcome_unknown"
         ],
         "xaxis": "x",
         "y": [
          "balance",
          "day",
          "duration",
          "campaign",
          "pdays",
          "previous",
          "deposit",
          "age_group",
          "education_cod",
          "housing_bin",
          "default_bin",
          "loan_bin",
          "job_admin.",
          "job_blue-collar",
          "job_entrepreneur",
          "job_housemaid",
          "job_management",
          "job_retired",
          "job_self-employed",
          "job_services",
          "job_student",
          "job_technician",
          "job_unemployed",
          "marital_divorced",
          "marital_married",
          "marital_single",
          "contact_cellular",
          "contact_telephone",
          "contact_unknown",
          "month_apr",
          "month_aug",
          "month_dec",
          "month_feb",
          "month_jan",
          "month_jul",
          "month_jun",
          "month_mar",
          "month_may",
          "month_nov",
          "month_oct",
          "month_sep",
          "poutcome_failure",
          "poutcome_other",
          "poutcome_success",
          "poutcome_unknown"
         ],
         "yaxis": "y",
         "z": [
          [
           1,
           -0.01,
           0.03,
           -0.04,
           0.05,
           0.06,
           0.14,
           0.03,
           0.04,
           -0.09,
           -0.11,
           -0.11,
           -0.03,
           -0.05,
           -0.01,
           0,
           0.04,
           0.09,
           0.01,
           -0.04,
           0.01,
           -0.01,
           0.01,
           -0.03,
           0.03,
           -0.01,
           0.03,
           0.06,
           -0.07,
           0.05,
           -0.01,
           0.03,
           0.01,
           -0.01,
           -0.09,
           0.04,
           0.04,
           -0.1,
           0.08,
           0.06,
           0.05,
           0.03,
           0.03,
           0.07,
           -0.09
          ],
          [
           -0.01,
           1,
           -0.02,
           0.14,
           -0.08,
           -0.06,
           -0.06,
           -0.01,
           0.01,
           -0.02,
           0.02,
           0.02,
           -0.01,
           -0.02,
           -0.01,
           0.01,
           0,
           -0.01,
           0,
           0,
           -0.01,
           0.03,
           0,
           0,
           0,
           0,
           -0.01,
           0.01,
           0,
           0.11,
           0,
           -0.01,
           -0.24,
           0.23,
           0.13,
           -0.18,
           -0.04,
           -0.01,
           0.06,
           0.07,
           -0.07,
           -0.07,
           -0.01,
           -0.04,
           0.09
          ],
          [
           0.03,
           -0.02,
           1,
           -0.04,
           -0.03,
           -0.03,
           0.46,
           0,
           -0.02,
           0.04,
           -0.01,
           0,
           -0.02,
           0.03,
           0,
           -0.01,
           -0.02,
           0.01,
           0.01,
           0.01,
           -0.02,
           -0.01,
           0.03,
           0.02,
           -0.04,
           0.02,
           0.02,
           -0.02,
           -0.01,
           0.03,
           -0.02,
           0.01,
           -0.03,
           -0.01,
           0.06,
           0,
           -0.03,
           0.01,
           -0.02,
           -0.01,
           -0.01,
           -0.04,
           -0.01,
           -0.03,
           0.05
          ],
          [
           -0.04,
           0.14,
           -0.04,
           1,
           -0.11,
           -0.05,
           -0.13,
           -0.05,
           -0.01,
           0.01,
           0.03,
           0.03,
           -0.02,
           0,
           0.01,
           0.01,
           0.02,
           -0.04,
           0.01,
           0.01,
           -0.02,
           0.02,
           -0.02,
           -0.01,
           0.06,
           -0.05,
           -0.07,
           0.06,
           0.04,
           -0.08,
           0.15,
           -0.01,
           -0.04,
           -0.05,
           0.12,
           0.05,
           -0.03,
           -0.04,
           -0.08,
           -0.07,
           -0.05,
           -0.08,
           -0.02,
           -0.09,
           0.13
          ],
          [
           0.05,
           -0.08,
           -0.03,
           -0.11,
           1,
           0.51,
           0.15,
           -0.01,
           0.02,
           0.06,
           -0.04,
           -0.03,
           0.05,
           -0.02,
           -0.03,
           -0.02,
           0.01,
           0.01,
           -0.01,
           0,
           0.03,
           -0.02,
           0.01,
           -0.01,
           -0.02,
           0.03,
           0.21,
           0,
           -0.23,
           0.08,
           -0.07,
           0.05,
           0.05,
           0.02,
           -0.11,
           -0.09,
           0.02,
           0.03,
           -0.01,
           0.08,
           0.11,
           0.61,
           0.34,
           0.33,
           -0.82
          ],
          [
           0.06,
           -0.06,
           -0.03,
           -0.05,
           0.51,
           1,
           0.14,
           0.01,
           0.03,
           0,
           -0.04,
           -0.02,
           0.03,
           -0.03,
           -0.02,
           -0.02,
           0.01,
           0.02,
           0,
           -0.02,
           0.04,
           -0.01,
           0,
           -0.03,
           0,
           0.02,
           0.15,
           0.02,
           -0.18,
           0.02,
           -0.03,
           0.06,
           0.06,
           0.03,
           -0.09,
           -0.05,
           0.03,
           -0.03,
           0.02,
           0.06,
           0.1,
           0.35,
           0.32,
           0.33,
           -0.63
          ],
          [
           0.14,
           -0.06,
           0.46,
           -0.13,
           0.15,
           0.14,
           1,
           0.14,
           0.1,
           -0.2,
           -0.04,
           -0.11,
           0,
           -0.1,
           -0.03,
           -0.02,
           0.03,
           0.1,
           -0.01,
           -0.04,
           0.11,
           -0.01,
           0.04,
           0,
           -0.09,
           0.1,
           0.22,
           0.01,
           -0.25,
           0.09,
           -0.02,
           0.09,
           0.04,
           -0.03,
           -0.04,
           -0.01,
           0.14,
           -0.17,
           -0.03,
           0.13,
           0.13,
           0.02,
           0.04,
           0.29,
           -0.23
          ],
          [
           0.03,
           -0.01,
           0,
           -0.05,
           -0.01,
           0.01,
           0.14,
           1,
           -0.1,
           -0.15,
           0,
           -0.03,
           -0.02,
           -0.03,
           -0.04,
           0.02,
           -0.1,
           0.24,
           -0.01,
           -0.03,
           0.25,
           -0.08,
           0,
           -0.02,
           -0.13,
           0.15,
           0,
           0.09,
           -0.05,
           -0.01,
           -0.07,
           0.04,
           0.05,
           0.03,
           0.02,
           0.01,
           0.05,
           -0.04,
           -0.07,
           0.06,
           0.05,
           -0.04,
           0.01,
           0.07,
           -0.02
          ],
          [
           0.04,
           0.01,
           -0.02,
           -0.01,
           0.02,
           0.03,
           0.1,
           -0.1,
           1,
           -0.09,
           -0.02,
           -0.05,
           -0.06,
           -0.37,
           0.02,
           -0.14,
           0.52,
           -0.15,
           0.09,
           -0.1,
           -0.01,
           0.05,
           -0.03,
           -0.03,
           -0.13,
           0.17,
           0.17,
           -0.08,
           -0.14,
           0.02,
           0.1,
           0,
           0.04,
           0,
           -0.05,
           -0.04,
           0.05,
           -0.1,
           0.03,
           0.03,
           0.03,
           0.02,
           0.02,
           0.07,
           -0.07
          ],
          [
           -0.09,
           -0.02,
           0.04,
           0.01,
           0.06,
           0,
           -0.2,
           -0.15,
           -0.09,
           1,
           0.01,
           0.07,
           0.06,
           0.19,
           0.01,
           -0.06,
           -0.08,
           -0.17,
           -0.02,
           0.08,
           -0.12,
           0,
           -0.06,
           0.01,
           0.04,
           -0.05,
           -0.19,
           -0.08,
           0.26,
           0.03,
           -0.24,
           -0.06,
           -0.08,
           -0.09,
           -0.03,
           -0.07,
           -0.08,
           0.43,
           0,
           -0.09,
           -0.09,
           0.09,
           0.01,
           -0.13,
           0.02
          ],
          [
           -0.11,
           0.02,
           -0.01,
           0.03,
           -0.04,
           -0.04,
           -0.04,
           0,
           -0.02,
           0.01,
           1,
           0.07,
           -0.02,
           0.02,
           0.02,
           0.02,
           0,
           -0.02,
           0.01,
           -0.02,
           -0.02,
           0,
           0.01,
           0.02,
           -0.01,
           -0.01,
           -0.03,
           -0.02,
           0.04,
           -0.02,
           0,
           -0.01,
           -0.02,
           0,
           0.05,
           0.02,
           -0.02,
           0,
           0,
           -0.02,
           -0.02,
           -0.03,
           -0.02,
           -0.04,
           0.06
          ],
          [
           -0.11,
           0.02,
           0,
           0.03,
           -0.03,
           -0.02,
           -0.11,
           -0.03,
           -0.05,
           0.07,
           0.07,
           1,
           0.05,
           0.06,
           0.04,
           -0.03,
           -0.05,
           -0.05,
           0,
           0.03,
           -0.07,
           0.01,
           -0.04,
           0.03,
           0.04,
           -0.07,
           0,
           -0.02,
           0.01,
           -0.04,
           -0.06,
           -0.03,
           -0.01,
           0,
           0.16,
           -0.01,
           -0.04,
           0,
           0.02,
           -0.03,
           -0.05,
           0.01,
           -0.02,
           -0.08,
           0.06
          ],
          [
           -0.03,
           -0.01,
           -0.02,
           -0.02,
           0.05,
           0.03,
           0,
           -0.02,
           -0.06,
           0.06,
           -0.02,
           0.05,
           1,
           -0.18,
           -0.07,
           -0.06,
           -0.2,
           -0.1,
           -0.07,
           -0.11,
           -0.07,
           -0.16,
           -0.07,
           0.02,
           -0.05,
           0.03,
           0.01,
           -0.01,
           0,
           0.01,
           -0.06,
           0,
           0.01,
           0,
           0.01,
           0,
           0,
           0.03,
           -0.01,
           0.01,
           0.01,
           0.04,
           0.01,
           0,
           -0.04
          ],
          [
           -0.05,
           -0.02,
           0.03,
           0,
           -0.02,
           -0.03,
           -0.1,
           -0.03,
           -0.37,
           0.19,
           0.02,
           0.06,
           -0.18,
           1,
           -0.08,
           -0.07,
           -0.25,
           -0.12,
           -0.09,
           -0.14,
           -0.09,
           -0.21,
           -0.09,
           -0.06,
           0.11,
           -0.08,
           -0.14,
           -0.01,
           0.16,
           0.01,
           -0.11,
           -0.03,
           -0.06,
           -0.03,
           0,
           0.03,
           -0.06,
           0.17,
           -0.03,
           -0.05,
           -0.05,
           -0.02,
           0,
           -0.07,
           0.06
          ],
          [
           -0.01,
           -0.01,
           0,
           0.01,
           -0.03,
           -0.02,
           -0.03,
           -0.04,
           0.02,
           0.01,
           0.02,
           0.04,
           -0.07,
           -0.08,
           1,
           -0.03,
           -0.1,
           -0.05,
           -0.03,
           -0.05,
           -0.03,
           -0.08,
           -0.03,
           0.01,
           0.05,
           -0.06,
           -0.02,
           0.01,
           0.02,
           -0.02,
           -0.03,
           -0.01,
           0,
           -0.01,
           0.04,
           0.03,
           -0.02,
           -0.02,
           0.05,
           -0.02,
           -0.01,
           0,
           -0.02,
           -0.03,
           0.03
          ],
          [
           0,
           0.01,
           -0.01,
           0.01,
           -0.02,
           -0.02,
           -0.02,
           0.02,
           -0.14,
           -0.06,
           0.02,
           -0.03,
           -0.06,
           -0.07,
           -0.03,
           1,
           -0.09,
           -0.04,
           -0.03,
           -0.05,
           -0.03,
           -0.07,
           -0.03,
           0.02,
           0.04,
           -0.06,
           -0.02,
           0.04,
           0,
           -0.01,
           0.02,
           0,
           -0.01,
           0.01,
           0.02,
           0.05,
           0,
           -0.05,
           -0.01,
           0.01,
           -0.01,
           -0.02,
           -0.01,
           -0.01,
           0.02
          ],
          [
           0.04,
           0,
           -0.02,
           0.02,
           0.01,
           0.01,
           0.03,
           -0.1,
           0.52,
           -0.08,
           0,
           -0.05,
           -0.2,
           -0.25,
           -0.1,
           -0.09,
           1,
           -0.14,
           -0.1,
           -0.17,
           -0.1,
           -0.24,
           -0.1,
           -0.01,
           0,
           0.01,
           0.11,
           -0.04,
           -0.09,
           0,
           0.1,
           0,
           0.01,
           -0.01,
           -0.02,
           -0.03,
           0.04,
           -0.1,
           0.03,
           0.01,
           0.04,
           0,
           0.01,
           0.04,
           -0.03
          ],
          [
           0.09,
           -0.01,
           0.01,
           -0.04,
           0.01,
           0.02,
           0.1,
           0.24,
           -0.15,
           -0.17,
           -0.02,
           -0.05,
           -0.1,
           -0.12,
           -0.05,
           -0.04,
           -0.14,
           1,
           -0.05,
           -0.08,
           -0.05,
           -0.12,
           -0.05,
           0.09,
           0.09,
           -0.16,
           -0.03,
           0.15,
           -0.06,
           0,
           0.02,
           0.05,
           0.03,
           0.03,
           -0.02,
           -0.01,
           0.05,
           -0.09,
           -0.02,
           0.07,
           0.06,
           -0.01,
           0,
           0.07,
           -0.04
          ],
          [
           0.01,
           0,
           0.01,
           0.01,
           -0.01,
           0,
           -0.01,
           -0.01,
           0.09,
           -0.02,
           0.01,
           0,
           -0.07,
           -0.09,
           -0.03,
           -0.03,
           -0.1,
           -0.05,
           1,
           -0.06,
           -0.03,
           -0.08,
           -0.04,
           -0.01,
           -0.01,
           0.02,
           -0.01,
           0,
           0.01,
           0,
           0.01,
           0,
           0,
           0,
           -0.01,
           0,
           0,
           -0.02,
           0.03,
           0.01,
           -0.02,
           -0.01,
           0,
           0,
           0
          ],
          [
           -0.04,
           0,
           0.01,
           0.01,
           0,
           -0.02,
           -0.04,
           -0.03,
           -0.1,
           0.08,
           -0.02,
           0.03,
           -0.11,
           -0.14,
           -0.05,
           -0.05,
           -0.17,
           -0.08,
           -0.06,
           1,
           -0.06,
           -0.13,
           -0.06,
           0.02,
           -0.02,
           0.01,
           -0.02,
           -0.02,
           0.04,
           -0.01,
           -0.07,
           -0.01,
           -0.02,
           0.02,
           0.04,
           0.01,
           -0.01,
           0.07,
           -0.02,
           -0.03,
           -0.02,
           0,
           -0.02,
           -0.03,
           0.03
          ],
          [
           0.01,
           -0.01,
           -0.02,
           -0.02,
           0.03,
           0.04,
           0.11,
           0.25,
           -0.01,
           -0.12,
           -0.02,
           -0.07,
           -0.07,
           -0.09,
           -0.03,
           -0.03,
           -0.1,
           -0.05,
           -0.03,
           -0.06,
           1,
           -0.08,
           -0.03,
           -0.06,
           -0.19,
           0.25,
           0.05,
           0.02,
           -0.07,
           0.01,
           0,
           0.03,
           0.03,
           0,
           -0.02,
           -0.02,
           0.02,
           -0.03,
           0,
           0.03,
           0.03,
           -0.01,
           0.04,
           0.06,
           -0.06
          ],
          [
           -0.01,
           0.03,
           -0.01,
           0.02,
           -0.02,
           -0.01,
           -0.01,
           -0.08,
           0.05,
           0,
           0,
           0.01,
           -0.16,
           -0.21,
           -0.08,
           -0.07,
           -0.24,
           -0.12,
           -0.08,
           -0.13,
           -0.08,
           1,
           -0.08,
           0,
           -0.05,
           0.05,
           0.04,
           -0.05,
           -0.02,
           -0.01,
           0.1,
           -0.01,
           0,
           0,
           -0.02,
           -0.03,
           -0.02,
           -0.01,
           -0.01,
           0,
           -0.02,
           0.01,
           -0.01,
           -0.02,
           0.01
          ],
          [
           0.01,
           0,
           0.03,
           -0.02,
           0.01,
           0,
           0.04,
           0,
           -0.03,
           -0.06,
           0.01,
           -0.04,
           -0.07,
           -0.09,
           -0.03,
           -0.03,
           -0.1,
           -0.05,
           -0.04,
           -0.06,
           -0.03,
           -0.08,
           1,
           0.01,
           -0.02,
           0.01,
           0.02,
           0,
           -0.02,
           0,
           -0.03,
           0.01,
           0.06,
           0.04,
           0,
           0,
           0,
           -0.04,
           0.01,
           0,
           0,
           -0.01,
           -0.01,
           0.03,
           -0.01
          ],
          [
           -0.03,
           0,
           0.02,
           -0.01,
           -0.01,
           -0.03,
           0,
           -0.02,
           -0.03,
           0.01,
           0.02,
           0.03,
           0.02,
           -0.06,
           0.01,
           0.02,
           -0.01,
           0.09,
           -0.01,
           0.02,
           -0.06,
           0,
           0.01,
           1,
           -0.41,
           -0.25,
           -0.02,
           -0.02,
           0.03,
           -0.03,
           -0.01,
           -0.01,
           -0.02,
           0,
           0.02,
           0.01,
           0,
           0.01,
           0.01,
           0,
           -0.01,
           -0.02,
           -0.01,
           -0.02,
           0.04
          ],
          [
           0.03,
           0,
           -0.04,
           0.06,
           -0.02,
           0,
           -0.09,
           -0.13,
           -0.13,
           0.04,
           -0.01,
           0.04,
           -0.05,
           0.11,
           0.05,
           0.04,
           0,
           0.09,
           -0.01,
           -0.02,
           -0.19,
           -0.05,
           -0.02,
           -0.41,
           1,
           -0.78,
           -0.06,
           0.06,
           0.03,
           -0.01,
           0.05,
           0.01,
           -0.02,
           -0.02,
           0.02,
           0,
           -0.03,
           -0.03,
           0.03,
           -0.01,
           -0.02,
           0.01,
           -0.03,
           -0.01,
           0.01
          ],
          [
           -0.01,
           0,
           0.02,
           -0.05,
           0.03,
           0.02,
           0.1,
           0.15,
           0.17,
           -0.05,
           -0.01,
           -0.07,
           0.03,
           -0.08,
           -0.06,
           -0.06,
           0.01,
           -0.16,
           0.02,
           0.01,
           0.25,
           0.05,
           0.01,
           -0.25,
           -0.78,
           1,
           0.07,
           -0.05,
           -0.05,
           0.03,
           -0.04,
           0,
           0.03,
           0.03,
           -0.04,
           -0.01,
           0.03,
           0.03,
           -0.04,
           0.02,
           0.03,
           0.01,
           0.04,
           0.02,
           -0.04
          ],
          [
           0.03,
           -0.01,
           0.02,
           -0.07,
           0.21,
           0.15,
           0.22,
           0,
           0.17,
           -0.19,
           -0.03,
           0,
           0.01,
           -0.14,
           -0.02,
           -0.02,
           0.11,
           -0.03,
           -0.01,
           -0.02,
           0.05,
           0.04,
           0.02,
           -0.02,
           -0.06,
           0.07,
           1,
           -0.43,
           -0.84,
           0.14,
           0.21,
           0.02,
           0.11,
           0.07,
           0.12,
           -0.32,
           0.06,
           -0.34,
           0.11,
           0.03,
           0.05,
           0.17,
           0.09,
           0.15,
           -0.26
          ],
          [
           0.06,
           0.01,
           -0.02,
           0.06,
           0,
           0.02,
           0.01,
           0.09,
           -0.08,
           -0.08,
           -0.02,
           -0.02,
           -0.01,
           -0.01,
           0.01,
           0.04,
           -0.04,
           0.15,
           0,
           -0.02,
           0.02,
           -0.05,
           0,
           -0.02,
           0.06,
           -0.05,
           -0.43,
           1,
           -0.14,
           -0.01,
           -0.05,
           0.04,
           0.04,
           0.03,
           0.09,
           -0.06,
           0.01,
           -0.08,
           0.03,
           0.07,
           0.02,
           -0.01,
           0.01,
           0,
           0
          ],
          [
           -0.07,
           0,
           -0.01,
           0.04,
           -0.23,
           -0.18,
           -0.25,
           -0.05,
           -0.14,
           0.26,
           0.04,
           0.01,
           0,
           0.16,
           0.02,
           0,
           -0.09,
           -0.06,
           0.01,
           0.04,
           -0.07,
           -0.02,
           -0.02,
           0.03,
           0.03,
           -0.05,
           -0.84,
           -0.14,
           1,
           -0.15,
           -0.2,
           -0.05,
           -0.14,
           -0.09,
           -0.18,
           0.39,
           -0.07,
           0.42,
           -0.14,
           -0.08,
           -0.07,
           -0.18,
           -0.11,
           -0.16,
           0.29
          ],
          [
           0.05,
           0.11,
           0.03,
           -0.08,
           0.08,
           0.02,
           0.09,
           -0.01,
           0.02,
           0.03,
           -0.02,
           -0.04,
           0.01,
           0.01,
           -0.02,
           -0.01,
           0,
           0,
           0,
           -0.01,
           0.01,
           -0.01,
           0,
           -0.03,
           -0.01,
           0.03,
           0.14,
           -0.01,
           -0.15,
           1,
           -0.12,
           -0.03,
           -0.08,
           -0.05,
           -0.12,
           -0.1,
           -0.05,
           -0.18,
           -0.09,
           -0.06,
           -0.05,
           0.07,
           0.04,
           0,
           -0.07
          ],
          [
           -0.01,
           0,
           -0.02,
           0.15,
           -0.07,
           -0.03,
           -0.02,
           -0.07,
           0.1,
           -0.24,
           0,
           -0.06,
           -0.06,
           -0.11,
           -0.03,
           0.02,
           0.1,
           0.02,
           0.01,
           -0.07,
           0,
           0.1,
           -0.03,
           -0.01,
           0.05,
           -0.04,
           0.21,
           -0.05,
           -0.2,
           -0.12,
           1,
           -0.04,
           -0.11,
           -0.07,
           -0.16,
           -0.14,
           -0.06,
           -0.24,
           -0.12,
           -0.07,
           -0.07,
           -0.06,
           -0.04,
           0.01,
           0.06
          ],
          [
           0.03,
           -0.01,
           0.01,
           -0.01,
           0.05,
           0.06,
           0.09,
           0.04,
           0,
           -0.06,
           -0.01,
           -0.03,
           0,
           -0.03,
           -0.01,
           0,
           0,
           0.05,
           0,
           -0.01,
           0.03,
           -0.01,
           0.01,
           -0.01,
           0.01,
           0,
           0.02,
           0.04,
           -0.05,
           -0.03,
           -0.04,
           1,
           -0.03,
           -0.02,
           -0.04,
           -0.03,
           -0.01,
           -0.06,
           -0.03,
           -0.02,
           -0.02,
           0,
           0.04,
           0.07,
           -0.07
          ],
          [
           0.01,
           -0.24,
           -0.03,
           -0.04,
           0.05,
           0.06,
           0.04,
           0.05,
           0.04,
           -0.08,
           -0.02,
           -0.01,
           0.01,
           -0.06,
           0,
           -0.01,
           0.01,
           0.03,
           0,
           -0.02,
           0.03,
           0,
           0.06,
           -0.02,
           -0.02,
           0.03,
           0.11,
           0.04,
           -0.14,
           -0.08,
           -0.11,
           -0.03,
           1,
           -0.05,
           -0.11,
           -0.1,
           -0.04,
           -0.16,
           -0.08,
           -0.05,
           -0.05,
           0.06,
           0.04,
           0.04,
           -0.09
          ],
          [
           -0.01,
           0.23,
           -0.01,
           -0.05,
           0.02,
           0.03,
           -0.03,
           0.03,
           0,
           -0.09,
           0,
           0,
           0,
           -0.03,
           -0.01,
           0.01,
           -0.01,
           0.03,
           0,
           0.02,
           0,
           0,
           0.04,
           0,
           -0.02,
           0.03,
           0.07,
           0.03,
           -0.09,
           -0.05,
           -0.07,
           -0.02,
           -0.05,
           1,
           -0.07,
           -0.06,
           -0.03,
           -0.11,
           -0.05,
           -0.03,
           -0.03,
           0.01,
           0.06,
           0.01,
           -0.04
          ],
          [
           -0.09,
           0.13,
           0.06,
           0.12,
           -0.11,
           -0.09,
           -0.04,
           0.02,
           -0.05,
           -0.03,
           0.05,
           0.16,
           0.01,
           0,
           0.04,
           0.02,
           -0.02,
           -0.02,
           -0.01,
           0.04,
           -0.02,
           -0.02,
           0,
           0.02,
           0.02,
           -0.04,
           0.12,
           0.09,
           -0.18,
           -0.12,
           -0.16,
           -0.04,
           -0.11,
           -0.07,
           1,
           -0.14,
           -0.06,
           -0.24,
           -0.12,
           -0.07,
           -0.07,
           -0.1,
           -0.06,
           -0.07,
           0.15
          ],
          [
           0.04,
           -0.18,
           0,
           0.05,
           -0.09,
           -0.05,
           -0.01,
           0.01,
           -0.04,
           -0.07,
           0.02,
           -0.01,
           0,
           0.03,
           0.03,
           0.05,
           -0.03,
           -0.01,
           0,
           0.01,
           -0.02,
           -0.03,
           0,
           0.01,
           0,
           -0.01,
           -0.32,
           -0.06,
           0.39,
           -0.1,
           -0.14,
           -0.03,
           -0.1,
           -0.06,
           -0.14,
           1,
           -0.05,
           -0.21,
           -0.1,
           -0.06,
           -0.06,
           -0.07,
           -0.04,
           -0.02,
           0.09
          ],
          [
           0.04,
           -0.04,
           -0.03,
           -0.03,
           0.02,
           0.03,
           0.14,
           0.05,
           0.05,
           -0.08,
           -0.02,
           -0.04,
           0,
           -0.06,
           -0.02,
           0,
           0.04,
           0.05,
           0,
           -0.01,
           0.02,
           -0.02,
           0,
           0,
           -0.03,
           0.03,
           0.06,
           0.01,
           -0.07,
           -0.05,
           -0.06,
           -0.01,
           -0.04,
           -0.03,
           -0.06,
           -0.05,
           1,
           -0.09,
           -0.04,
           -0.03,
           -0.03,
           0,
           0.03,
           0.04,
           -0.04
          ],
          [
           -0.1,
           -0.01,
           0.01,
           -0.04,
           0.03,
           -0.03,
           -0.17,
           -0.04,
           -0.1,
           0.43,
           0,
           0,
           0.03,
           0.17,
           -0.02,
           -0.05,
           -0.1,
           -0.09,
           -0.02,
           0.07,
           -0.03,
           -0.01,
           -0.04,
           0.01,
           -0.03,
           0.03,
           -0.34,
           -0.08,
           0.42,
           -0.18,
           -0.24,
           -0.06,
           -0.16,
           -0.11,
           -0.24,
           -0.21,
           -0.09,
           1,
           -0.17,
           -0.11,
           -0.1,
           0.03,
           -0.01,
           -0.1,
           0.05
          ],
          [
           0.08,
           0.06,
           -0.02,
           -0.08,
           -0.01,
           0.02,
           -0.03,
           -0.07,
           0.03,
           0,
           0,
           0.02,
           -0.01,
           -0.03,
           0.05,
           -0.01,
           0.03,
           -0.02,
           0.03,
           -0.02,
           0,
           -0.01,
           0.01,
           0.01,
           0.03,
           -0.04,
           0.11,
           0.03,
           -0.14,
           -0.09,
           -0.12,
           -0.03,
           -0.08,
           -0.05,
           -0.12,
           -0.1,
           -0.04,
           -0.17,
           1,
           -0.05,
           -0.05,
           0.06,
           0.01,
           0.02,
           -0.06
          ],
          [
           0.06,
           0.07,
           -0.01,
           -0.07,
           0.08,
           0.06,
           0.13,
           0.06,
           0.03,
           -0.09,
           -0.02,
           -0.03,
           0.01,
           -0.05,
           -0.02,
           0.01,
           0.01,
           0.07,
           0.01,
           -0.03,
           0.03,
           0,
           0,
           0,
           -0.01,
           0.02,
           0.03,
           0.07,
           -0.08,
           -0.06,
           -0.07,
           -0.02,
           -0.05,
           -0.03,
           -0.07,
           -0.06,
           -0.03,
           -0.11,
           -0.05,
           1,
           -0.03,
           0.04,
           0.01,
           0.11,
           -0.11
          ],
          [
           0.05,
           -0.07,
           -0.01,
           -0.05,
           0.11,
           0.1,
           0.13,
           0.05,
           0.03,
           -0.09,
           -0.02,
           -0.05,
           0.01,
           -0.05,
           -0.01,
           -0.01,
           0.04,
           0.06,
           -0.02,
           -0.02,
           0.03,
           -0.02,
           0,
           -0.01,
           -0.02,
           0.03,
           0.05,
           0.02,
           -0.07,
           -0.05,
           -0.07,
           -0.02,
           -0.05,
           -0.03,
           -0.07,
           -0.06,
           -0.03,
           -0.1,
           -0.05,
           -0.03,
           1,
           0.03,
           0.05,
           0.14,
           -0.14
          ],
          [
           0.03,
           -0.07,
           -0.04,
           -0.08,
           0.61,
           0.35,
           0.02,
           -0.04,
           0.02,
           0.09,
           -0.03,
           0.01,
           0.04,
           -0.02,
           0,
           -0.02,
           0,
           -0.01,
           -0.01,
           0,
           -0.01,
           0.01,
           -0.01,
           -0.02,
           0.01,
           0.01,
           0.17,
           -0.01,
           -0.18,
           0.07,
           -0.06,
           0,
           0.06,
           0.01,
           -0.1,
           -0.07,
           0,
           0.03,
           0.06,
           0.04,
           0.03,
           1,
           -0.08,
           -0.11,
           -0.61
          ],
          [
           0.03,
           -0.01,
           -0.01,
           -0.02,
           0.34,
           0.32,
           0.04,
           0.01,
           0.02,
           0.01,
           -0.02,
           -0.02,
           0.01,
           0,
           -0.02,
           -0.01,
           0.01,
           0,
           0,
           -0.02,
           0.04,
           -0.01,
           -0.01,
           -0.01,
           -0.03,
           0.04,
           0.09,
           0.01,
           -0.11,
           0.04,
           -0.04,
           0.04,
           0.04,
           0.06,
           -0.06,
           -0.04,
           0.03,
           -0.01,
           0.01,
           0.01,
           0.05,
           -0.08,
           1,
           -0.07,
           -0.39
          ],
          [
           0.07,
           -0.04,
           -0.03,
           -0.09,
           0.33,
           0.33,
           0.29,
           0.07,
           0.07,
           -0.13,
           -0.04,
           -0.08,
           0,
           -0.07,
           -0.03,
           -0.01,
           0.04,
           0.07,
           0,
           -0.03,
           0.06,
           -0.02,
           0.03,
           -0.02,
           -0.01,
           0.02,
           0.15,
           0,
           -0.16,
           0,
           0.01,
           0.07,
           0.04,
           0.01,
           -0.07,
           -0.02,
           0.04,
           -0.1,
           0.02,
           0.11,
           0.14,
           -0.11,
           -0.07,
           1,
           -0.56
          ],
          [
           -0.09,
           0.09,
           0.05,
           0.13,
           -0.82,
           -0.63,
           -0.23,
           -0.02,
           -0.07,
           0.02,
           0.06,
           0.06,
           -0.04,
           0.06,
           0.03,
           0.02,
           -0.03,
           -0.04,
           0,
           0.03,
           -0.06,
           0.01,
           -0.01,
           0.04,
           0.01,
           -0.04,
           -0.26,
           0,
           0.29,
           -0.07,
           0.06,
           -0.07,
           -0.09,
           -0.04,
           0.15,
           0.09,
           -0.04,
           0.05,
           -0.06,
           -0.11,
           -0.14,
           -0.61,
           -0.39,
           -0.56,
           1
          ]
         ]
        }
       ],
       "layout": {
        "coloraxis": {
         "colorscale": [
          [
           0,
           "#0d0887"
          ],
          [
           0.1111111111111111,
           "#46039f"
          ],
          [
           0.2222222222222222,
           "#7201a8"
          ],
          [
           0.3333333333333333,
           "#9c179e"
          ],
          [
           0.4444444444444444,
           "#bd3786"
          ],
          [
           0.5555555555555556,
           "#d8576b"
          ],
          [
           0.6666666666666666,
           "#ed7953"
          ],
          [
           0.7777777777777778,
           "#fb9f3a"
          ],
          [
           0.8888888888888888,
           "#fdca26"
          ],
          [
           1,
           "#f0f921"
          ]
         ]
        },
        "height": 1500,
        "template": {
         "data": {
          "bar": [
           {
            "error_x": {
             "color": "#2a3f5f"
            },
            "error_y": {
             "color": "#2a3f5f"
            },
            "marker": {
             "line": {
              "color": "#E5ECF6",
              "width": 0.5
             },
             "pattern": {
              "fillmode": "overlay",
              "size": 10,
              "solidity": 0.2
             }
            },
            "type": "bar"
           }
          ],
          "barpolar": [
           {
            "marker": {
             "line": {
              "color": "#E5ECF6",
              "width": 0.5
             },
             "pattern": {
              "fillmode": "overlay",
              "size": 10,
              "solidity": 0.2
             }
            },
            "type": "barpolar"
           }
          ],
          "carpet": [
           {
            "aaxis": {
             "endlinecolor": "#2a3f5f",
             "gridcolor": "white",
             "linecolor": "white",
             "minorgridcolor": "white",
             "startlinecolor": "#2a3f5f"
            },
            "baxis": {
             "endlinecolor": "#2a3f5f",
             "gridcolor": "white",
             "linecolor": "white",
             "minorgridcolor": "white",
             "startlinecolor": "#2a3f5f"
            },
            "type": "carpet"
           }
          ],
          "choropleth": [
           {
            "colorbar": {
             "outlinewidth": 0,
             "ticks": ""
            },
            "type": "choropleth"
           }
          ],
          "contour": [
           {
            "colorbar": {
             "outlinewidth": 0,
             "ticks": ""
            },
            "colorscale": [
             [
              0,
              "#0d0887"
             ],
             [
              0.1111111111111111,
              "#46039f"
             ],
             [
              0.2222222222222222,
              "#7201a8"
             ],
             [
              0.3333333333333333,
              "#9c179e"
             ],
             [
              0.4444444444444444,
              "#bd3786"
             ],
             [
              0.5555555555555556,
              "#d8576b"
             ],
             [
              0.6666666666666666,
              "#ed7953"
             ],
             [
              0.7777777777777778,
              "#fb9f3a"
             ],
             [
              0.8888888888888888,
              "#fdca26"
             ],
             [
              1,
              "#f0f921"
             ]
            ],
            "type": "contour"
           }
          ],
          "contourcarpet": [
           {
            "colorbar": {
             "outlinewidth": 0,
             "ticks": ""
            },
            "type": "contourcarpet"
           }
          ],
          "heatmap": [
           {
            "colorbar": {
             "outlinewidth": 0,
             "ticks": ""
            },
            "colorscale": [
             [
              0,
              "#0d0887"
             ],
             [
              0.1111111111111111,
              "#46039f"
             ],
             [
              0.2222222222222222,
              "#7201a8"
             ],
             [
              0.3333333333333333,
              "#9c179e"
             ],
             [
              0.4444444444444444,
              "#bd3786"
             ],
             [
              0.5555555555555556,
              "#d8576b"
             ],
             [
              0.6666666666666666,
              "#ed7953"
             ],
             [
              0.7777777777777778,
              "#fb9f3a"
             ],
             [
              0.8888888888888888,
              "#fdca26"
             ],
             [
              1,
              "#f0f921"
             ]
            ],
            "type": "heatmap"
           }
          ],
          "heatmapgl": [
           {
            "colorbar": {
             "outlinewidth": 0,
             "ticks": ""
            },
            "colorscale": [
             [
              0,
              "#0d0887"
             ],
             [
              0.1111111111111111,
              "#46039f"
             ],
             [
              0.2222222222222222,
              "#7201a8"
             ],
             [
              0.3333333333333333,
              "#9c179e"
             ],
             [
              0.4444444444444444,
              "#bd3786"
             ],
             [
              0.5555555555555556,
              "#d8576b"
             ],
             [
              0.6666666666666666,
              "#ed7953"
             ],
             [
              0.7777777777777778,
              "#fb9f3a"
             ],
             [
              0.8888888888888888,
              "#fdca26"
             ],
             [
              1,
              "#f0f921"
             ]
            ],
            "type": "heatmapgl"
           }
          ],
          "histogram": [
           {
            "marker": {
             "pattern": {
              "fillmode": "overlay",
              "size": 10,
              "solidity": 0.2
             }
            },
            "type": "histogram"
           }
          ],
          "histogram2d": [
           {
            "colorbar": {
             "outlinewidth": 0,
             "ticks": ""
            },
            "colorscale": [
             [
              0,
              "#0d0887"
             ],
             [
              0.1111111111111111,
              "#46039f"
             ],
             [
              0.2222222222222222,
              "#7201a8"
             ],
             [
              0.3333333333333333,
              "#9c179e"
             ],
             [
              0.4444444444444444,
              "#bd3786"
             ],
             [
              0.5555555555555556,
              "#d8576b"
             ],
             [
              0.6666666666666666,
              "#ed7953"
             ],
             [
              0.7777777777777778,
              "#fb9f3a"
             ],
             [
              0.8888888888888888,
              "#fdca26"
             ],
             [
              1,
              "#f0f921"
             ]
            ],
            "type": "histogram2d"
           }
          ],
          "histogram2dcontour": [
           {
            "colorbar": {
             "outlinewidth": 0,
             "ticks": ""
            },
            "colorscale": [
             [
              0,
              "#0d0887"
             ],
             [
              0.1111111111111111,
              "#46039f"
             ],
             [
              0.2222222222222222,
              "#7201a8"
             ],
             [
              0.3333333333333333,
              "#9c179e"
             ],
             [
              0.4444444444444444,
              "#bd3786"
             ],
             [
              0.5555555555555556,
              "#d8576b"
             ],
             [
              0.6666666666666666,
              "#ed7953"
             ],
             [
              0.7777777777777778,
              "#fb9f3a"
             ],
             [
              0.8888888888888888,
              "#fdca26"
             ],
             [
              1,
              "#f0f921"
             ]
            ],
            "type": "histogram2dcontour"
           }
          ],
          "mesh3d": [
           {
            "colorbar": {
             "outlinewidth": 0,
             "ticks": ""
            },
            "type": "mesh3d"
           }
          ],
          "parcoords": [
           {
            "line": {
             "colorbar": {
              "outlinewidth": 0,
              "ticks": ""
             }
            },
            "type": "parcoords"
           }
          ],
          "pie": [
           {
            "automargin": true,
            "type": "pie"
           }
          ],
          "scatter": [
           {
            "fillpattern": {
             "fillmode": "overlay",
             "size": 10,
             "solidity": 0.2
            },
            "type": "scatter"
           }
          ],
          "scatter3d": [
           {
            "line": {
             "colorbar": {
              "outlinewidth": 0,
              "ticks": ""
             }
            },
            "marker": {
             "colorbar": {
              "outlinewidth": 0,
              "ticks": ""
             }
            },
            "type": "scatter3d"
           }
          ],
          "scattercarpet": [
           {
            "marker": {
             "colorbar": {
              "outlinewidth": 0,
              "ticks": ""
             }
            },
            "type": "scattercarpet"
           }
          ],
          "scattergeo": [
           {
            "marker": {
             "colorbar": {
              "outlinewidth": 0,
              "ticks": ""
             }
            },
            "type": "scattergeo"
           }
          ],
          "scattergl": [
           {
            "marker": {
             "colorbar": {
              "outlinewidth": 0,
              "ticks": ""
             }
            },
            "type": "scattergl"
           }
          ],
          "scattermapbox": [
           {
            "marker": {
             "colorbar": {
              "outlinewidth": 0,
              "ticks": ""
             }
            },
            "type": "scattermapbox"
           }
          ],
          "scatterpolar": [
           {
            "marker": {
             "colorbar": {
              "outlinewidth": 0,
              "ticks": ""
             }
            },
            "type": "scatterpolar"
           }
          ],
          "scatterpolargl": [
           {
            "marker": {
             "colorbar": {
              "outlinewidth": 0,
              "ticks": ""
             }
            },
            "type": "scatterpolargl"
           }
          ],
          "scatterternary": [
           {
            "marker": {
             "colorbar": {
              "outlinewidth": 0,
              "ticks": ""
             }
            },
            "type": "scatterternary"
           }
          ],
          "surface": [
           {
            "colorbar": {
             "outlinewidth": 0,
             "ticks": ""
            },
            "colorscale": [
             [
              0,
              "#0d0887"
             ],
             [
              0.1111111111111111,
              "#46039f"
             ],
             [
              0.2222222222222222,
              "#7201a8"
             ],
             [
              0.3333333333333333,
              "#9c179e"
             ],
             [
              0.4444444444444444,
              "#bd3786"
             ],
             [
              0.5555555555555556,
              "#d8576b"
             ],
             [
              0.6666666666666666,
              "#ed7953"
             ],
             [
              0.7777777777777778,
              "#fb9f3a"
             ],
             [
              0.8888888888888888,
              "#fdca26"
             ],
             [
              1,
              "#f0f921"
             ]
            ],
            "type": "surface"
           }
          ],
          "table": [
           {
            "cells": {
             "fill": {
              "color": "#EBF0F8"
             },
             "line": {
              "color": "white"
             }
            },
            "header": {
             "fill": {
              "color": "#C8D4E3"
             },
             "line": {
              "color": "white"
             }
            },
            "type": "table"
           }
          ]
         },
         "layout": {
          "annotationdefaults": {
           "arrowcolor": "#2a3f5f",
           "arrowhead": 0,
           "arrowwidth": 1
          },
          "autotypenumbers": "strict",
          "coloraxis": {
           "colorbar": {
            "outlinewidth": 0,
            "ticks": ""
           }
          },
          "colorscale": {
           "diverging": [
            [
             0,
             "#8e0152"
            ],
            [
             0.1,
             "#c51b7d"
            ],
            [
             0.2,
             "#de77ae"
            ],
            [
             0.3,
             "#f1b6da"
            ],
            [
             0.4,
             "#fde0ef"
            ],
            [
             0.5,
             "#f7f7f7"
            ],
            [
             0.6,
             "#e6f5d0"
            ],
            [
             0.7,
             "#b8e186"
            ],
            [
             0.8,
             "#7fbc41"
            ],
            [
             0.9,
             "#4d9221"
            ],
            [
             1,
             "#276419"
            ]
           ],
           "sequential": [
            [
             0,
             "#0d0887"
            ],
            [
             0.1111111111111111,
             "#46039f"
            ],
            [
             0.2222222222222222,
             "#7201a8"
            ],
            [
             0.3333333333333333,
             "#9c179e"
            ],
            [
             0.4444444444444444,
             "#bd3786"
            ],
            [
             0.5555555555555556,
             "#d8576b"
            ],
            [
             0.6666666666666666,
             "#ed7953"
            ],
            [
             0.7777777777777778,
             "#fb9f3a"
            ],
            [
             0.8888888888888888,
             "#fdca26"
            ],
            [
             1,
             "#f0f921"
            ]
           ],
           "sequentialminus": [
            [
             0,
             "#0d0887"
            ],
            [
             0.1111111111111111,
             "#46039f"
            ],
            [
             0.2222222222222222,
             "#7201a8"
            ],
            [
             0.3333333333333333,
             "#9c179e"
            ],
            [
             0.4444444444444444,
             "#bd3786"
            ],
            [
             0.5555555555555556,
             "#d8576b"
            ],
            [
             0.6666666666666666,
             "#ed7953"
            ],
            [
             0.7777777777777778,
             "#fb9f3a"
            ],
            [
             0.8888888888888888,
             "#fdca26"
            ],
            [
             1,
             "#f0f921"
            ]
           ]
          },
          "colorway": [
           "#636efa",
           "#EF553B",
           "#00cc96",
           "#ab63fa",
           "#FFA15A",
           "#19d3f3",
           "#FF6692",
           "#B6E880",
           "#FF97FF",
           "#FECB52"
          ],
          "font": {
           "color": "#2a3f5f"
          },
          "geo": {
           "bgcolor": "white",
           "lakecolor": "white",
           "landcolor": "#E5ECF6",
           "showlakes": true,
           "showland": true,
           "subunitcolor": "white"
          },
          "hoverlabel": {
           "align": "left"
          },
          "hovermode": "closest",
          "mapbox": {
           "style": "light"
          },
          "paper_bgcolor": "white",
          "plot_bgcolor": "#E5ECF6",
          "polar": {
           "angularaxis": {
            "gridcolor": "white",
            "linecolor": "white",
            "ticks": ""
           },
           "bgcolor": "#E5ECF6",
           "radialaxis": {
            "gridcolor": "white",
            "linecolor": "white",
            "ticks": ""
           }
          },
          "scene": {
           "xaxis": {
            "backgroundcolor": "#E5ECF6",
            "gridcolor": "white",
            "gridwidth": 2,
            "linecolor": "white",
            "showbackground": true,
            "ticks": "",
            "zerolinecolor": "white"
           },
           "yaxis": {
            "backgroundcolor": "#E5ECF6",
            "gridcolor": "white",
            "gridwidth": 2,
            "linecolor": "white",
            "showbackground": true,
            "ticks": "",
            "zerolinecolor": "white"
           },
           "zaxis": {
            "backgroundcolor": "#E5ECF6",
            "gridcolor": "white",
            "gridwidth": 2,
            "linecolor": "white",
            "showbackground": true,
            "ticks": "",
            "zerolinecolor": "white"
           }
          },
          "shapedefaults": {
           "line": {
            "color": "#2a3f5f"
           }
          },
          "ternary": {
           "aaxis": {
            "gridcolor": "white",
            "linecolor": "white",
            "ticks": ""
           },
           "baxis": {
            "gridcolor": "white",
            "linecolor": "white",
            "ticks": ""
           },
           "bgcolor": "#E5ECF6",
           "caxis": {
            "gridcolor": "white",
            "linecolor": "white",
            "ticks": ""
           }
          },
          "title": {
           "x": 0.05
          },
          "xaxis": {
           "automargin": true,
           "gridcolor": "white",
           "linecolor": "white",
           "ticks": "",
           "title": {
            "standoff": 15
           },
           "zerolinecolor": "white",
           "zerolinewidth": 2
          },
          "yaxis": {
           "automargin": true,
           "gridcolor": "white",
           "linecolor": "white",
           "ticks": "",
           "title": {
            "standoff": 15
           },
           "zerolinecolor": "white",
           "zerolinewidth": 2
          }
         }
        },
        "title": {
         "text": "Матрица корреляции признаков"
        },
        "width": 1850,
        "xaxis": {
         "anchor": "y",
         "constrain": "domain",
         "domain": [
          0,
          1
         ],
         "scaleanchor": "y"
        },
        "yaxis": {
         "anchor": "x",
         "autorange": "reversed",
         "constrain": "domain",
         "domain": [
          0,
          1
         ]
        }
       }
      }
     },
     "metadata": {},
     "output_type": "display_data"
    }
   ],
   "source": [
    "# постройте корреляционную матрицу и оцените данные на предмет наличия мультиколлинеарности\n",
    "corrs = round(df.corr(), 2)\n",
    "fig = px.imshow(\n",
    "    img=corrs.values,\n",
    "    x=list(corrs.columns),\n",
    "    y=list(corrs.index),\n",
    "    text_auto=True,    \n",
    "    title='Матрица корреляции признаков',\n",
    "    width=1850,\n",
    "    height=1500\n",
    "    )\n",
    "fig.show()"
   ]
  },
  {
   "cell_type": "code",
   "execution_count": 56,
   "id": "305a9719",
   "metadata": {},
   "outputs": [
    {
     "data": {
      "application/vnd.plotly.v1+json": {
       "config": {
        "plotlyServerURL": "https://plot.ly"
       },
       "data": [
        {
         "alignmentgroup": "True",
         "hovertemplate": "x=%{x}<br>deposit=%{y}<extra></extra>",
         "legendgroup": "",
         "marker": {
          "color": "#636efa",
          "pattern": {
           "shape": ""
          }
         },
         "name": "",
         "offsetgroup": "",
         "orientation": "v",
         "showlegend": false,
         "textposition": "auto",
         "texttemplate": "%{y}",
         "type": "bar",
         "x": [
          "duration",
          "poutcome_success",
          "contact_cellular",
          "pdays",
          "balance",
          "previous",
          "age_group",
          "month_mar",
          "month_sep",
          "month_oct",
          "job_student",
          "marital_single",
          "job_retired",
          "education_cod",
          "month_dec",
          "month_apr",
          "poutcome_other",
          "month_feb",
          "job_unemployed",
          "job_management",
          "poutcome_failure",
          "contact_telephone",
          "marital_divorced",
          "job_admin.",
          "job_technician",
          "job_self-employed",
          "month_jun",
          "month_aug",
          "job_housemaid",
          "month_nov",
          "job_entrepreneur",
          "month_jan",
          "month_jul",
          "job_services",
          "default_bin",
          "day",
          "marital_married",
          "job_blue-collar",
          "loan_bin",
          "campaign",
          "month_may",
          "housing_bin",
          "poutcome_unknown",
          "contact_unknown"
         ],
         "xaxis": "x",
         "y": [
          0.46,
          0.29,
          0.22,
          0.15,
          0.14,
          0.14,
          0.14,
          0.14,
          0.13,
          0.13,
          0.11,
          0.1,
          0.1,
          0.1,
          0.09,
          0.09,
          0.04,
          0.04,
          0.04,
          0.03,
          0.02,
          0.01,
          0,
          0,
          -0.01,
          -0.01,
          -0.01,
          -0.02,
          -0.02,
          -0.03,
          -0.03,
          -0.03,
          -0.04,
          -0.04,
          -0.04,
          -0.06,
          -0.09,
          -0.1,
          -0.11,
          -0.13,
          -0.17,
          -0.2,
          -0.23,
          -0.25
         ],
         "yaxis": "y"
        }
       ],
       "layout": {
        "barmode": "relative",
        "legend": {
         "tracegroupgap": 0
        },
        "template": {
         "data": {
          "bar": [
           {
            "error_x": {
             "color": "#2a3f5f"
            },
            "error_y": {
             "color": "#2a3f5f"
            },
            "marker": {
             "line": {
              "color": "#E5ECF6",
              "width": 0.5
             },
             "pattern": {
              "fillmode": "overlay",
              "size": 10,
              "solidity": 0.2
             }
            },
            "type": "bar"
           }
          ],
          "barpolar": [
           {
            "marker": {
             "line": {
              "color": "#E5ECF6",
              "width": 0.5
             },
             "pattern": {
              "fillmode": "overlay",
              "size": 10,
              "solidity": 0.2
             }
            },
            "type": "barpolar"
           }
          ],
          "carpet": [
           {
            "aaxis": {
             "endlinecolor": "#2a3f5f",
             "gridcolor": "white",
             "linecolor": "white",
             "minorgridcolor": "white",
             "startlinecolor": "#2a3f5f"
            },
            "baxis": {
             "endlinecolor": "#2a3f5f",
             "gridcolor": "white",
             "linecolor": "white",
             "minorgridcolor": "white",
             "startlinecolor": "#2a3f5f"
            },
            "type": "carpet"
           }
          ],
          "choropleth": [
           {
            "colorbar": {
             "outlinewidth": 0,
             "ticks": ""
            },
            "type": "choropleth"
           }
          ],
          "contour": [
           {
            "colorbar": {
             "outlinewidth": 0,
             "ticks": ""
            },
            "colorscale": [
             [
              0,
              "#0d0887"
             ],
             [
              0.1111111111111111,
              "#46039f"
             ],
             [
              0.2222222222222222,
              "#7201a8"
             ],
             [
              0.3333333333333333,
              "#9c179e"
             ],
             [
              0.4444444444444444,
              "#bd3786"
             ],
             [
              0.5555555555555556,
              "#d8576b"
             ],
             [
              0.6666666666666666,
              "#ed7953"
             ],
             [
              0.7777777777777778,
              "#fb9f3a"
             ],
             [
              0.8888888888888888,
              "#fdca26"
             ],
             [
              1,
              "#f0f921"
             ]
            ],
            "type": "contour"
           }
          ],
          "contourcarpet": [
           {
            "colorbar": {
             "outlinewidth": 0,
             "ticks": ""
            },
            "type": "contourcarpet"
           }
          ],
          "heatmap": [
           {
            "colorbar": {
             "outlinewidth": 0,
             "ticks": ""
            },
            "colorscale": [
             [
              0,
              "#0d0887"
             ],
             [
              0.1111111111111111,
              "#46039f"
             ],
             [
              0.2222222222222222,
              "#7201a8"
             ],
             [
              0.3333333333333333,
              "#9c179e"
             ],
             [
              0.4444444444444444,
              "#bd3786"
             ],
             [
              0.5555555555555556,
              "#d8576b"
             ],
             [
              0.6666666666666666,
              "#ed7953"
             ],
             [
              0.7777777777777778,
              "#fb9f3a"
             ],
             [
              0.8888888888888888,
              "#fdca26"
             ],
             [
              1,
              "#f0f921"
             ]
            ],
            "type": "heatmap"
           }
          ],
          "heatmapgl": [
           {
            "colorbar": {
             "outlinewidth": 0,
             "ticks": ""
            },
            "colorscale": [
             [
              0,
              "#0d0887"
             ],
             [
              0.1111111111111111,
              "#46039f"
             ],
             [
              0.2222222222222222,
              "#7201a8"
             ],
             [
              0.3333333333333333,
              "#9c179e"
             ],
             [
              0.4444444444444444,
              "#bd3786"
             ],
             [
              0.5555555555555556,
              "#d8576b"
             ],
             [
              0.6666666666666666,
              "#ed7953"
             ],
             [
              0.7777777777777778,
              "#fb9f3a"
             ],
             [
              0.8888888888888888,
              "#fdca26"
             ],
             [
              1,
              "#f0f921"
             ]
            ],
            "type": "heatmapgl"
           }
          ],
          "histogram": [
           {
            "marker": {
             "pattern": {
              "fillmode": "overlay",
              "size": 10,
              "solidity": 0.2
             }
            },
            "type": "histogram"
           }
          ],
          "histogram2d": [
           {
            "colorbar": {
             "outlinewidth": 0,
             "ticks": ""
            },
            "colorscale": [
             [
              0,
              "#0d0887"
             ],
             [
              0.1111111111111111,
              "#46039f"
             ],
             [
              0.2222222222222222,
              "#7201a8"
             ],
             [
              0.3333333333333333,
              "#9c179e"
             ],
             [
              0.4444444444444444,
              "#bd3786"
             ],
             [
              0.5555555555555556,
              "#d8576b"
             ],
             [
              0.6666666666666666,
              "#ed7953"
             ],
             [
              0.7777777777777778,
              "#fb9f3a"
             ],
             [
              0.8888888888888888,
              "#fdca26"
             ],
             [
              1,
              "#f0f921"
             ]
            ],
            "type": "histogram2d"
           }
          ],
          "histogram2dcontour": [
           {
            "colorbar": {
             "outlinewidth": 0,
             "ticks": ""
            },
            "colorscale": [
             [
              0,
              "#0d0887"
             ],
             [
              0.1111111111111111,
              "#46039f"
             ],
             [
              0.2222222222222222,
              "#7201a8"
             ],
             [
              0.3333333333333333,
              "#9c179e"
             ],
             [
              0.4444444444444444,
              "#bd3786"
             ],
             [
              0.5555555555555556,
              "#d8576b"
             ],
             [
              0.6666666666666666,
              "#ed7953"
             ],
             [
              0.7777777777777778,
              "#fb9f3a"
             ],
             [
              0.8888888888888888,
              "#fdca26"
             ],
             [
              1,
              "#f0f921"
             ]
            ],
            "type": "histogram2dcontour"
           }
          ],
          "mesh3d": [
           {
            "colorbar": {
             "outlinewidth": 0,
             "ticks": ""
            },
            "type": "mesh3d"
           }
          ],
          "parcoords": [
           {
            "line": {
             "colorbar": {
              "outlinewidth": 0,
              "ticks": ""
             }
            },
            "type": "parcoords"
           }
          ],
          "pie": [
           {
            "automargin": true,
            "type": "pie"
           }
          ],
          "scatter": [
           {
            "fillpattern": {
             "fillmode": "overlay",
             "size": 10,
             "solidity": 0.2
            },
            "type": "scatter"
           }
          ],
          "scatter3d": [
           {
            "line": {
             "colorbar": {
              "outlinewidth": 0,
              "ticks": ""
             }
            },
            "marker": {
             "colorbar": {
              "outlinewidth": 0,
              "ticks": ""
             }
            },
            "type": "scatter3d"
           }
          ],
          "scattercarpet": [
           {
            "marker": {
             "colorbar": {
              "outlinewidth": 0,
              "ticks": ""
             }
            },
            "type": "scattercarpet"
           }
          ],
          "scattergeo": [
           {
            "marker": {
             "colorbar": {
              "outlinewidth": 0,
              "ticks": ""
             }
            },
            "type": "scattergeo"
           }
          ],
          "scattergl": [
           {
            "marker": {
             "colorbar": {
              "outlinewidth": 0,
              "ticks": ""
             }
            },
            "type": "scattergl"
           }
          ],
          "scattermapbox": [
           {
            "marker": {
             "colorbar": {
              "outlinewidth": 0,
              "ticks": ""
             }
            },
            "type": "scattermapbox"
           }
          ],
          "scatterpolar": [
           {
            "marker": {
             "colorbar": {
              "outlinewidth": 0,
              "ticks": ""
             }
            },
            "type": "scatterpolar"
           }
          ],
          "scatterpolargl": [
           {
            "marker": {
             "colorbar": {
              "outlinewidth": 0,
              "ticks": ""
             }
            },
            "type": "scatterpolargl"
           }
          ],
          "scatterternary": [
           {
            "marker": {
             "colorbar": {
              "outlinewidth": 0,
              "ticks": ""
             }
            },
            "type": "scatterternary"
           }
          ],
          "surface": [
           {
            "colorbar": {
             "outlinewidth": 0,
             "ticks": ""
            },
            "colorscale": [
             [
              0,
              "#0d0887"
             ],
             [
              0.1111111111111111,
              "#46039f"
             ],
             [
              0.2222222222222222,
              "#7201a8"
             ],
             [
              0.3333333333333333,
              "#9c179e"
             ],
             [
              0.4444444444444444,
              "#bd3786"
             ],
             [
              0.5555555555555556,
              "#d8576b"
             ],
             [
              0.6666666666666666,
              "#ed7953"
             ],
             [
              0.7777777777777778,
              "#fb9f3a"
             ],
             [
              0.8888888888888888,
              "#fdca26"
             ],
             [
              1,
              "#f0f921"
             ]
            ],
            "type": "surface"
           }
          ],
          "table": [
           {
            "cells": {
             "fill": {
              "color": "#EBF0F8"
             },
             "line": {
              "color": "white"
             }
            },
            "header": {
             "fill": {
              "color": "#C8D4E3"
             },
             "line": {
              "color": "white"
             }
            },
            "type": "table"
           }
          ]
         },
         "layout": {
          "annotationdefaults": {
           "arrowcolor": "#2a3f5f",
           "arrowhead": 0,
           "arrowwidth": 1
          },
          "autotypenumbers": "strict",
          "coloraxis": {
           "colorbar": {
            "outlinewidth": 0,
            "ticks": ""
           }
          },
          "colorscale": {
           "diverging": [
            [
             0,
             "#8e0152"
            ],
            [
             0.1,
             "#c51b7d"
            ],
            [
             0.2,
             "#de77ae"
            ],
            [
             0.3,
             "#f1b6da"
            ],
            [
             0.4,
             "#fde0ef"
            ],
            [
             0.5,
             "#f7f7f7"
            ],
            [
             0.6,
             "#e6f5d0"
            ],
            [
             0.7,
             "#b8e186"
            ],
            [
             0.8,
             "#7fbc41"
            ],
            [
             0.9,
             "#4d9221"
            ],
            [
             1,
             "#276419"
            ]
           ],
           "sequential": [
            [
             0,
             "#0d0887"
            ],
            [
             0.1111111111111111,
             "#46039f"
            ],
            [
             0.2222222222222222,
             "#7201a8"
            ],
            [
             0.3333333333333333,
             "#9c179e"
            ],
            [
             0.4444444444444444,
             "#bd3786"
            ],
            [
             0.5555555555555556,
             "#d8576b"
            ],
            [
             0.6666666666666666,
             "#ed7953"
            ],
            [
             0.7777777777777778,
             "#fb9f3a"
            ],
            [
             0.8888888888888888,
             "#fdca26"
            ],
            [
             1,
             "#f0f921"
            ]
           ],
           "sequentialminus": [
            [
             0,
             "#0d0887"
            ],
            [
             0.1111111111111111,
             "#46039f"
            ],
            [
             0.2222222222222222,
             "#7201a8"
            ],
            [
             0.3333333333333333,
             "#9c179e"
            ],
            [
             0.4444444444444444,
             "#bd3786"
            ],
            [
             0.5555555555555556,
             "#d8576b"
            ],
            [
             0.6666666666666666,
             "#ed7953"
            ],
            [
             0.7777777777777778,
             "#fb9f3a"
            ],
            [
             0.8888888888888888,
             "#fdca26"
            ],
            [
             1,
             "#f0f921"
            ]
           ]
          },
          "colorway": [
           "#636efa",
           "#EF553B",
           "#00cc96",
           "#ab63fa",
           "#FFA15A",
           "#19d3f3",
           "#FF6692",
           "#B6E880",
           "#FF97FF",
           "#FECB52"
          ],
          "font": {
           "color": "#2a3f5f"
          },
          "geo": {
           "bgcolor": "white",
           "lakecolor": "white",
           "landcolor": "#E5ECF6",
           "showlakes": true,
           "showland": true,
           "subunitcolor": "white"
          },
          "hoverlabel": {
           "align": "left"
          },
          "hovermode": "closest",
          "mapbox": {
           "style": "light"
          },
          "paper_bgcolor": "white",
          "plot_bgcolor": "#E5ECF6",
          "polar": {
           "angularaxis": {
            "gridcolor": "white",
            "linecolor": "white",
            "ticks": ""
           },
           "bgcolor": "#E5ECF6",
           "radialaxis": {
            "gridcolor": "white",
            "linecolor": "white",
            "ticks": ""
           }
          },
          "scene": {
           "xaxis": {
            "backgroundcolor": "#E5ECF6",
            "gridcolor": "white",
            "gridwidth": 2,
            "linecolor": "white",
            "showbackground": true,
            "ticks": "",
            "zerolinecolor": "white"
           },
           "yaxis": {
            "backgroundcolor": "#E5ECF6",
            "gridcolor": "white",
            "gridwidth": 2,
            "linecolor": "white",
            "showbackground": true,
            "ticks": "",
            "zerolinecolor": "white"
           },
           "zaxis": {
            "backgroundcolor": "#E5ECF6",
            "gridcolor": "white",
            "gridwidth": 2,
            "linecolor": "white",
            "showbackground": true,
            "ticks": "",
            "zerolinecolor": "white"
           }
          },
          "shapedefaults": {
           "line": {
            "color": "#2a3f5f"
           }
          },
          "ternary": {
           "aaxis": {
            "gridcolor": "white",
            "linecolor": "white",
            "ticks": ""
           },
           "baxis": {
            "gridcolor": "white",
            "linecolor": "white",
            "ticks": ""
           },
           "bgcolor": "#E5ECF6",
           "caxis": {
            "gridcolor": "white",
            "linecolor": "white",
            "ticks": ""
           }
          },
          "title": {
           "x": 0.05
          },
          "xaxis": {
           "automargin": true,
           "gridcolor": "white",
           "linecolor": "white",
           "ticks": "",
           "title": {
            "standoff": 15
           },
           "zerolinecolor": "white",
           "zerolinewidth": 2
          },
          "yaxis": {
           "automargin": true,
           "gridcolor": "white",
           "linecolor": "white",
           "ticks": "",
           "title": {
            "standoff": 15
           },
           "zerolinecolor": "white",
           "zerolinewidth": 2
          }
         }
        },
        "title": {
         "text": "Ранжирования коэффициентов корреляции"
        },
        "xaxis": {
         "anchor": "y",
         "domain": [
          0,
          1
         ],
         "title": {
          "text": "x"
         }
        },
        "yaxis": {
         "anchor": "x",
         "domain": [
          0,
          1
         ],
         "title": {
          "text": "deposit"
         }
        }
       }
      }
     },
     "metadata": {},
     "output_type": "display_data"
    }
   ],
   "source": [
    "corrs = round(df.corr(), 2).drop('deposit', axis=0)\n",
    "\n",
    "fig = px.bar(corrs['deposit'].sort_values(ascending=False),\n",
    "             x=list(corrs['deposit'].sort_values(ascending=False).index),\n",
    "             y='deposit',\n",
    "             text_auto=True,\n",
    "             title='Ранжирования коэффициентов корреляции'\n",
    "             )\n",
    "\n",
    "fig.show()  "
   ]
  },
  {
   "cell_type": "markdown",
   "id": "d4e2a8a5",
   "metadata": {},
   "source": [
    "Мультиколлинеарность признаков отсутсвует. \n",
    "\n",
    "Признаки наиболее коррелирующие с целевой переменной:\n",
    "- продолжительность контакта в секундах(duration)\n",
    "- успех результата прошлой маркетинговой кампании(poutcome_success)\n",
    "- контакт с клиентом по сотовому(contact_cellular)"
   ]
  },
  {
   "cell_type": "markdown",
   "id": "b5b4c1a5",
   "metadata": {},
   "source": [
    "### Задания 7 и 8"
   ]
  },
  {
   "cell_type": "code",
   "execution_count": 57,
   "id": "79f3e432",
   "metadata": {},
   "outputs": [],
   "source": [
    "X = df.drop(['deposit'], axis=1)\n",
    "y = df['deposit']\n",
    " \n",
    "X_train, X_test, y_train, y_test = train_test_split(X, y, stratify=y, random_state = 42, test_size = 0.33)"
   ]
  },
  {
   "cell_type": "code",
   "execution_count": 60,
   "id": "e3a097a4",
   "metadata": {},
   "outputs": [
    {
     "name": "stdout",
     "output_type": "stream",
     "text": [
      "3335 0.463\n"
     ]
    }
   ],
   "source": [
    "# рассчитайте необходимые показатели\n",
    "print(X_test.shape[0], round((y_test.mean()),2))"
   ]
  },
  {
   "cell_type": "markdown",
   "id": "2e381a4f",
   "metadata": {},
   "source": [
    "### Задание 9"
   ]
  },
  {
   "cell_type": "code",
   "execution_count": 61,
   "id": "0cfd5607",
   "metadata": {},
   "outputs": [],
   "source": [
    "from sklearn.feature_selection import SelectKBest, f_regression"
   ]
  },
  {
   "cell_type": "code",
   "execution_count": 62,
   "id": "0f6e03e0",
   "metadata": {},
   "outputs": [
    {
     "data": {
      "text/plain": [
       "['balance',\n",
       " 'duration',\n",
       " 'campaign',\n",
       " 'pdays',\n",
       " 'previous',\n",
       " 'age_group',\n",
       " 'housing_bin',\n",
       " 'contact_cellular',\n",
       " 'contact_unknown',\n",
       " 'month_mar',\n",
       " 'month_may',\n",
       " 'month_oct',\n",
       " 'month_sep',\n",
       " 'poutcome_success',\n",
       " 'poutcome_unknown']"
      ]
     },
     "execution_count": 62,
     "metadata": {},
     "output_type": "execute_result"
    }
   ],
   "source": [
    "# с помощью SelectKBest отберите 15 наиболее подходящих признаков\n",
    "selector = SelectKBest(score_func = f_classif, k=15)\n",
    "selector.fit(X_train, y_train)\n",
    "selector.get_feature_names_out()\n",
    "selector_col = list(selector.get_feature_names_out())\n",
    "selector_col"
   ]
  },
  {
   "cell_type": "markdown",
   "id": "60132ef3",
   "metadata": {},
   "source": [
    "### Задание 10"
   ]
  },
  {
   "cell_type": "code",
   "execution_count": 63,
   "id": "e91b06f3",
   "metadata": {},
   "outputs": [],
   "source": [
    "# нормализуйте данные с помощью minmaxsxaler\n",
    "from sklearn.preprocessing import MinMaxScaler\n",
    "\n",
    "scaler = MinMaxScaler()\n",
    "X_train_scal = scaler.fit_transform(X_train)\n",
    "X_train_scal = pd.DataFrame(X_train_scal, columns=X_train.columns)\n",
    "X_test_scal = scaler.transform(X_test)\n",
    "X_test_scal = pd.DataFrame(X_test_scal, columns=X_test.columns)"
   ]
  },
  {
   "cell_type": "code",
   "execution_count": 92,
   "id": "77b64bf4",
   "metadata": {},
   "outputs": [
    {
     "data": {
      "text/plain": [
       "0.47"
      ]
     },
     "execution_count": 92,
     "metadata": {},
     "output_type": "execute_result"
    }
   ],
   "source": [
    "round((X_test_scal['balance'].mean()),2)"
   ]
  },
  {
   "cell_type": "markdown",
   "id": "0894c632",
   "metadata": {},
   "source": [
    "# Часть 4: Решение задачи классификации: логистическая регрессия и решающие деревья"
   ]
  },
  {
   "cell_type": "markdown",
   "id": "41b8ff06",
   "metadata": {},
   "source": [
    "### Задание 1"
   ]
  },
  {
   "cell_type": "code",
   "execution_count": 93,
   "id": "8acc0166",
   "metadata": {},
   "outputs": [
    {
     "name": "stdout",
     "output_type": "stream",
     "text": [
      "Мерики на тестовых даннных\n",
      "               precision    recall  f1-score   support\n",
      "\n",
      "           0       0.81      0.86      0.83      1790\n",
      "           1       0.82      0.77      0.80      1545\n",
      "\n",
      "    accuracy                           0.82      3335\n",
      "   macro avg       0.82      0.81      0.81      3335\n",
      "weighted avg       0.82      0.82      0.82      3335\n",
      "\n",
      "Мерики на тренировочных данных\n",
      "               precision    recall  f1-score   support\n",
      "\n",
      "           0       0.84      0.88      0.86      3634\n",
      "           1       0.85      0.80      0.82      3136\n",
      "\n",
      "    accuracy                           0.84      6770\n",
      "   macro avg       0.84      0.84      0.84      6770\n",
      "weighted avg       0.84      0.84      0.84      6770\n",
      "\n"
     ]
    }
   ],
   "source": [
    "# обучите логистическую регрессию и рассчитайте метрики качества\n",
    "log_model = linear_model.LogisticRegression(random_state=42, solver='sag', max_iter=1000)\n",
    "log_model.fit(X_train_scal, y_train)\n",
    "y_test_pred = log_model.predict(X_test_scal)\n",
    "y_train_pred = log_model.predict(X_train_scal)\n",
    "print(f'Мерики на тестовых даннных\\n {metrics.classification_report(y_test, y_test_pred)}')\n",
    "print(f'Мерики на тренировочных данных\\n {metrics.classification_report(y_train, y_train_pred)}')"
   ]
  },
  {
   "cell_type": "markdown",
   "id": "29b7e0ba",
   "metadata": {},
   "source": [
    "### Задания 2,3,4"
   ]
  },
  {
   "cell_type": "code",
   "execution_count": 94,
   "id": "0fafd505",
   "metadata": {},
   "outputs": [
    {
     "name": "stdout",
     "output_type": "stream",
     "text": [
      "Мерики на тестовых даннных\n",
      "               precision    recall  f1-score   support\n",
      "\n",
      "           0       0.79      0.80      0.80      1790\n",
      "           1       0.77      0.75      0.76      1545\n",
      "\n",
      "    accuracy                           0.78      3335\n",
      "   macro avg       0.78      0.78      0.78      3335\n",
      "weighted avg       0.78      0.78      0.78      3335\n",
      "\n",
      "Мерики на тренировочных данных\n",
      "               precision    recall  f1-score   support\n",
      "\n",
      "           0       1.00      1.00      1.00      3634\n",
      "           1       1.00      1.00      1.00      3136\n",
      "\n",
      "    accuracy                           1.00      6770\n",
      "   macro avg       1.00      1.00      1.00      6770\n",
      "weighted avg       1.00      1.00      1.00      6770\n",
      "\n"
     ]
    }
   ],
   "source": [
    "tree_model = tree.DecisionTreeClassifier(random_state=42, criterion='entropy')\n",
    "tree_model.fit(X_train_scal, y_train)\n",
    "y_test_pred = tree_model.predict(X_test_scal)\n",
    "y_train_pred = tree_model.predict(X_train_scal)\n",
    "print(f'Мерики на тестовых даннных\\n {metrics.classification_report(y_test, y_test_pred)}')\n",
    "print(f'Мерики на тренировочных данных\\n {metrics.classification_report(y_train, y_train_pred)}')"
   ]
  },
  {
   "cell_type": "markdown",
   "id": "50d9d443",
   "metadata": {},
   "source": [
    "Можно наблюдать после реализации алгоритма и оценки его качества переобучение"
   ]
  },
  {
   "cell_type": "code",
   "execution_count": 95,
   "id": "c91a588b",
   "metadata": {},
   "outputs": [
    {
     "name": "stdout",
     "output_type": "stream",
     "text": [
      "Максимальная точность на тесте: 0.817\n",
      "Оптимальная глубина дерева: 9\n"
     ]
    },
    {
     "data": {
      "image/png": "[encoded data removed]",
      "text/plain": [
       "<Figure size 650x400 with 1 Axes>"
      ]
     },
     "metadata": {},
     "output_type": "display_data"
    }
   ],
   "source": [
    "# Перебираем значения max_deph \n",
    "# Считаем accuracy на тренировочной и тестовой выборках\n",
    "train_scores = []\n",
    "test_scores = []\n",
    "for max_depth in range(1,35):\n",
    "    dtree = tree.DecisionTreeClassifier(\n",
    "        criterion='entropy', random_state=42, max_depth=max_depth)\n",
    "    dtree.fit(X_train, y_train)\n",
    "    y_train_pred = dtree.predict(X_train)\n",
    "    y_test_pred = dtree.predict(X_test)\n",
    "    train_scores.append(metrics.accuracy_score(y_train, y_train_pred))\n",
    "    test_scores.append(metrics.accuracy_score(y_test, y_test_pred))\n",
    "    \n",
    "# Рисунок\n",
    "max_depth = list(range(1,35))\n",
    "fig = plt.figure(figsize=(6.5, 4))\n",
    "ax = sns.lineplot(x=max_depth, y=train_scores, label='Train sample')\n",
    "sns.lineplot(x=max_depth, y=test_scores, label='Test sample')\n",
    "ax.set(xlabel='Tree maximum depth', ylabel='Accuracy')\n",
    "ax.set_title('Validation curve\\n', fontsize=16);\n",
    "\n",
    "# Оптимальный параметр\n",
    "print(f'Максимальная точность на тесте: {np.amax(test_scores):.3f}')\n",
    "print(f'Оптимальная глубина дерева: {np.argmax(test_scores)}')"
   ]
  },
  {
   "cell_type": "markdown",
   "id": "fe823c18",
   "metadata": {},
   "source": [
    "### Задание 5"
   ]
  },
  {
   "cell_type": "code",
   "execution_count": 96,
   "id": "63574943",
   "metadata": {},
   "outputs": [
    {
     "name": "stdout",
     "output_type": "stream",
     "text": [
      "Best Hyperparameter Values: {'max_depth': 7, 'min_samples_split': 10}\n",
      "Best Models:DecisionTreeClassifier(criterion='entropy', max_depth=7, min_samples_split=10,\n",
      "                       random_state=42)\n",
      "Best score Cross validation: 0.795\n",
      "Мерики на тестовых даннных\n",
      "               precision    recall  f1-score   support\n",
      "\n",
      "           0       0.80      0.84      0.82      1790\n",
      "           1       0.81      0.75      0.78      1545\n",
      "\n",
      "    accuracy                           0.80      3335\n",
      "   macro avg       0.80      0.80      0.80      3335\n",
      "weighted avg       0.80      0.80      0.80      3335\n",
      "\n",
      "Мерики на тренировочных данных\n",
      "               precision    recall  f1-score   support\n",
      "\n",
      "           0       0.82      0.88      0.85      3634\n",
      "           1       0.85      0.77      0.81      3136\n",
      "\n",
      "    accuracy                           0.83      6770\n",
      "   macro avg       0.83      0.83      0.83      6770\n",
      "weighted avg       0.83      0.83      0.83      6770\n",
      "\n"
     ]
    }
   ],
   "source": [
    "# подберите оптимальные параметры с помощью gridsearch\n",
    "\n",
    "from sklearn.model_selection import GridSearchCV\n",
    "# задаём сетку параметров\n",
    "param_grid = [\n",
    "              {'min_samples_split': [2, 5, 7, 10] , # Минимальное количество выборок, необходимое для разделения внутреннего узла\n",
    "              'max_depth':[3,5,7] # Максимальная глубина дерева\n",
    "               }              \n",
    "]\n",
    "\n",
    "grid_search = GridSearchCV(\n",
    "    estimator=tree.DecisionTreeClassifier(criterion='entropy',\n",
    "        \n",
    "        random_state=42, #генератор случайных чисел\n",
    "        ), \n",
    "    param_grid=param_grid, \n",
    "    n_jobs = -1,\n",
    "    scoring='f1'\n",
    ")  \n",
    "\n",
    "grid_search.fit(X_train_scal, y_train) \n",
    "print(f'Best Hyperparameter Values: {grid_search.best_params_}')\n",
    "print(f'Best Models:{grid_search.best_estimator_}')\n",
    "print(f'Best score Cross validation: {grid_search.best_score_:.3f}')\n",
    "y_test_pred = grid_search.predict(X_test_scal)\n",
    "y_train_pred = grid_search.predict(X_train_scal)\n",
    "print(f'Мерики на тестовых даннных\\n {metrics.classification_report(y_test, y_test_pred)}')\n",
    "print(f'Мерики на тренировочных данных\\n {metrics.classification_report(y_train, y_train_pred)}')"
   ]
  },
  {
   "cell_type": "markdown",
   "id": "ed0fc831",
   "metadata": {},
   "source": [
    "# Часть 5: Решение задачи классификации: ансамбли моделей и построение прогноза"
   ]
  },
  {
   "cell_type": "markdown",
   "id": "f9e36ff2",
   "metadata": {},
   "source": [
    "### Задание 1"
   ]
  },
  {
   "cell_type": "code",
   "execution_count": 97,
   "id": "e708e3fe",
   "metadata": {},
   "outputs": [
    {
     "name": "stdout",
     "output_type": "stream",
     "text": [
      "Мерики на тестовых даннных\n",
      "               precision    recall  f1-score   support\n",
      "\n",
      "           0       0.87      0.83      0.85      1790\n",
      "           1       0.81      0.86      0.83      1545\n",
      "\n",
      "    accuracy                           0.84      3335\n",
      "   macro avg       0.84      0.84      0.84      3335\n",
      "weighted avg       0.84      0.84      0.84      3335\n",
      "\n",
      "Мерики на тренировочных данных\n",
      "               precision    recall  f1-score   support\n",
      "\n",
      "           0       0.90      0.86      0.88      3634\n",
      "           1       0.85      0.89      0.87      3136\n",
      "\n",
      "    accuracy                           0.87      6770\n",
      "   macro avg       0.87      0.88      0.87      6770\n",
      "weighted avg       0.88      0.87      0.87      6770\n",
      "\n"
     ]
    }
   ],
   "source": [
    "# обучите на ваших данных случайный лес\n",
    "forest_model = ensemble.RandomForestClassifier(\n",
    "    n_estimators=100,\n",
    "    random_state=42,\n",
    "    max_depth=10,\n",
    "    min_samples_leaf=5,\n",
    "    criterion='gini'\n",
    ")\n",
    "forest_model.fit(X_train_scal, y_train)\n",
    "y_train_pred = forest_model.predict(X_train_scal)\n",
    "y_test_pred = forest_model.predict(X_test_scal)\n",
    "print(f'Мерики на тестовых даннных\\n {metrics.classification_report(y_test, y_test_pred)}')\n",
    "print(f'Мерики на тренировочных данных\\n {metrics.classification_report(y_train, y_train_pred)}')"
   ]
  },
  {
   "cell_type": "markdown",
   "id": "71d7b13d",
   "metadata": {},
   "source": [
    "### Задания 2 и 3"
   ]
  },
  {
   "cell_type": "code",
   "execution_count": 100,
   "id": "99f12dfe",
   "metadata": {},
   "outputs": [
    {
     "name": "stdout",
     "output_type": "stream",
     "text": [
      "Тестовая выборка:\n",
      "              precision    recall  f1-score   support\n",
      "\n",
      "           0      0.883     0.837     0.859      1790\n",
      "           1      0.822     0.872     0.846      1545\n",
      "\n",
      "    accuracy                          0.853      3335\n",
      "   macro avg      0.853     0.854     0.853      3335\n",
      "weighted avg      0.855     0.853     0.853      3335\n",
      "\n"
     ]
    }
   ],
   "source": [
    "# используйте для классификации градиентный бустинг и сравните качество со случайным лесом\n",
    "\n",
    "gboost = ensemble.GradientBoostingClassifier(\n",
    "    learning_rate=0.05, n_estimators=300, min_samples_leaf=5,\n",
    "    max_depth=5, random_state=42)\n",
    "gboost.fit(X_train, y_train)\n",
    "\n",
    "y_test_pred = gboost.predict(X_test)\n",
    "print('Тестовая выборка:\\n{}'.format(\n",
    "    metrics.classification_report(y_test, y_test_pred, digits=3)))"
   ]
  },
  {
   "cell_type": "markdown",
   "id": "b08718ae",
   "metadata": {},
   "source": [
    "### Задание 4"
   ]
  },
  {
   "cell_type": "code",
   "execution_count": 101,
   "id": "0bd42fb0",
   "metadata": {},
   "outputs": [
    {
     "name": "stdout",
     "output_type": "stream",
     "text": [
      "Тестовая выборка:\n",
      "              precision    recall  f1-score   support\n",
      "\n",
      "           0      0.877     0.845     0.861      1790\n",
      "           1      0.828     0.862     0.845      1545\n",
      "\n",
      "    accuracy                          0.853      3335\n",
      "   macro avg      0.852     0.854     0.853      3335\n",
      "weighted avg      0.854     0.853     0.853      3335\n",
      "\n"
     ]
    }
   ],
   "source": [
    "# объедините уже известные вам алгоритмы с помощью стекинга \n",
    "dtree = tree.DecisionTreeClassifier(\n",
    "    criterion='entropy', max_depth=7, min_samples_split=7, random_state=42)\n",
    "logregr = linear_model.LogisticRegression(\n",
    "    solver='sag', max_iter=1000, random_state=42)\n",
    "gboost = ensemble.GradientBoostingClassifier(\n",
    "    learning_rate=0.05, n_estimators=300, min_samples_leaf=5, \n",
    "    max_depth=5, random_state=42)\n",
    "\n",
    "estimators = [\n",
    "    ('dtree', dtree), ('logregr', logregr), ('gboost', gboost)]\n",
    "\n",
    "stacked = ensemble.StackingClassifier(estimators=estimators)\n",
    "stacked.fit(X_train, y_train)\n",
    "\n",
    "y_test_pred = stacked.predict(X_test)\n",
    "print('Тестовая выборка:\\n{}'.format(\n",
    "    metrics.classification_report(y_test, y_test_pred, digits=3)))"
   ]
  },
  {
   "cell_type": "markdown",
   "id": "6247a5fb",
   "metadata": {},
   "source": [
    "### Задание 5"
   ]
  },
  {
   "cell_type": "code",
   "execution_count": 103,
   "id": "35de769c",
   "metadata": {},
   "outputs": [
    {
     "data": {
      "text/plain": [
       "[('campaign', 0.45027657258384124),\n",
       " ('previous', 0.044986525591326404),\n",
       " ('contact_unknown', 0.042915945556279235),\n",
       " ('duration', 0.04198529128133664),\n",
       " ('housing_bin', 0.031398406399568465),\n",
       " ('balance', 0.03008818392065482),\n",
       " ('pdays', 0.00874331757859254),\n",
       " ('month_may', 0.007347583651170182),\n",
       " ('age_group', 0.0056573422102472945),\n",
       " ('contact_cellular', 0.0038381614734488913),\n",
       " ('month_oct', 0.0012022996938354776),\n",
       " ('month_sep', 0.001169085954757298),\n",
       " ('poutcome_unknown', 0.0008617900006405829),\n",
       " ('poutcome_success', 0.00033389341944757675),\n",
       " ('month_mar', 0.00032503268153015545)]"
      ]
     },
     "execution_count": 103,
     "metadata": {},
     "output_type": "execute_result"
    }
   ],
   "source": [
    "# оцените, какие признаки демонстрируют наибольшую  важность в модели градиентного бустинга\n",
    "\n",
    "gboost = ensemble.GradientBoostingClassifier(\n",
    "    learning_rate=0.05, n_estimators=300, min_samples_leaf=5, \n",
    "    max_depth=5, random_state=42)\n",
    "gboost.fit(X_train, y_train)\n",
    "sorted(list(zip(selector_col, gboost.feature_importances_)), \n",
    "       key=lambda x: x[1], reverse=True)"
   ]
  },
  {
   "cell_type": "markdown",
   "id": "96974dda",
   "metadata": {},
   "source": [
    "### Задания 6,7,8"
   ]
  },
  {
   "cell_type": "code",
   "execution_count": 107,
   "id": "c48e29e9",
   "metadata": {},
   "outputs": [
    {
     "name": "stderr",
     "output_type": "stream",
     "text": [
      "[I 2023-07-31 20:43:19,281] A new study created in memory with name: RF_Classifier\n",
      "[I 2023-07-31 20:43:24,322] Trial 0 finished with value: 0.8430328744389934 and parameters: {'n_estimators': 137, 'max_depth': 29, 'min_samples_leaf': 8}. Best is trial 0 with value: 0.8430328744389934.\n",
      "[I 2023-07-31 20:43:30,704] Trial 1 finished with value: 0.8460975983703861 and parameters: {'n_estimators': 160, 'max_depth': 13, 'min_samples_leaf': 3}. Best is trial 1 with value: 0.8460975983703861.\n",
      "[I 2023-07-31 20:43:34,598] Trial 2 finished with value: 0.842340821781281 and parameters: {'n_estimators': 105, 'max_depth': 28, 'min_samples_leaf': 7}. Best is trial 1 with value: 0.8460975983703861.\n",
      "[I 2023-07-31 20:43:39,858] Trial 3 finished with value: 0.8382698531969037 and parameters: {'n_estimators': 171, 'max_depth': 10, 'min_samples_leaf': 10}. Best is trial 1 with value: 0.8460975983703861.\n",
      "[I 2023-07-31 20:43:46,859] Trial 4 finished with value: 0.843915794176815 and parameters: {'n_estimators': 184, 'max_depth': 14, 'min_samples_leaf': 3}. Best is trial 1 with value: 0.8460975983703861.\n",
      "[I 2023-07-31 20:43:51,184] Trial 5 finished with value: 0.8434693662122751 and parameters: {'n_estimators': 118, 'max_depth': 16, 'min_samples_leaf': 6}. Best is trial 1 with value: 0.8460975983703861.\n",
      "[I 2023-07-31 20:43:56,168] Trial 6 finished with value: 0.8415042041971738 and parameters: {'n_estimators': 143, 'max_depth': 16, 'min_samples_leaf': 7}. Best is trial 1 with value: 0.8460975983703861.\n",
      "[I 2023-07-31 20:44:00,368] Trial 7 finished with value: 0.84514745650995 and parameters: {'n_estimators': 114, 'max_depth': 16, 'min_samples_leaf': 5}. Best is trial 1 with value: 0.8460975983703861.\n",
      "[I 2023-07-31 20:44:06,375] Trial 8 finished with value: 0.849008850929305 and parameters: {'n_estimators': 146, 'max_depth': 26, 'min_samples_leaf': 3}. Best is trial 8 with value: 0.849008850929305.\n",
      "[I 2023-07-31 20:44:13,033] Trial 9 finished with value: 0.8502078485721407 and parameters: {'n_estimators': 151, 'max_depth': 22, 'min_samples_leaf': 2}. Best is trial 9 with value: 0.8502078485721407.\n"
     ]
    },
    {
     "name": "stdout",
     "output_type": "stream",
     "text": [
      "Лучшие параметры:\n",
      "{'n_estimators': 151, 'max_depth': 22, 'min_samples_leaf': 2}\n"
     ]
    }
   ],
   "source": [
    "# реализуйте оптимизацию гиперпараметров с помощью Optuna\n",
    "# (реализуем для случайного леса)\n",
    "import optuna\n",
    "from sklearn.model_selection import cross_val_score\n",
    "\n",
    "def obj_func(trial):\n",
    "    # пространство гиперпараметров\n",
    "    n_estimators = trial.suggest_int('n_estimators', 100, 200, 1)\n",
    "    max_depth = trial.suggest_int('max_depth', 10, 30, 1)\n",
    "    min_samples_leaf = trial.suggest_int('min_samples_leaf', 2, 10, 1)\n",
    "\n",
    "    # модель\n",
    "    model = ensemble.RandomForestClassifier(\n",
    "        n_estimators=n_estimators,\n",
    "        max_depth=max_depth,\n",
    "        min_samples_leaf=min_samples_leaf,\n",
    "        random_state=42)\n",
    "    \n",
    "    # обучаем модель\n",
    "    model.fit(X_train, y_train)\n",
    "    score = cross_val_score(\n",
    "        model, X_train, y_train, cv=5, scoring='f1').mean()\n",
    "    \n",
    "    return score\n",
    "\n",
    "\n",
    "# Поиск оптимальных гиперпараметров\n",
    "sampler = optuna.samplers.TPESampler(seed=42)\n",
    "study = optuna.create_study(\n",
    "    sampler=sampler, study_name='RF_Classifier', direction='maximize')\n",
    "study.optimize(obj_func, n_trials=10)\n",
    "print(f'Лучшие параметры:\\n{study.best_params}')"
   ]
  },
  {
   "cell_type": "code",
   "execution_count": 108,
   "id": "c1398743",
   "metadata": {},
   "outputs": [
    {
     "name": "stdout",
     "output_type": "stream",
     "text": [
      "Тестовая выборка:\n",
      "              precision    recall  f1-score   support\n",
      "\n",
      "           0      0.884     0.834     0.858      1790\n",
      "           1      0.819     0.873     0.845      1545\n",
      "\n",
      "    accuracy                          0.852      3335\n",
      "   macro avg      0.851     0.853     0.852      3335\n",
      "weighted avg      0.854     0.852     0.852      3335\n",
      "\n"
     ]
    }
   ],
   "source": [
    "# Модель с лучшими параметрами  \n",
    "rf_best = ensemble.RandomForestClassifier(\n",
    "    **study.best_params, random_state=42)\n",
    "rf_best.fit(X_train, y_train)\n",
    "y_test_pred = rf_best.predict(X_test)\n",
    "print('Тестовая выборка:\\n{}'.format(\n",
    "    metrics.classification_report(y_test, y_test_pred, digits=3)))"
   ]
  },
  {
   "cell_type": "markdown",
   "id": "0b254b35",
   "metadata": {},
   "source": [
    "*Общий вывод*\n",
    "\n",
    "* Проведена предобработка признаков. Простыми способами (медиана, мода) заменены пропущенные значения. Методом Тьюкки удалены выбросы баланса.\n",
    "* Проведен разведывательный анализ данных в контексте влияния на целевой признак.\n",
    "* Проведено кодирование признаков и масштабирование значений. Для соответствия ответам на обучающей платформе не соблюдается порядковое кодирование возрастных групп - фактически они маркируются как несвязанные зависимостью классы (Label Encoder). Не проводилась трансформация признаков к нормальному распределению.\n",
    "* На основе корреляции Кендалла дана оценка влияния признаков на целевой признак (выбрана из-за очевидного отсутствия связи с целевым признаком по монотонной функции, а также ввиду распределений признаков, отличных от нормальных). С помощью ANOVA F-value (f_classif) для построения моделей отобраны 15 наиболее значимых признаков, отобор в целом соответствует результатам по корреляции Кендалла. Попытка отобрать признаки по взаимной информации (mutual_info_classif, не отображено в данном ноутбуке) показала большое несоответствие с оценкой значимости по корреляции Кендалла.\n",
    "* Построены простые базовые модели - логистическая регрессия и решающее дерево.\n",
    "* Построены ансамблевые модели - случайный лес, градиентный бустинг на решающих деревьх, стекинг из деревьев, регрессии и бустинга.\n",
    "* Реализованы примеры подбора гиперпараметров - поиск по сетке, Tree-tructured Parzen estimator (в Optuna).\n",
    "* На каждом этапе моделирования оценивались метрики качества классификации. Ансамблевые решения закономерно показывают лучшие значения. Какая либо качественная разница между ансамблевыми моделями на данном датасете не прослеживается. Подбор гиперпараметров модели случайного леса незначительно, на десятые доли процента, улучшил результат.\n",
    "* Задача решена на базовом уровне в соответствии с минимумом требований, необходимых для сдачи проекта. Безусловно остается потенциал по возможному улучшению метрик при более тщательной и творческой обработке признаков, транформации данных, экспериментировании с различными моделями."
   ]
  }
 ],
 "metadata": {
  "kernelspec": {
   "display_name": "Python 3 (ipykernel)",
   "language": "python",
   "name": "python3"
  },
  "language_info": {
   "codemirror_mode": {
    "name": "ipython",
    "version": 3
   },
   "file_extension": ".py",
   "mimetype": "text/x-python",
   "name": "python",
   "nbconvert_exporter": "python",
   "pygments_lexer": "ipython3",
   "version": "3.11.0"
  }
 },
 "nbformat": 4,
 "nbformat_minor": 5
}
